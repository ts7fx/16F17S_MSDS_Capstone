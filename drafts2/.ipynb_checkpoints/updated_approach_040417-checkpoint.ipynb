{
 "cells": [
  {
   "cell_type": "code",
   "execution_count": 2,
   "metadata": {
    "collapsed": true
   },
   "outputs": [],
   "source": [
    "import numpy as np\n",
    "import pandas as pd\n",
    "import matplotlib.pyplot as plt\n",
    "from sklearn.ensemble import IsolationForest\n",
    "from sklearn.neighbors import LocalOutlierFactor\n",
    "from sklearn.cluster import KMeans\n",
    "from scipy import stats\n",
    "from scipy.spatial import distance\n",
    "import random\n",
    "random.seed(8888)"
   ]
  },
  {
   "cell_type": "code",
   "execution_count": 3,
   "metadata": {
    "collapsed": true
   },
   "outputs": [],
   "source": [
    "# KSE \n",
    "def euc_dis(p1,p2):\n",
    "    a = p1.values\n",
    "    b = p2.values\n",
    "    c = np.vstack((a,b))\n",
    "    dist = distance.pdist(c)\n",
    "    return float(dist)\n",
    "def KSE_Test(df, sample_size):\n",
    "    # initiate two sample dfs, one distance matrix, and one kse score.\n",
    "    # generate 2 random samples.\n",
    "    sample1 = df.sample(n = sample_size, replace = False)\n",
    "    sample2 = df.sample(n = sample_size, replace = False)\n",
    "    kse_score = [] # empty list to store KSE scores\n",
    "#   distance_matrix = np.matrix([[None] * int(len(df) * fraction) , \n",
    "#                               [None] * int(len(df) * fraction)])\n",
    "#     distance_matrix = [[0 for x in range(len(sample1))] \n",
    "#                        for y in range(len(sample2))] \n",
    "    distance_matrix = np.zeros((sample_size, sample_size))\n",
    "    # calculate distance from all points in sample1 to all points in sample2\n",
    "    for i in range(0,sample_size):\n",
    "        for j in range(0,sample_size):\n",
    "            distance_matrix[i][j] = euc_dis(sample1.iloc[i,],sample2.iloc[j,])\n",
    "    # calculate average KS-score for each instance in df.\n",
    "    for i in range(0, len(df)):\n",
    "        observed_instance = df.iloc[i,]\n",
    "        distance_array = [0] * sample_size\n",
    "        for j in range(0,sample_size):\n",
    "            distance_array[j] = euc_dis(observed_instance,sample2.iloc[j,])\n",
    "        sum = 0\n",
    "        for k in range(0, sample_size):\n",
    "            ks_score = stats.ks_2samp(distance_array, distance_matrix[k])[0]\n",
    "            sum += ks_score\n",
    "        average = sum/sample_size\n",
    "        #kse_score[i] = average\n",
    "        kse_score.append((i, average))\n",
    "#         if (i%1000 == 0):\n",
    "#             print('loop %s' % i)\n",
    "    print(\"done\")\n",
    "    return kse_score \n",
    "\n",
    "def iForest(df):\n",
    "    clf = IsolationForest(max_samples=1000, contamination=0.05,random_state= 5, bootstrap=False)\n",
    "    clf.fit(df)\n",
    "    y_pred = clf.predict(df)\n",
    "    anomalies = df[y_pred == -1]\n",
    "    return anomalies\n",
    "\n",
    "def final_result(anom_df):\n",
    "    kse_result = KSE_Test(anom_df, int(0.5 * len(anom_df)))\n",
    "    index_anom = [] \n",
    "    for i in kse_result:\n",
    "        if i[1] > 0.5:\n",
    "            index_anom.append(i[0])\n",
    "    # final result is a data set of the anomalies of the anomalies\n",
    "    final = anom_df.iloc[index_anom]\n",
    "    return final"
   ]
  },
  {
   "cell_type": "code",
   "execution_count": 6,
   "metadata": {
    "collapsed": true
   },
   "outputs": [],
   "source": [
    "## updated approach. Input from Don. "
   ]
  },
  {
   "cell_type": "code",
   "execution_count": 7,
   "metadata": {
    "collapsed": true
   },
   "outputs": [],
   "source": [
    "## 1. Compare raw data for everyday using ks-test"
   ]
  },
  {
   "cell_type": "code",
   "execution_count": 8,
   "metadata": {
    "collapsed": true
   },
   "outputs": [],
   "source": [
    "## 2. Look into results returned by KSE -- are the results interesting?\n",
    "## 2a. Play around with sample size for KSE test and see if anything interesting happens."
   ]
  },
  {
   "cell_type": "code",
   "execution_count": 9,
   "metadata": {
    "collapsed": true
   },
   "outputs": [],
   "source": [
    "## 3. Density plot for raw data, density plot for KSE results, for 5 days"
   ]
  },
  {
   "cell_type": "code",
   "execution_count": 10,
   "metadata": {
    "collapsed": true
   },
   "outputs": [],
   "source": [
    "## 4. Consider normalization of data. \n",
    "## 4a. Straight mean variance normalization."
   ]
  },
  {
   "cell_type": "code",
   "execution_count": 4,
   "metadata": {
    "collapsed": false
   },
   "outputs": [
    {
     "data": {
      "text/plain": [
       "[0.32583732906616036,\n",
       " 0.33502583190638952,\n",
       " 0.54031852075946185,\n",
       " 0.51960360580857501,\n",
       " 0.15874322343012037,\n",
       " 0.35185011570843894,\n",
       " 0.32241929776734024,\n",
       " 0.33151653502643397,\n",
       " 0.307728961966799,\n",
       " 0.19588922060776592]"
      ]
     },
     "execution_count": 4,
     "metadata": {},
     "output_type": "execute_result"
    }
   ],
   "source": [
    "# Q1, for pages\n",
    "mon = pd.read_csv('~/Desktop/data/data02_13_morning_Pages', sep = ',')\n",
    "tue = pd.read_csv('~/Desktop/data/data02_14_morning_Pages', sep = ',')\n",
    "wed = pd.read_csv('~/Desktop/data/data02_15_morning_Pages', sep = ',')\n",
    "thur = pd.read_csv('~/Desktop/data/data02_16_morning_Pages', sep = ',')\n",
    "fri = pd.read_csv('~/Desktop/data/data02_17_morning_Pages', sep = ',')\n",
    "\n",
    "ab = stats.ks_2samp(mon.bytes, tue.bytes)[0]\n",
    "ac = stats.ks_2samp(mon.bytes, wed.bytes)[0]\n",
    "ad = stats.ks_2samp(mon.bytes, thur.bytes)[0]\n",
    "ae = stats.ks_2samp(mon.bytes, fri.bytes)[0]\n",
    "\n",
    "bc = stats.ks_2samp(tue.bytes, wed.bytes)[0]\n",
    "bd = stats.ks_2samp(tue.bytes, thur.bytes)[0]\n",
    "be = stats.ks_2samp(tue.bytes, fri.bytes)[0]\n",
    "\n",
    "cd = stats.ks_2samp(wed.bytes, thur.bytes)[0]\n",
    "ce = stats.ks_2samp(wed.bytes, fri.bytes)[0]\n",
    "\n",
    "de = stats.ks_2samp(thur.bytes, fri.bytes)[0]\n",
    "\n",
    "results = [ab,ac,ad,ae,bc,bd,be,cd,ce,de]\n",
    "results # <- shows insteresting results for Mon-Thur and Mon-Fri"
   ]
  },
  {
   "cell_type": "code",
   "execution_count": 13,
   "metadata": {
    "collapsed": false
   },
   "outputs": [
    {
     "data": {
      "text/plain": [
       "[0.26159825115375268,\n",
       " 0.33800342291165975,\n",
       " 0.34272678475577023,\n",
       " 0.37336754984683185,\n",
       " 0.15484498844314681,\n",
       " 0.23351955307262567,\n",
       " 0.24862890250050063,\n",
       " 0.14620013648489361,\n",
       " 0.17759584904332129,\n",
       " 0.10678173022631199]"
      ]
     },
     "execution_count": 13,
     "metadata": {},
     "output_type": "execute_result"
    }
   ],
   "source": [
    "# Q1, for ECE\n",
    "mon = pd.read_csv('~/Desktop/data/data02_13_morning_Ece', sep = ',')\n",
    "tue = pd.read_csv('~/Desktop/data/data02_14_morning_Ece', sep = ',')\n",
    "wed = pd.read_csv('~/Desktop/data/data02_15_morning_Ece', sep = ',')\n",
    "thur = pd.read_csv('~/Desktop/data/data02_16_morning_Ece', sep = ',')\n",
    "fri = pd.read_csv('~/Desktop/data/data02_17_morning_Ece', sep = ',')\n",
    "\n",
    "ab = stats.ks_2samp(mon.bytes, tue.bytes)[0]\n",
    "ac = stats.ks_2samp(mon.bytes, wed.bytes)[0]\n",
    "ad = stats.ks_2samp(mon.bytes, thur.bytes)[0]\n",
    "ae = stats.ks_2samp(mon.bytes, fri.bytes)[0]\n",
    "\n",
    "bc = stats.ks_2samp(tue.bytes, wed.bytes)[0]\n",
    "bd = stats.ks_2samp(tue.bytes, thur.bytes)[0]\n",
    "be = stats.ks_2samp(tue.bytes, fri.bytes)[0]\n",
    "\n",
    "cd = stats.ks_2samp(wed.bytes, thur.bytes)[0]\n",
    "ce = stats.ks_2samp(wed.bytes, fri.bytes)[0]\n",
    "\n",
    "de = stats.ks_2samp(thur.bytes, fri.bytes)[0]\n",
    "\n",
    "results = [ab,ac,ad,ae,bc,bd,be,cd,ce,de]\n",
    "results # <- every value is less than 0.5, just as expected."
   ]
  },
  {
   "cell_type": "code",
   "execution_count": 5,
   "metadata": {
    "collapsed": false
   },
   "outputs": [
    {
     "name": "stdout",
     "output_type": "stream",
     "text": [
      "done\n",
      "done\n",
      "done\n",
      "done\n",
      "done\n"
     ]
    }
   ],
   "source": [
    "# Q2 Look into results returned by KSE for pages -- are the results interesting?\n",
    "\n",
    "## Raw data\n",
    "mon = pd.read_csv('~/Desktop/data/data02_13_morning_Pages', sep = ',')[[\"bytes\",\"pkts\",\"dur\",\"rate\"]]\n",
    "tue = pd.read_csv('~/Desktop/data/data02_14_morning_Pages', sep = ',')[[\"bytes\",\"pkts\",\"dur\",\"rate\"]]\n",
    "wed = pd.read_csv('~/Desktop/data/data02_15_morning_Pages', sep = ',')[[\"bytes\",\"pkts\",\"dur\",\"rate\"]]\n",
    "thur = pd.read_csv('~/Desktop/data/data02_16_morning_Pages', sep = ',')[[\"bytes\",\"pkts\",\"dur\",\"rate\"]]\n",
    "fri = pd.read_csv('~/Desktop/data/data02_17_morning_Pages', sep = ',')[[\"bytes\",\"pkts\",\"dur\",\"rate\"]]\n",
    "\n",
    "## Anomalous data\n",
    "mon_anom = iForest(mon)\n",
    "tue_anom = iForest(tue)\n",
    "wed_anom = iForest(wed)\n",
    "thur_anom = iForest(thur)\n",
    "fri_anom = iForest(fri)\n",
    "\n",
    "## Final results\n",
    "mon_final = final_result(mon_anom)\n",
    "tue_final = final_result(tue_anom)\n",
    "wed_final = final_result(wed_anom)\n",
    "thur_final = final_result(thur_anom)\n",
    "fri_final = final_result(fri_anom)"
   ]
  },
  {
   "cell_type": "code",
   "execution_count": 6,
   "metadata": {
    "collapsed": true
   },
   "outputs": [],
   "source": [
    "# Q3 Density plots\n",
    "%matplotlib inline\n",
    "import seaborn as sns\n",
    "sns.set(color_codes=True)"
   ]
  },
  {
   "cell_type": "code",
   "execution_count": 7,
   "metadata": {
    "collapsed": false
   },
   "outputs": [
    {
     "name": "stderr",
     "output_type": "stream",
     "text": [
      "/Users/ChineseSamurai/anaconda/lib/python3.5/site-packages/statsmodels/nonparametric/kdetools.py:20: VisibleDeprecationWarning: using a non-integer number instead of an integer will result in an error in the future\n",
      "  y = X[:m/2+1] + np.r_[0,X[m/2+1:],0]*1j\n"
     ]
    },
    {
     "data": {
      "text/plain": [
       "<matplotlib.legend.Legend at 0x11344bb70>"
      ]
     },
     "execution_count": 7,
     "metadata": {},
     "output_type": "execute_result"
    },
    {
     "data": {
      "image/png": "[encoded data removed]",
      "text/plain": [
       "<matplotlib.figure.Figure at 0x112b50550>"
      ]
     },
     "metadata": {},
     "output_type": "display_data"
    }
   ],
   "source": [
    "fig, (ax_1, ax_2, ax_3) = plt.subplots(1, 3, figsize=(12, 5))\n",
    "\n",
    "sns.distplot(mon.bytes, label = 'mon', hist=False, ax = ax_1)\n",
    "sns.distplot(tue.bytes, label = 'tue', hist=False, ax = ax_1)\n",
    "sns.distplot(wed.bytes, label = 'wed', hist=False,ax = ax_1)\n",
    "sns.distplot(thur.bytes, label = 'thur', hist=False,ax = ax_1)\n",
    "sns.distplot(fri.bytes, label = 'fri', hist=False,ax = ax_1)\n",
    "\n",
    "sns.distplot(mon_anom.bytes, label = 'mon', hist=False, ax = ax_2)\n",
    "sns.distplot(tue_anom.bytes, label = 'tue', hist=False, ax = ax_2)\n",
    "sns.distplot(wed_anom.bytes, label = 'wed', hist=False,ax = ax_2)\n",
    "sns.distplot(thur_anom.bytes, label = 'thur', hist=False,ax = ax_2)\n",
    "sns.distplot(fri_anom.bytes, label = 'fri', hist=False,ax = ax_2)\n",
    "\n",
    "sns.distplot(mon_final.bytes, label = 'mon', hist=False, ax = ax_3)\n",
    "sns.distplot(tue_final.bytes, label = 'tue', hist=False, ax = ax_3)\n",
    "sns.distplot(wed_final.bytes, label = 'wed', hist=False, ax = ax_3)\n",
    "sns.distplot(thur_final.bytes, label = 'thur', hist=False,ax = ax_3)\n",
    "sns.distplot(fri_final.bytes, label = 'fri', hist=False,ax = ax_3)\n",
    "\n",
    "ax_1.legend()\n",
    "ax_2.legend()\n",
    "ax_3.legend()\n",
    "\n"
   ]
  },
  {
   "cell_type": "code",
   "execution_count": 8,
   "metadata": {
    "collapsed": true
   },
   "outputs": [],
   "source": [
    "#### So what can we do about Q2??"
   ]
  },
  {
   "cell_type": "code",
   "execution_count": 8,
   "metadata": {
    "collapsed": false
   },
   "outputs": [],
   "source": [
    "# summary statistics on anomlaies versus final results\n",
    "#round(mon_anom[['bytes','pkts', 'dur','rate']].describe(), 3)"
   ]
  },
  {
   "cell_type": "code",
   "execution_count": 9,
   "metadata": {
    "collapsed": false
   },
   "outputs": [],
   "source": [
    "#round(mon_final[['bytes','pkts', 'dur','rate']].describe(), 3)"
   ]
  },
  {
   "cell_type": "code",
   "execution_count": 10,
   "metadata": {
    "collapsed": false
   },
   "outputs": [],
   "source": [
    "#mon_final.sort('rate', ascending=0)"
   ]
  },
  {
   "cell_type": "code",
   "execution_count": 11,
   "metadata": {
    "collapsed": false
   },
   "outputs": [],
   "source": [
    "#mon_anom.sort('rate', ascending=0).head(len(mon_final)) == mon_final.sort('rate', ascending=0)"
   ]
  },
  {
   "cell_type": "code",
   "execution_count": 12,
   "metadata": {
    "collapsed": false,
    "scrolled": true
   },
   "outputs": [],
   "source": [
    "#tue_anom.sort('rate', ascending=0).head(len(tue_final)) "
   ]
  },
  {
   "cell_type": "code",
   "execution_count": 13,
   "metadata": {
    "collapsed": false
   },
   "outputs": [],
   "source": [
    "#tue_final.sort('rate', ascending=0)"
   ]
  },
  {
   "cell_type": "code",
   "execution_count": null,
   "metadata": {
    "collapsed": false
   },
   "outputs": [],
   "source": [
    "mon_normalized = pd.read_csv('~/Desktop/data/normalized/data02_13_morning_Pages_normalized', sep = ',')[[\"bytes\",\"pkts\",\"dur\",\"rate\"]]\n",
    "tue_normalized = pd.read_csv('~/Desktop/data/normalized/data02_14_morning_Pages_normalized', sep = ',')[[\"bytes\",\"pkts\",\"dur\",\"rate\"]]\n",
    "wed_normalized = pd.read_csv('~/Desktop/data/normalized/data02_15_morning_Pages_normalized', sep = ',')[[\"bytes\",\"pkts\",\"dur\",\"rate\"]]\n",
    "thur_normalized = pd.read_csv('~/Desktop/data/normalized/data02_16_morning_Pages_normalized', sep = ',')[[\"bytes\",\"pkts\",\"dur\",\"rate\"]]\n",
    "fri_normalized = pd.read_csv('~/Desktop/data/normalized/data02_17_morning_Pages_normalized', sep = ',')[[\"bytes\",\"pkts\",\"dur\",\"rate\"]]\n",
    "\n",
    "## Anomalous data\n",
    "mon_norm_anom = iForest(mon)\n",
    "tue_norm_norm_anom = iForest(tue)\n",
    "wed_norm_anom = iForest(wed)\n",
    "thur_norm_anom = iForest(thur)\n",
    "fri_norm_anom = iForest(fri)\n",
    "\n",
    "## Final results\n",
    "mon_norm_final = final_result(mon_norm_anom)\n",
    "tue_norm_final = final_result(tue_norm_anom)\n",
    "wed_norm_final = final_result(wed_norm_anom)\n",
    "thur_norm_final = final_result(thur_norm_anom)\n",
    "fri_norm_final = final_result(fri_norm_anom)"
   ]
  },
  {
   "cell_type": "code",
   "execution_count": null,
   "metadata": {
    "collapsed": true
   },
   "outputs": [],
   "source": [
    "fig, (ax_1, ax_2, ax_3) = plt.subplots(1, 3, figsize=(12, 5))\n",
    "\n",
    "sns.distplot(mon_normalized.bytes, label = 'mon', hist=False, ax = ax_1)\n",
    "sns.distplot(tue_normalized.bytes, label = 'tue', hist=False, ax = ax_1)\n",
    "sns.distplot(wed_normalized.bytes, label = 'wed', hist=False,ax = ax_1)\n",
    "sns.distplot(thur_normalized.bytes, label = 'thur', hist=False,ax = ax_1)\n",
    "sns.distplot(fri_normalized.bytes, label = 'fri', hist=False,ax = ax_1)\n",
    "\n",
    "sns.distplot(mon_norm_anom.bytes, label = 'mon', hist=False, ax = ax_2)\n",
    "sns.distplot(tue_norm_anom.bytes, label = 'tue', hist=False, ax = ax_2)\n",
    "sns.distplot(wed_norm_anom.bytes, label = 'wed', hist=False,ax = ax_2)\n",
    "sns.distplot(thur_norm_anom.bytes, label = 'thur', hist=False,ax = ax_2)\n",
    "sns.distplot(fri_norm_anom.bytes, label = 'fri', hist=False,ax = ax_2)\n",
    "\n",
    "sns.distplot(mon_norm_final.bytes, label = 'mon', hist=False, ax = ax_3)\n",
    "sns.distplot(tue_norm_final.bytes, label = 'tue', hist=False, ax = ax_3)\n",
    "sns.distplot(wed_norm_final.bytes, label = 'wed', hist=False, ax = ax_3)\n",
    "sns.distplot(thur_norm_final.bytes, label = 'thur', hist=False,ax = ax_3)\n",
    "sns.distplot(fri_norm_final.bytes, label = 'fri', hist=False,ax = ax_3)\n",
    "\n",
    "ax_1.legend()\n",
    "ax_2.legend()\n",
    "ax_3.legend()\n",
    "\n"
   ]
  },
  {
   "cell_type": "code",
   "execution_count": null,
   "metadata": {
    "collapsed": true
   },
   "outputs": [],
   "source": []
  }
 ],
 "metadata": {
  "anaconda-cloud": {},
  "kernelspec": {
   "display_name": "Python [default]",
   "language": "python",
   "name": "python3"
  },
  "language_info": {
   "codemirror_mode": {
    "name": "ipython",
    "version": 3
   },
   "file_extension": ".py",
   "mimetype": "text/x-python",
   "name": "python",
   "nbconvert_exporter": "python",
   "pygments_lexer": "ipython3",
   "version": "3.5.2"
  }
 },
 "nbformat": 4,
 "nbformat_minor": 1
}
