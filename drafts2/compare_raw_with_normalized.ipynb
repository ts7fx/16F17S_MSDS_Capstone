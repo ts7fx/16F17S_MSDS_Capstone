{
 "cells": [
  {
   "cell_type": "code",
   "execution_count": 1,
   "metadata": {
    "collapsed": true
   },
   "outputs": [],
   "source": [
    "import numpy as np\n",
    "import pandas as pd\n",
    "import matplotlib.pyplot as plt\n",
    "from sklearn.ensemble import IsolationForest\n",
    "from sklearn.neighbors import LocalOutlierFactor\n",
    "from sklearn.cluster import KMeans\n",
    "from scipy import stats\n",
    "from scipy.spatial import distance\n",
    "import random\n",
    "random.seed(8888)"
   ]
  },
  {
   "cell_type": "code",
   "execution_count": 2,
   "metadata": {
    "collapsed": true
   },
   "outputs": [],
   "source": [
    "# KSE \n",
    "def euc_dis(p1,p2):\n",
    "    a = p1.values\n",
    "    b = p2.values\n",
    "    c = np.vstack((a,b))\n",
    "    dist = distance.pdist(c)\n",
    "    return float(dist)\n",
    "def KSE_Test(df, sample_size):\n",
    "    # initiate two sample dfs, one distance matrix, and one kse score.\n",
    "    # generate 2 random samples.\n",
    "    sample1 = df.sample(n = sample_size, replace = False)\n",
    "    sample2 = df.sample(n = sample_size, replace = False)\n",
    "    kse_score = [] # empty list to store KSE scores\n",
    "#   distance_matrix = np.matrix([[None] * int(len(df) * fraction) , \n",
    "#                               [None] * int(len(df) * fraction)])\n",
    "#     distance_matrix = [[0 for x in range(len(sample1))] \n",
    "#                        for y in range(len(sample2))] \n",
    "    distance_matrix = np.zeros((sample_size, sample_size))\n",
    "    # calculate distance from all points in sample1 to all points in sample2\n",
    "    for i in range(0,sample_size):\n",
    "        for j in range(0,sample_size):\n",
    "            distance_matrix[i][j] = euc_dis(sample1.iloc[i,],sample2.iloc[j,])\n",
    "    # calculate average KS-score for each instance in df.\n",
    "    for i in range(0, len(df)):\n",
    "        observed_instance = df.iloc[i,]\n",
    "        distance_array = [0] * sample_size\n",
    "        for j in range(0,sample_size):\n",
    "            distance_array[j] = euc_dis(observed_instance,sample2.iloc[j,])\n",
    "        sum = 0\n",
    "        for k in range(0, sample_size):\n",
    "            ks_score = stats.ks_2samp(distance_array, distance_matrix[k])[0]\n",
    "            sum += ks_score\n",
    "        average = sum/sample_size\n",
    "        #kse_score[i] = average\n",
    "        kse_score.append((i, average))\n",
    "#         if (i%1000 == 0):\n",
    "#             print('loop %s' % i)\n",
    "    print(\"done\")\n",
    "    return kse_score \n",
    "\n",
    "def iForest(df):\n",
    "    clf = IsolationForest(max_samples=1000, contamination=0.05,random_state= 5, bootstrap=False)\n",
    "    clf.fit(df)\n",
    "    y_pred = clf.predict(df)\n",
    "    anomalies = df[y_pred == -1]\n",
    "    return anomalies\n",
    "\n",
    "def final_result(anom_df):\n",
    "    kse_result = KSE_Test(anom_df, int(0.5 * len(anom_df)))\n",
    "    index_anom = [] \n",
    "    for i in kse_result:\n",
    "        if i[1] > 0.5:\n",
    "            index_anom.append(i[0])\n",
    "    # final result is a data set of the anomalies of the anomalies\n",
    "    final = anom_df.iloc[index_anom]\n",
    "    return final"
   ]
  },
  {
   "cell_type": "code",
   "execution_count": 6,
   "metadata": {
    "collapsed": true
   },
   "outputs": [],
   "source": [
    "# run iForest approach for raw, and normalized data for Monday morning for Pages, to see if results are the same.\n",
    "mon = pd.read_csv('~/Desktop/data/data02_13_morning_Pages', sep = ',')[[\"bytes\",\"pkts\",\"dur\",\"rate\"]]\n",
    "mon_normalized = pd.read_csv('~/Desktop/data/normalized_data/data02_13_morning_Pages_normalized', sep = ',')[[\"bytes\",\"pkts\",\"dur\",\"rate\"]]"
   ]
  },
  {
   "cell_type": "code",
   "execution_count": 9,
   "metadata": {
    "collapsed": false
   },
   "outputs": [],
   "source": [
    "mon_anom = iForest(mon)\n",
    "mon_normalized_anom = iForest(mon_normalized)"
   ]
  },
  {
   "cell_type": "code",
   "execution_count": 15,
   "metadata": {
    "collapsed": false
   },
   "outputs": [
    {
     "data": {
      "text/plain": [
       "40"
      ]
     },
     "execution_count": 15,
     "metadata": {},
     "output_type": "execute_result"
    }
   ],
   "source": [
    "s = set(mon_anom.index.values)\n",
    "t = set(mon_normalized_anom.index.values)\n",
    "len(s.intersection(t))"
   ]
  },
  {
   "cell_type": "code",
   "execution_count": 16,
   "metadata": {
    "collapsed": false
   },
   "outputs": [
    {
     "name": "stdout",
     "output_type": "stream",
     "text": [
      "done\n",
      "done\n"
     ]
    }
   ],
   "source": [
    "mon_final = final_result(mon_anom)\n",
    "mon_normalized_final = final_result(mon_normalized_anom)"
   ]
  },
  {
   "cell_type": "code",
   "execution_count": 17,
   "metadata": {
    "collapsed": false
   },
   "outputs": [
    {
     "data": {
      "text/plain": [
       "0"
      ]
     },
     "execution_count": 17,
     "metadata": {},
     "output_type": "execute_result"
    }
   ],
   "source": [
    "x = set(mon_final.index.values)\n",
    "y = set(mon_normalized_final.index.values)\n",
    "len(x.intersection(y))"
   ]
  },
  {
   "cell_type": "code",
   "execution_count": 20,
   "metadata": {
    "collapsed": false
   },
   "outputs": [
    {
     "data": {
      "text/html": [
       "<div>\n",
       "<table border=\"1\" class=\"dataframe\">\n",
       "  <thead>\n",
       "    <tr style=\"text-align: right;\">\n",
       "      <th></th>\n",
       "      <th>bytes</th>\n",
       "      <th>pkts</th>\n",
       "      <th>dur</th>\n",
       "      <th>rate</th>\n",
       "    </tr>\n",
       "  </thead>\n",
       "  <tbody>\n",
       "    <tr>\n",
       "      <th>474</th>\n",
       "      <td>2694404</td>\n",
       "      <td>1812</td>\n",
       "      <td>0.748</td>\n",
       "      <td>28817149.50</td>\n",
       "    </tr>\n",
       "    <tr>\n",
       "      <th>1758</th>\n",
       "      <td>401340</td>\n",
       "      <td>280</td>\n",
       "      <td>0.136</td>\n",
       "      <td>23608208.14</td>\n",
       "    </tr>\n",
       "    <tr>\n",
       "      <th>1783</th>\n",
       "      <td>622972</td>\n",
       "      <td>428</td>\n",
       "      <td>0.178</td>\n",
       "      <td>27998745.77</td>\n",
       "    </tr>\n",
       "    <tr>\n",
       "      <th>2235</th>\n",
       "      <td>14114580</td>\n",
       "      <td>9432</td>\n",
       "      <td>5.045</td>\n",
       "      <td>22381890.64</td>\n",
       "    </tr>\n",
       "    <tr>\n",
       "      <th>2590</th>\n",
       "      <td>700644</td>\n",
       "      <td>484</td>\n",
       "      <td>0.283</td>\n",
       "      <td>19806191.35</td>\n",
       "    </tr>\n",
       "    <tr>\n",
       "      <th>3896</th>\n",
       "      <td>622988</td>\n",
       "      <td>428</td>\n",
       "      <td>0.238</td>\n",
       "      <td>20940780.49</td>\n",
       "    </tr>\n",
       "  </tbody>\n",
       "</table>\n",
       "</div>"
      ],
      "text/plain": [
       "         bytes  pkts    dur         rate\n",
       "474    2694404  1812  0.748  28817149.50\n",
       "1758    401340   280  0.136  23608208.14\n",
       "1783    622972   428  0.178  27998745.77\n",
       "2235  14114580  9432  5.045  22381890.64\n",
       "2590    700644   484  0.283  19806191.35\n",
       "3896    622988   428  0.238  20940780.49"
      ]
     },
     "execution_count": 20,
     "metadata": {},
     "output_type": "execute_result"
    }
   ],
   "source": [
    "len(mon_final)\n",
    "mon_final"
   ]
  },
  {
   "cell_type": "code",
   "execution_count": 21,
   "metadata": {
    "collapsed": false
   },
   "outputs": [
    {
     "data": {
      "text/html": [
       "<div>\n",
       "<table border=\"1\" class=\"dataframe\">\n",
       "  <thead>\n",
       "    <tr style=\"text-align: right;\">\n",
       "      <th></th>\n",
       "      <th>bytes</th>\n",
       "      <th>pkts</th>\n",
       "      <th>dur</th>\n",
       "      <th>rate</th>\n",
       "    </tr>\n",
       "  </thead>\n",
       "  <tbody>\n",
       "    <tr>\n",
       "      <th>544</th>\n",
       "      <td>0.239904</td>\n",
       "      <td>0.005579</td>\n",
       "      <td>0.000689</td>\n",
       "      <td>0.970780</td>\n",
       "    </tr>\n",
       "    <tr>\n",
       "      <th>640</th>\n",
       "      <td>0.239904</td>\n",
       "      <td>0.005452</td>\n",
       "      <td>0.000898</td>\n",
       "      <td>0.970781</td>\n",
       "    </tr>\n",
       "    <tr>\n",
       "      <th>744</th>\n",
       "      <td>0.178343</td>\n",
       "      <td>0.004053</td>\n",
       "      <td>0.000490</td>\n",
       "      <td>0.983960</td>\n",
       "    </tr>\n",
       "  </tbody>\n",
       "</table>\n",
       "</div>"
      ],
      "text/plain": [
       "        bytes      pkts       dur      rate\n",
       "544  0.239904  0.005579  0.000689  0.970780\n",
       "640  0.239904  0.005452  0.000898  0.970781\n",
       "744  0.178343  0.004053  0.000490  0.983960"
      ]
     },
     "execution_count": 21,
     "metadata": {},
     "output_type": "execute_result"
    }
   ],
   "source": [
    "len(mon_normalized_final)\n",
    "mon_normalized_final"
   ]
  }
 ],
 "metadata": {
  "anaconda-cloud": {},
  "kernelspec": {
   "display_name": "Python [conda root]",
   "language": "python",
   "name": "conda-root-py"
  },
  "language_info": {
   "codemirror_mode": {
    "name": "ipython",
    "version": 3
   },
   "file_extension": ".py",
   "mimetype": "text/x-python",
   "name": "python",
   "nbconvert_exporter": "python",
   "pygments_lexer": "ipython3",
   "version": "3.5.2"
  }
 },
 "nbformat": 4,
 "nbformat_minor": 1
}
