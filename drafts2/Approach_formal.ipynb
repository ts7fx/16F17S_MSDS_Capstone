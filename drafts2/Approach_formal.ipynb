{
 "cells": [
  {
   "cell_type": "code",
   "execution_count": null,
   "metadata": {
    "collapsed": true
   },
   "outputs": [],
   "source": [
    "# different sized culster for different algos for different datasets.\n",
    "\n",
    "## step1 data subsetting\n",
    "# 3 domains: collab, ECE, Shanti pages\n",
    "\n",
    "## port 443 \n",
    "\n",
    "\n",
    "## step2 \n",
    "# 3 combination of algos\n",
    "\n",
    "## step3\n",
    "# "
   ]
  },
  {
   "cell_type": "code",
   "execution_count": null,
   "metadata": {
    "collapsed": true
   },
   "outputs": [],
   "source": [
    "# use random sample as a baseline?\n",
    "# the comparison needs to be a correct comparison: compare same time period for two different weekdays.\n",
    "#     have to be the same comparison.\n",
    "# by hour of the same day? all we know if that the user behaviors are changing.. thus not the same comparison.\n",
    "# adjust the sample size. to run KSE.\n",
    "\n",
    "\n"
   ]
  },
  {
   "cell_type": "code",
   "execution_count": 1,
   "metadata": {
    "collapsed": true
   },
   "outputs": [],
   "source": [
    "## Tianye Song, Julina Zhang, Kerry Jones, Capstone Cyber Intrusion Detection, Formalized Code\n",
    "## 3/27/17\n",
    "\n",
    "## This notebook contains modularized code for our two-step approach\n",
    "import numpy as np\n",
    "import pandas as pd\n",
    "import matplotlib.pyplot as plt\n",
    "from sklearn.ensemble import IsolationForest\n",
    "from sklearn.neighbors import LocalOutlierFactor\n",
    "from sklearn.cluster import KMeans"
   ]
  },
  {
   "cell_type": "code",
   "execution_count": 159,
   "metadata": {
    "collapsed": false
   },
   "outputs": [
    {
     "data": {
      "text/html": [
       "<div>\n",
       "<table border=\"1\" class=\"dataframe\">\n",
       "  <thead>\n",
       "    <tr style=\"text-align: right;\">\n",
       "      <th></th>\n",
       "      <th>bytes</th>\n",
       "      <th>pkts</th>\n",
       "      <th>dur</th>\n",
       "      <th>rate</th>\n",
       "      <th>LOF_label</th>\n",
       "      <th>cluster_label</th>\n",
       "      <th>ISO_label</th>\n",
       "    </tr>\n",
       "  </thead>\n",
       "  <tbody>\n",
       "    <tr>\n",
       "      <th>0</th>\n",
       "      <td>1936</td>\n",
       "      <td>14</td>\n",
       "      <td>0.074</td>\n",
       "      <td>209297.63</td>\n",
       "      <td>1</td>\n",
       "      <td>299</td>\n",
       "      <td>1</td>\n",
       "    </tr>\n",
       "    <tr>\n",
       "      <th>1</th>\n",
       "      <td>1500</td>\n",
       "      <td>14</td>\n",
       "      <td>0.065</td>\n",
       "      <td>184615.90</td>\n",
       "      <td>1</td>\n",
       "      <td>438</td>\n",
       "      <td>1</td>\n",
       "    </tr>\n",
       "    <tr>\n",
       "      <th>2</th>\n",
       "      <td>3972</td>\n",
       "      <td>16</td>\n",
       "      <td>0.270</td>\n",
       "      <td>117688.89</td>\n",
       "      <td>1</td>\n",
       "      <td>73</td>\n",
       "      <td>1</td>\n",
       "    </tr>\n",
       "    <tr>\n",
       "      <th>3</th>\n",
       "      <td>2294</td>\n",
       "      <td>14</td>\n",
       "      <td>0.169</td>\n",
       "      <td>108591.72</td>\n",
       "      <td>1</td>\n",
       "      <td>73</td>\n",
       "      <td>1</td>\n",
       "    </tr>\n",
       "    <tr>\n",
       "      <th>4</th>\n",
       "      <td>13030</td>\n",
       "      <td>24</td>\n",
       "      <td>0.100</td>\n",
       "      <td>1042400.99</td>\n",
       "      <td>1</td>\n",
       "      <td>78</td>\n",
       "      <td>1</td>\n",
       "    </tr>\n",
       "  </tbody>\n",
       "</table>\n",
       "</div>"
      ],
      "text/plain": [
       "   bytes  pkts    dur        rate  LOF_label  cluster_label  ISO_label\n",
       "0   1936    14  0.074   209297.63          1            299          1\n",
       "1   1500    14  0.065   184615.90          1            438          1\n",
       "2   3972    16  0.270   117688.89          1             73          1\n",
       "3   2294    14  0.169   108591.72          1             73          1\n",
       "4  13030    24  0.100  1042400.99          1             78          1"
      ]
     },
     "execution_count": 159,
     "metadata": {},
     "output_type": "execute_result"
    }
   ],
   "source": [
    "#### Data Preprocessing ####\n",
    "# read netFlow data\n",
    "# data1 = pd.read_csv('~/Desktop/netFlow-02-11-2017.csv', sep = ',')\n",
    "# data_collab = data1[(((data1.srcAddr == '128.143.2.75') & (data1.srcPort == 443)) | ((data1.dstAddr =='128.143.2.75') & (data1.dstPort == 443)))]\n",
    "\n",
    "#### First step is to get anomaly scores from LOF/IForest, append to dataset.\n",
    "# input a dataframe, an anomaly detection method.\n",
    "# LOF, IForest, or nothing.\n",
    "def labeling(df, method):\n",
    "    # first step is to generate a list of anomaly scores using chosen method.\n",
    "    temp = df[[\"bytes\",'pkts','dur','rate']]\n",
    "    if(method == \"IForest\"):\n",
    "        clf = IsolationForest(max_samples=1000, contamination=0.05,random_state= 5, bootstrap=False)\n",
    "        clf.fit(temp)\n",
    "        y_pred = clf.predict(temp)\n",
    "        df['ISO_label'] = y_pred\n",
    "    elif(method == \"LOF\"):\n",
    "        clf = LocalOutlierFactor(n_neighbors=20)\n",
    "        y_pred = clf.fit_predict(temp)\n",
    "        df['LOF_label'] = y_pred\n",
    "    return(df)\n",
    "# take 50% sample data, then label it. \n",
    "# data_collab_labeled = labeling(data_collab.sample(frac = 0.5, replace = False), \"LOF\") \n",
    "\n",
    "\n",
    "#### Second step is to apply K-means clustering to the same dataset \n",
    "# kmeans = KMeans(n_clusters=553, random_state=0).fit(sample) # select K based on sqrt(n/2)\n",
    "# result = kmeans.labels_\n",
    "# data_collab_labeled['cluster_label'] = result\n",
    "# save the result..\n",
    "# data_collab_labeled.to_csv(\"~/Desktop/collab_clean_sample.csv\")\n",
    "\n",
    "# Read in sample data generated by extracint collab-related netFlow traffic.\n",
    "Collab_sample = pd.read_csv('~/Desktop/collab_clean_sample.csv')[[\"bytes\",'pkts','dur','rate','LOF_label','cluster_label']]\n",
    "Collab_sample = labeling(Collab_sample, 'IForest')\n",
    "Collab_sample.head(5)"
   ]
  },
  {
   "cell_type": "code",
   "execution_count": 144,
   "metadata": {
    "collapsed": false
   },
   "outputs": [
    {
     "data": {
      "text/plain": [
       "0.10000130492511361"
      ]
     },
     "execution_count": 144,
     "metadata": {},
     "output_type": "execute_result"
    }
   ],
   "source": [
    "len(Collab_sample[Collab_sample.LOF_label == -1]) / len(Collab_sample)"
   ]
  },
  {
   "cell_type": "code",
   "execution_count": 145,
   "metadata": {
    "collapsed": false
   },
   "outputs": [
    {
     "data": {
      "text/plain": [
       "0.05000799266632086"
      ]
     },
     "execution_count": 145,
     "metadata": {},
     "output_type": "execute_result"
    }
   ],
   "source": [
    "len(Collab_sample[Collab_sample.ISO_label == -1]) / len(Collab_sample)\n",
    "# Number is around 0.05 because we set contamination to be 0.05?"
   ]
  },
  {
   "cell_type": "code",
   "execution_count": 160,
   "metadata": {
    "collapsed": false
   },
   "outputs": [
    {
     "data": {
      "text/html": [
       "<div>\n",
       "<table border=\"1\" class=\"dataframe\">\n",
       "  <thead>\n",
       "    <tr style=\"text-align: right;\">\n",
       "      <th></th>\n",
       "      <th>bytes</th>\n",
       "      <th>pkts</th>\n",
       "      <th>dur</th>\n",
       "      <th>rate</th>\n",
       "      <th>LOF_label</th>\n",
       "      <th>cluster_label</th>\n",
       "      <th>ISO_label</th>\n",
       "    </tr>\n",
       "  </thead>\n",
       "  <tbody>\n",
       "    <tr>\n",
       "      <th>0</th>\n",
       "      <td>1936</td>\n",
       "      <td>14</td>\n",
       "      <td>0.074</td>\n",
       "      <td>209297.63</td>\n",
       "      <td>1</td>\n",
       "      <td>299</td>\n",
       "      <td>1</td>\n",
       "    </tr>\n",
       "    <tr>\n",
       "      <th>1</th>\n",
       "      <td>1500</td>\n",
       "      <td>14</td>\n",
       "      <td>0.065</td>\n",
       "      <td>184615.90</td>\n",
       "      <td>1</td>\n",
       "      <td>438</td>\n",
       "      <td>1</td>\n",
       "    </tr>\n",
       "    <tr>\n",
       "      <th>2</th>\n",
       "      <td>3972</td>\n",
       "      <td>16</td>\n",
       "      <td>0.270</td>\n",
       "      <td>117688.89</td>\n",
       "      <td>1</td>\n",
       "      <td>73</td>\n",
       "      <td>1</td>\n",
       "    </tr>\n",
       "    <tr>\n",
       "      <th>3</th>\n",
       "      <td>2294</td>\n",
       "      <td>14</td>\n",
       "      <td>0.169</td>\n",
       "      <td>108591.72</td>\n",
       "      <td>1</td>\n",
       "      <td>73</td>\n",
       "      <td>1</td>\n",
       "    </tr>\n",
       "    <tr>\n",
       "      <th>4</th>\n",
       "      <td>13030</td>\n",
       "      <td>24</td>\n",
       "      <td>0.100</td>\n",
       "      <td>1042400.99</td>\n",
       "      <td>1</td>\n",
       "      <td>78</td>\n",
       "      <td>1</td>\n",
       "    </tr>\n",
       "  </tbody>\n",
       "</table>\n",
       "</div>"
      ],
      "text/plain": [
       "   bytes  pkts    dur        rate  LOF_label  cluster_label  ISO_label\n",
       "0   1936    14  0.074   209297.63          1            299          1\n",
       "1   1500    14  0.065   184615.90          1            438          1\n",
       "2   3972    16  0.270   117688.89          1             73          1\n",
       "3   2294    14  0.169   108591.72          1             73          1\n",
       "4  13030    24  0.100  1042400.99          1             78          1"
      ]
     },
     "execution_count": 160,
     "metadata": {},
     "output_type": "execute_result"
    }
   ],
   "source": [
    "Collab_sample.head()"
   ]
  },
  {
   "cell_type": "code",
   "execution_count": 161,
   "metadata": {
    "collapsed": false
   },
   "outputs": [],
   "source": [
    "#### Third step is to make use of the result of step 1 & 2, to reduce misclassified normal instances(reduce false alarm).\n",
    "# threshold is the maximum percentage of anomalies allowed in df\n",
    "\n",
    "def normal_profiling(data, method,threshold):\n",
    "    df = data\n",
    "    clusterID = df.cluster_label.values\n",
    "    if(method == 'IForest'):\n",
    "        df['normalized_ISO_labels'] = df['ISO_label']\n",
    "        labels = df[\"cluster_label\"].value_counts().index.tolist()\n",
    "        # when the proportion of anomalies is larger than a threshold\n",
    "        while (len(df[df.normalized_ISO_labels == -1]) / len(df) >= threshold):\n",
    "            # set anything that has label x, yet is classified by LOF to be an anomaly to be equal to 1. \n",
    "            x = labels.pop(0)\n",
    "            df.loc[((df['cluster_label'] == x) & (df['normalized_ISO_labels'] == -1)),'normalized_ISO_labels'] = 1\n",
    "\n",
    "    elif(method == 'LOF'):\n",
    "        df['normalized_LOF_labels'] = df['LOF_label']\n",
    "        labels = df[\"cluster_label\"].value_counts().index.tolist()\n",
    "        # when the proportion of anomalies is larger than a threshold\n",
    "        while (len(df[df.normalized_LOF_labels == -1]) / len(df) >= threshold):\n",
    "            # set anything that has label x, yet is classified by LOF to be an anomaly to be equal to 1. \n",
    "            x = labels.pop(0)\n",
    "            df.loc[((df['cluster_label'] == x) & (df['normalized_LOF_labels'] == -1)),'normalized_LOF_labels'] = 1\n",
    "\n",
    "    return(df)\n",
    "# case2: apply K-means repeatedly <-- not realistic because time-complexity\n",
    "# Collab_norm = normal_profiling(Collab_sample, 0.05)\n",
    "# len(Collab_norm[Collab_norm.normal_profile_labels == -1]) / len(Collab_norm)"
   ]
  },
  {
   "cell_type": "code",
   "execution_count": 167,
   "metadata": {
    "collapsed": false
   },
   "outputs": [],
   "source": [
    "Collab_norm_ISO = normal_profiling(Collab_sample,'IForest',0.05)\n",
    "Collab_norm_LOF = normal_profiling(Collab_sample,'LOF',0.05)"
   ]
  },
  {
   "cell_type": "code",
   "execution_count": 168,
   "metadata": {
    "collapsed": false
   },
   "outputs": [
    {
     "data": {
      "text/html": [
       "<div>\n",
       "<table border=\"1\" class=\"dataframe\">\n",
       "  <thead>\n",
       "    <tr style=\"text-align: right;\">\n",
       "      <th></th>\n",
       "      <th>bytes</th>\n",
       "      <th>pkts</th>\n",
       "      <th>dur</th>\n",
       "      <th>rate</th>\n",
       "      <th>LOF_label</th>\n",
       "      <th>cluster_label</th>\n",
       "      <th>ISO_label</th>\n",
       "      <th>normalized_ISO_labels</th>\n",
       "      <th>normalized_LOF_labels</th>\n",
       "    </tr>\n",
       "  </thead>\n",
       "  <tbody>\n",
       "    <tr>\n",
       "      <th>0</th>\n",
       "      <td>1936</td>\n",
       "      <td>14</td>\n",
       "      <td>0.074</td>\n",
       "      <td>209297.63</td>\n",
       "      <td>1</td>\n",
       "      <td>299</td>\n",
       "      <td>1</td>\n",
       "      <td>1</td>\n",
       "      <td>1</td>\n",
       "    </tr>\n",
       "    <tr>\n",
       "      <th>1</th>\n",
       "      <td>1500</td>\n",
       "      <td>14</td>\n",
       "      <td>0.065</td>\n",
       "      <td>184615.90</td>\n",
       "      <td>1</td>\n",
       "      <td>438</td>\n",
       "      <td>1</td>\n",
       "      <td>1</td>\n",
       "      <td>1</td>\n",
       "    </tr>\n",
       "    <tr>\n",
       "      <th>2</th>\n",
       "      <td>3972</td>\n",
       "      <td>16</td>\n",
       "      <td>0.270</td>\n",
       "      <td>117688.89</td>\n",
       "      <td>1</td>\n",
       "      <td>73</td>\n",
       "      <td>1</td>\n",
       "      <td>1</td>\n",
       "      <td>1</td>\n",
       "    </tr>\n",
       "    <tr>\n",
       "      <th>3</th>\n",
       "      <td>2294</td>\n",
       "      <td>14</td>\n",
       "      <td>0.169</td>\n",
       "      <td>108591.72</td>\n",
       "      <td>1</td>\n",
       "      <td>73</td>\n",
       "      <td>1</td>\n",
       "      <td>1</td>\n",
       "      <td>1</td>\n",
       "    </tr>\n",
       "    <tr>\n",
       "      <th>4</th>\n",
       "      <td>13030</td>\n",
       "      <td>24</td>\n",
       "      <td>0.100</td>\n",
       "      <td>1042400.99</td>\n",
       "      <td>1</td>\n",
       "      <td>78</td>\n",
       "      <td>1</td>\n",
       "      <td>1</td>\n",
       "      <td>1</td>\n",
       "    </tr>\n",
       "  </tbody>\n",
       "</table>\n",
       "</div>"
      ],
      "text/plain": [
       "   bytes  pkts    dur        rate  LOF_label  cluster_label  ISO_label  \\\n",
       "0   1936    14  0.074   209297.63          1            299          1   \n",
       "1   1500    14  0.065   184615.90          1            438          1   \n",
       "2   3972    16  0.270   117688.89          1             73          1   \n",
       "3   2294    14  0.169   108591.72          1             73          1   \n",
       "4  13030    24  0.100  1042400.99          1             78          1   \n",
       "\n",
       "   normalized_ISO_labels  normalized_LOF_labels  \n",
       "0                      1                      1  \n",
       "1                      1                      1  \n",
       "2                      1                      1  \n",
       "3                      1                      1  \n",
       "4                      1                      1  "
      ]
     },
     "execution_count": 168,
     "metadata": {},
     "output_type": "execute_result"
    }
   ],
   "source": [
    "Collab_sample.head()"
   ]
  },
  {
   "cell_type": "code",
   "execution_count": 169,
   "metadata": {
    "collapsed": false
   },
   "outputs": [
    {
     "data": {
      "text/plain": [
       "21921"
      ]
     },
     "execution_count": 169,
     "metadata": {},
     "output_type": "execute_result"
    }
   ],
   "source": [
    "len(Collab_sample[Collab_sample.normalized_ISO_labels == -1])"
   ]
  },
  {
   "cell_type": "code",
   "execution_count": 170,
   "metadata": {
    "collapsed": false
   },
   "outputs": [
    {
     "data": {
      "text/plain": [
       "29569"
      ]
     },
     "execution_count": 170,
     "metadata": {},
     "output_type": "execute_result"
    }
   ],
   "source": [
    "len(Collab_sample[Collab_sample.normalized_LOF_labels == -1])"
   ]
  },
  {
   "cell_type": "code",
   "execution_count": 177,
   "metadata": {
    "collapsed": false
   },
   "outputs": [],
   "source": [
    "#### Forth step is to use majority vote to get final results.\n",
    "def maj_vote(df, method):\n",
    "    anom_list = []\n",
    "    if(method == \"IForest\"):\n",
    "        pool = set(df[df.normalized_ISO_labels == -1].cluster_label) # a set of IDs of all clusters that contain anomalies\n",
    "        for i in pool:\n",
    "                # for each of cluster i, calculate proportion of anomaly\n",
    "                proportion_anomaly = len(df[(df['cluster_label'] == i) & (df['normalized_ISO_labels'] == -1)]) / len(df[df.cluster_label == i])\n",
    "                if proportion_anomaly > 0.5:\n",
    "                    anom_list.extend([i])\n",
    "    elif(method == \"LOF\"):\n",
    "        pool = set(df[df.normalized_LOF_labels == -1].cluster_label) # a set of IDs of all clusters that contain anomalies\n",
    "        for i in pool:\n",
    "                # for each of cluster i, calculate proportion of anomaly\n",
    "                proportion_anomaly = len(df[(df['cluster_label'] == i) & (df['normalized_LOF_labels'] == -1)]) / len(df[df.cluster_label == i])\n",
    "                if proportion_anomaly > 0.5:\n",
    "                    anom_list.extend([i])\n",
    "    # do majority vote, and return a list of anomalous clusters\n",
    "    return(anom_list)"
   ]
  },
  {
   "cell_type": "code",
   "execution_count": 178,
   "metadata": {
    "collapsed": false
   },
   "outputs": [],
   "source": [
    "anomaly_clusters_ISO = maj_vote(Collab_sample,'IForest')\n",
    "anomaly_clusters_LOF = maj_vote(Collab_sample, 'LOF')"
   ]
  },
  {
   "cell_type": "code",
   "execution_count": 182,
   "metadata": {
    "collapsed": false
   },
   "outputs": [
    {
     "name": "stdout",
     "output_type": "stream",
     "text": [
      "# of Anom_cluster_ISO: 493 , # of Anom_cluster_LOF: 102\n"
     ]
    }
   ],
   "source": [
    "print(\"# of Anom_cluster_ISO: %s , # of Anom_cluster_LOF: %s\" % (len(anomaly_clusters_ISO), len(anomaly_clusters_LOF)))"
   ]
  },
  {
   "cell_type": "code",
   "execution_count": 185,
   "metadata": {
    "collapsed": false
   },
   "outputs": [
    {
     "data": {
      "text/plain": [
       "613062"
      ]
     },
     "execution_count": 185,
     "metadata": {},
     "output_type": "execute_result"
    }
   ],
   "source": [
    "len(Collab_sample)"
   ]
  },
  {
   "cell_type": "code",
   "execution_count": 187,
   "metadata": {
    "collapsed": false
   },
   "outputs": [],
   "source": [
    "#### Fifth step is to retrieve the anomaly clusters, in the form of a df\n",
    "frames_ISO = []\n",
    "for i in anomaly_clusters_ISO:\n",
    "    cluster = Collab_sample[Collab_sample.cluster_label == i]\n",
    "    frames_ISO.append(cluster)\n",
    "anomalies_ISO = pd.concat(frames_ISO)"
   ]
  },
  {
   "cell_type": "code",
   "execution_count": 188,
   "metadata": {
    "collapsed": true
   },
   "outputs": [],
   "source": [
    "frames_LOF = []\n",
    "for i in anomaly_clusters_LOF:\n",
    "    cluster = Collab_sample[Collab_sample.cluster_label == i]\n",
    "    frames_LOF.append(cluster)\n",
    "anomalies_LOF = pd.concat(frames_LOF)"
   ]
  },
  {
   "cell_type": "code",
   "execution_count": 190,
   "metadata": {
    "collapsed": false
   },
   "outputs": [
    {
     "name": "stdout",
     "output_type": "stream",
     "text": [
      "# of Anom_ISO: 15839 , # of Anom_LOF: 347\n"
     ]
    }
   ],
   "source": [
    "print(\"# of Anom_ISO: %s , # of Anom_LOF: %s\" % (len(anomalies_ISO), len(anomalies_LOF)))"
   ]
  },
  {
   "cell_type": "code",
   "execution_count": 193,
   "metadata": {
    "collapsed": false
   },
   "outputs": [
    {
     "data": {
      "text/plain": [
       "0.0005660112680283561"
      ]
     },
     "execution_count": 193,
     "metadata": {},
     "output_type": "execute_result"
    }
   ],
   "source": [
    "## only 347 anomalies for LOF..?\n",
    "len(anomalies_LOF) / len(Collab_sample)"
   ]
  },
  {
   "cell_type": "code",
   "execution_count": 198,
   "metadata": {
    "collapsed": false,
    "scrolled": true
   },
   "outputs": [],
   "source": [
    "# for i in frames_LOF:\n",
    "#     print(len(i))"
   ]
  },
  {
   "cell_type": "code",
   "execution_count": 200,
   "metadata": {
    "collapsed": false
   },
   "outputs": [],
   "source": [
    "# for i in frames_ISO:\n",
    "#     print(len(i))"
   ]
  },
  {
   "cell_type": "code",
   "execution_count": null,
   "metadata": {
    "collapsed": false
   },
   "outputs": [],
   "source": []
  },
  {
   "cell_type": "code",
   "execution_count": 237,
   "metadata": {
    "collapsed": false
   },
   "outputs": [
    {
     "data": {
      "text/plain": [
       "41707.800000000003"
      ]
     },
     "execution_count": 237,
     "metadata": {},
     "output_type": "execute_result"
    }
   ],
   "source": [
    "## seems like there is no problem with the algorithm. \n",
    "\n",
    "## So what is going on with those 347 anomalies? They must be really abnormal\n",
    "min(anomalies_LOF['rate'])"
   ]
  },
  {
   "cell_type": "code",
   "execution_count": 206,
   "metadata": {
    "collapsed": false
   },
   "outputs": [],
   "source": [
    "anomalies_LOF['MB'] = anomalies_LOF.bytes / 1000000"
   ]
  },
  {
   "cell_type": "code",
   "execution_count": 239,
   "metadata": {
    "collapsed": false
   },
   "outputs": [
    {
     "name": "stderr",
     "output_type": "stream",
     "text": [
      "/Users/ChineseSamurai/anaconda/lib/python3.5/site-packages/ipykernel/__main__.py:1: FutureWarning: sort is deprecated, use sort_values(inplace=True) for INPLACE sorting\n",
      "  if __name__ == '__main__':\n"
     ]
    },
    {
     "data": {
      "text/plain": [
       "185093    300.512086\n",
       "543055    297.338748\n",
       "266898    294.343562\n",
       "107015    293.306604\n",
       "520488    250.891910\n",
       "3861      212.533822\n",
       "467498    184.196298\n",
       "99754     171.262766\n",
       "199796    133.393712\n",
       "175032    130.847544\n",
       "Name: MB, dtype: float64"
      ]
     },
     "execution_count": 239,
     "metadata": {},
     "output_type": "execute_result"
    }
   ],
   "source": [
    "anomalies_LOF.MB.sort(ascending = False, inplace = False)[0:10]"
   ]
  },
  {
   "cell_type": "code",
   "execution_count": 214,
   "metadata": {
    "collapsed": false
   },
   "outputs": [],
   "source": [
    "anomalies_ISO['MB'] = anomalies_ISO.bytes / 1000000"
   ]
  },
  {
   "cell_type": "code",
   "execution_count": 339,
   "metadata": {
    "collapsed": false
   },
   "outputs": [
    {
     "name": "stderr",
     "output_type": "stream",
     "text": [
      "/Users/ChineseSamurai/anaconda/lib/python3.5/site-packages/ipykernel/__main__.py:1: FutureWarning: sort is deprecated, use sort_values(inplace=True) for INPLACE sorting\n",
      "  if __name__ == '__main__':\n"
     ]
    },
    {
     "data": {
      "text/plain": [
       "543055    297338748\n",
       "266898    294343562\n",
       "107015    293306604\n",
       "520488    250891910\n",
       "3861      212533822\n",
       "467498    184196298\n",
       "99754     171262766\n",
       "199796    133393712\n",
       "175032    130847544\n",
       "Name: bytes, dtype: int64"
      ]
     },
     "execution_count": 339,
     "metadata": {},
     "output_type": "execute_result"
    }
   ],
   "source": [
    "Collab_sample.bytes.sort(ascending = False, inplace = False)[1:10]"
   ]
  },
  {
   "cell_type": "code",
   "execution_count": 215,
   "metadata": {
    "collapsed": false
   },
   "outputs": [
    {
     "name": "stderr",
     "output_type": "stream",
     "text": [
      "/Users/ChineseSamurai/anaconda/lib/python3.5/site-packages/ipykernel/__main__.py:1: FutureWarning: sort is deprecated, use sort_values(inplace=True) for INPLACE sorting\n",
      "  if __name__ == '__main__':\n"
     ]
    },
    {
     "data": {
      "text/plain": [
       "543055    297.338748\n",
       "266898    294.343562\n",
       "107015    293.306604\n",
       "520488    250.891910\n",
       "3861      212.533822\n",
       "467498    184.196298\n",
       "99754     171.262766\n",
       "199796    133.393712\n",
       "175032    130.847544\n",
       "Name: MB, dtype: float64"
      ]
     },
     "execution_count": 215,
     "metadata": {},
     "output_type": "execute_result"
    }
   ],
   "source": [
    "anomalies_ISO.MB.sort(ascending = False, inplace = False)[1:10]"
   ]
  },
  {
   "cell_type": "code",
   "execution_count": 223,
   "metadata": {
    "collapsed": false
   },
   "outputs": [
    {
     "data": {
      "text/plain": [
       "347"
      ]
     },
     "execution_count": 223,
     "metadata": {},
     "output_type": "execute_result"
    }
   ],
   "source": [
    "# is LOF's result a subset of ISO?\n",
    "len(set(anomalies_LOF.index).intersection(set(anomalies_ISO.index)))"
   ]
  },
  {
   "cell_type": "code",
   "execution_count": 273,
   "metadata": {
    "collapsed": false
   },
   "outputs": [
    {
     "data": {
      "text/plain": [
       "1"
      ]
     },
     "execution_count": 273,
     "metadata": {},
     "output_type": "execute_result"
    }
   ],
   "source": [
    "# it appears that LOF's result is a subset of ISO.\n",
    "# What about naive K-means?\n",
    "naive = Collab_sample[['bytes','pkts','dur','rate','cluster_label']]\n",
    "temp = naive['cluster_label'].value_counts(ascending = True)\n",
    "temp.iloc[1]\n"
   ]
  },
  {
   "cell_type": "code",
   "execution_count": 319,
   "metadata": {
    "collapsed": false
   },
   "outputs": [
    {
     "data": {
      "text/plain": [
       "510"
      ]
     },
     "execution_count": 319,
     "metadata": {},
     "output_type": "execute_result"
    }
   ],
   "source": [
    "sum = 0\n",
    "index = 0\n",
    "result = 0\n",
    "while True:\n",
    "    sum += temp.iloc[index]\n",
    "    index += 1\n",
    "    if (sum >= 30653):\n",
    "        result = temp.iloc[index]\n",
    "        break\n",
    "index"
   ]
  },
  {
   "cell_type": "code",
   "execution_count": 326,
   "metadata": {
    "collapsed": false
   },
   "outputs": [],
   "source": [
    "anomaly_clusters_naive = list(temp.nsmallest(509).index)"
   ]
  },
  {
   "cell_type": "code",
   "execution_count": 332,
   "metadata": {
    "collapsed": false
   },
   "outputs": [
    {
     "data": {
      "text/plain": [
       "509"
      ]
     },
     "execution_count": 332,
     "metadata": {},
     "output_type": "execute_result"
    }
   ],
   "source": [
    "len(anomaly_clusters_naive)"
   ]
  },
  {
   "cell_type": "code",
   "execution_count": 318,
   "metadata": {
    "collapsed": false
   },
   "outputs": [
    {
     "data": {
      "text/plain": [
       "30653.100000000002"
      ]
     },
     "execution_count": 318,
     "metadata": {},
     "output_type": "execute_result"
    }
   ],
   "source": [
    "# let's say the top 5% is anomalies (a naive assumption to be discussed) \n",
    "len(Collab_sample) * 0.05"
   ]
  },
  {
   "cell_type": "code",
   "execution_count": 295,
   "metadata": {
    "collapsed": true
   },
   "outputs": [],
   "source": [
    "## so we want the first 3065 observations "
   ]
  },
  {
   "cell_type": "code",
   "execution_count": 327,
   "metadata": {
    "collapsed": true
   },
   "outputs": [],
   "source": [
    "frames_naive = []\n",
    "for i in anomaly_clusters_naive:\n",
    "    cluster = Collab_sample[Collab_sample.cluster_label == i]\n",
    "    frames_naive.append(cluster)\n",
    "anomalies_naive = pd.concat(frames_naive)"
   ]
  },
  {
   "cell_type": "code",
   "execution_count": 328,
   "metadata": {
    "collapsed": false
   },
   "outputs": [
    {
     "data": {
      "text/plain": [
       "30373"
      ]
     },
     "execution_count": 328,
     "metadata": {},
     "output_type": "execute_result"
    }
   ],
   "source": [
    "len(anomalies_naive)"
   ]
  },
  {
   "cell_type": "code",
   "execution_count": 329,
   "metadata": {
    "collapsed": false
   },
   "outputs": [
    {
     "data": {
      "text/html": [
       "<div>\n",
       "<table border=\"1\" class=\"dataframe\">\n",
       "  <thead>\n",
       "    <tr style=\"text-align: right;\">\n",
       "      <th></th>\n",
       "      <th>bytes</th>\n",
       "      <th>pkts</th>\n",
       "      <th>dur</th>\n",
       "      <th>rate</th>\n",
       "      <th>LOF_label</th>\n",
       "      <th>cluster_label</th>\n",
       "      <th>ISO_label</th>\n",
       "      <th>normalized_ISO_labels</th>\n",
       "      <th>normalized_LOF_labels</th>\n",
       "    </tr>\n",
       "  </thead>\n",
       "  <tbody>\n",
       "    <tr>\n",
       "      <th>269179</th>\n",
       "      <td>5147590</td>\n",
       "      <td>3646</td>\n",
       "      <td>2.666</td>\n",
       "      <td>15446632.30</td>\n",
       "      <td>-1</td>\n",
       "      <td>235</td>\n",
       "      <td>-1</td>\n",
       "      <td>-1</td>\n",
       "      <td>-1</td>\n",
       "    </tr>\n",
       "    <tr>\n",
       "      <th>266898</th>\n",
       "      <td>294343562</td>\n",
       "      <td>207362</td>\n",
       "      <td>148.632</td>\n",
       "      <td>15842809.73</td>\n",
       "      <td>-1</td>\n",
       "      <td>98</td>\n",
       "      <td>-1</td>\n",
       "      <td>-1</td>\n",
       "      <td>-1</td>\n",
       "    </tr>\n",
       "    <tr>\n",
       "      <th>543055</th>\n",
       "      <td>297338748</td>\n",
       "      <td>209598</td>\n",
       "      <td>316.131</td>\n",
       "      <td>7524443.93</td>\n",
       "      <td>-1</td>\n",
       "      <td>99</td>\n",
       "      <td>-1</td>\n",
       "      <td>-1</td>\n",
       "      <td>-1</td>\n",
       "    </tr>\n",
       "    <tr>\n",
       "      <th>300544</th>\n",
       "      <td>61902764</td>\n",
       "      <td>44030</td>\n",
       "      <td>323.560</td>\n",
       "      <td>1530541.82</td>\n",
       "      <td>-1</td>\n",
       "      <td>102</td>\n",
       "      <td>-1</td>\n",
       "      <td>-1</td>\n",
       "      <td>-1</td>\n",
       "    </tr>\n",
       "    <tr>\n",
       "      <th>302500</th>\n",
       "      <td>36964824</td>\n",
       "      <td>26048</td>\n",
       "      <td>18.826</td>\n",
       "      <td>15707988.53</td>\n",
       "      <td>-1</td>\n",
       "      <td>103</td>\n",
       "      <td>-1</td>\n",
       "      <td>-1</td>\n",
       "      <td>-1</td>\n",
       "    </tr>\n",
       "  </tbody>\n",
       "</table>\n",
       "</div>"
      ],
      "text/plain": [
       "            bytes    pkts      dur         rate  LOF_label  cluster_label  \\\n",
       "269179    5147590    3646    2.666  15446632.30         -1            235   \n",
       "266898  294343562  207362  148.632  15842809.73         -1             98   \n",
       "543055  297338748  209598  316.131   7524443.93         -1             99   \n",
       "300544   61902764   44030  323.560   1530541.82         -1            102   \n",
       "302500   36964824   26048   18.826  15707988.53         -1            103   \n",
       "\n",
       "        ISO_label  normalized_ISO_labels  normalized_LOF_labels  \n",
       "269179         -1                     -1                     -1  \n",
       "266898         -1                     -1                     -1  \n",
       "543055         -1                     -1                     -1  \n",
       "300544         -1                     -1                     -1  \n",
       "302500         -1                     -1                     -1  "
      ]
     },
     "execution_count": 329,
     "metadata": {},
     "output_type": "execute_result"
    }
   ],
   "source": [
    "anomalies_naive.head()"
   ]
  },
  {
   "cell_type": "code",
   "execution_count": 333,
   "metadata": {
    "collapsed": false
   },
   "outputs": [
    {
     "data": {
      "text/plain": [
       "15839"
      ]
     },
     "execution_count": 333,
     "metadata": {},
     "output_type": "execute_result"
    }
   ],
   "source": [
    "len(set(anomalies_naive.index).intersection(set(anomalies_ISO.index)))\n",
    "# in this case, all of anomalies identified by the Naive K-means approach is a subset of anomalies_ISO"
   ]
  },
  {
   "cell_type": "code",
   "execution_count": 336,
   "metadata": {
    "collapsed": false
   },
   "outputs": [
    {
     "data": {
      "text/plain": [
       "15839"
      ]
     },
     "execution_count": 336,
     "metadata": {},
     "output_type": "execute_result"
    }
   ],
   "source": [
    "len(anomalies_ISO.index)"
   ]
  },
  {
   "cell_type": "code",
   "execution_count": 313,
   "metadata": {
    "collapsed": false
   },
   "outputs": [
    {
     "data": {
      "text/plain": [
       "552"
      ]
     },
     "execution_count": 313,
     "metadata": {},
     "output_type": "execute_result"
    }
   ],
   "source": [
    "len(set(Collab_sample[Collab_sample.normalized_ISO_labels == -1].cluster_label))"
   ]
  },
  {
   "cell_type": "code",
   "execution_count": 314,
   "metadata": {
    "collapsed": false
   },
   "outputs": [
    {
     "data": {
      "text/plain": [
       "306"
      ]
     },
     "execution_count": 314,
     "metadata": {},
     "output_type": "execute_result"
    }
   ],
   "source": [
    "len(set(Collab_sample[Collab_sample.normalized_LOF_labels == -1].cluster_label))"
   ]
  },
  {
   "cell_type": "code",
   "execution_count": 316,
   "metadata": {
    "collapsed": false
   },
   "outputs": [
    {
     "data": {
      "text/plain": [
       "0.035756579269307184"
      ]
     },
     "execution_count": 316,
     "metadata": {},
     "output_type": "execute_result"
    }
   ],
   "source": [
    "len(Collab_sample[Collab_sample.normalized_ISO_labels == -1]) / len(Collab_sample)"
   ]
  },
  {
   "cell_type": "code",
   "execution_count": 317,
   "metadata": {
    "collapsed": false
   },
   "outputs": [
    {
     "data": {
      "text/plain": [
       "0.04823166335541919"
      ]
     },
     "execution_count": 317,
     "metadata": {},
     "output_type": "execute_result"
    }
   ],
   "source": [
    "len(Collab_sample[Collab_sample.normalized_LOF_labels == -1]) / len(Collab_sample)"
   ]
  },
  {
   "cell_type": "code",
   "execution_count": 32,
   "metadata": {
    "collapsed": false
   },
   "outputs": [
    {
     "data": {
      "text/plain": [
       "200"
      ]
     },
     "execution_count": 32,
     "metadata": {},
     "output_type": "execute_result"
    }
   ],
   "source": [
    "rng = np.random.RandomState(42)\n",
    "X = 0.3 * rng.randn(100, 2)\n",
    "X_train = np.r_[X + 2, X - 2]\n",
    "len(X_train)"
   ]
  },
  {
   "cell_type": "code",
   "execution_count": 38,
   "metadata": {
    "collapsed": false
   },
   "outputs": [
    {
     "data": {
      "text/plain": [
       "40"
      ]
     },
     "execution_count": 38,
     "metadata": {},
     "output_type": "execute_result"
    }
   ],
   "source": [
    "X = 0.3 * rng.randn(20, 2)\n",
    "X_test = np.r_[X + 2, X - 2]\n",
    "len(X_test)"
   ]
  },
  {
   "cell_type": "code",
   "execution_count": 39,
   "metadata": {
    "collapsed": false
   },
   "outputs": [
    {
     "data": {
      "text/plain": [
       "20"
      ]
     },
     "execution_count": 39,
     "metadata": {},
     "output_type": "execute_result"
    }
   ],
   "source": [
    "X_outliers = rng.uniform(low=-4, high=4, size=(20, 2))\n",
    "len(X_outliers)"
   ]
  },
  {
   "cell_type": "code",
   "execution_count": 40,
   "metadata": {
    "collapsed": false
   },
   "outputs": [
    {
     "data": {
      "text/plain": [
       "IsolationForest(bootstrap=False, contamination=0.1, max_features=1.0,\n",
       "        max_samples=100, n_estimators=100, n_jobs=1,\n",
       "        random_state=<mtrand.RandomState object at 0x112979870>, verbose=0)"
      ]
     },
     "execution_count": 40,
     "metadata": {},
     "output_type": "execute_result"
    }
   ],
   "source": [
    "# fit the model\n",
    "clf = IsolationForest(max_samples=100, random_state=rng)\n",
    "clf.fit(X_train)\n"
   ]
  },
  {
   "cell_type": "code",
   "execution_count": 48,
   "metadata": {
    "collapsed": false
   },
   "outputs": [
    {
     "data": {
      "text/plain": [
       "0.90000000000000002"
      ]
     },
     "execution_count": 48,
     "metadata": {},
     "output_type": "execute_result"
    }
   ],
   "source": [
    "y_pred_train = clf.predict(X_train)\n",
    "sum(y_pred_train == 1)/200"
   ]
  },
  {
   "cell_type": "code",
   "execution_count": 49,
   "metadata": {
    "collapsed": false
   },
   "outputs": [
    {
     "data": {
      "text/plain": [
       "0.69999999999999996"
      ]
     },
     "execution_count": 49,
     "metadata": {},
     "output_type": "execute_result"
    }
   ],
   "source": [
    "y_pred_test = clf.predict(X_test)\n",
    "sum(y_pred_test == 1)/40"
   ]
  },
  {
   "cell_type": "code",
   "execution_count": 53,
   "metadata": {
    "collapsed": false
   },
   "outputs": [
    {
     "data": {
      "text/plain": [
       "0.050000000000000003"
      ]
     },
     "execution_count": 53,
     "metadata": {},
     "output_type": "execute_result"
    }
   ],
   "source": [
    "y_pred_outliers = clf.predict(X_outliers)\n",
    "sum(y_pred_outliers == 1)/20"
   ]
  }
 ],
 "metadata": {
  "anaconda-cloud": {},
  "kernelspec": {
   "display_name": "Python [default]",
   "language": "python",
   "name": "python3"
  },
  "language_info": {
   "codemirror_mode": {
    "name": "ipython",
    "version": 3
   },
   "file_extension": ".py",
   "mimetype": "text/x-python",
   "name": "python",
   "nbconvert_exporter": "python",
   "pygments_lexer": "ipython3",
   "version": "3.5.2"
  }
 },
 "nbformat": 4,
 "nbformat_minor": 1
}
