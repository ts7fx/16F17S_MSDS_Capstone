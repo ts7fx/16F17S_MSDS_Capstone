{
 "cells": [
  {
   "cell_type": "code",
   "execution_count": 1,
   "metadata": {
    "collapsed": true
   },
   "outputs": [],
   "source": [
    "## Tianye Song, Julina Zhang, Kerry Jones, Capstone Cyber Intrusion Detection, Formalized Code\n",
    "## 3/29/17\n",
    "import numpy as np\n",
    "import pandas as pd\n",
    "import matplotlib.pyplot as plt\n",
    "from sklearn.ensemble import IsolationForest\n",
    "from sklearn.neighbors import LocalOutlierFactor\n",
    "from sklearn.cluster import KMeans\n"
   ]
  },
  {
   "cell_type": "code",
   "execution_count": 2,
   "metadata": {
    "collapsed": true
   },
   "outputs": [],
   "source": [
    "mon = pd.read_csv('~/Desktop/data/netFlow-02-13-2017.csv', sep = ',')\n",
    "# tue = pd.read_csv('~/Desktop/netFlow-02-11-2017.csv', sep = ',')\n",
    "# wed = pd.read_csv('~/Desktop/netFlow-02-11-2017.csv', sep = ',')\n",
    "# thur = pd.read_csv('~/Desktop/netFlow-02-11-2017.csv', sep = ',')\n",
    "# fri = pd.read_csv('~/Desktop/netFlow-02-11-2017.csv', sep = ',')"
   ]
  },
  {
   "cell_type": "code",
   "execution_count": 12,
   "metadata": {
    "collapsed": false
   },
   "outputs": [
    {
     "data": {
      "text/plain": [
       "11277313"
      ]
     },
     "execution_count": 12,
     "metadata": {},
     "output_type": "execute_result"
    }
   ],
   "source": [
    "len(mon)"
   ]
  },
  {
   "cell_type": "code",
   "execution_count": 4,
   "metadata": {
    "collapsed": true
   },
   "outputs": [],
   "source": [
    "mon_collab = mon[(((mon.srcAddr == '128.143.2.75') & (mon.srcPort == 443)) | ((mon.dstAddr =='128.143.2.75') & (mon.dstPort == 443)))]"
   ]
  },
  {
   "cell_type": "code",
   "execution_count": 9,
   "metadata": {
    "collapsed": false
   },
   "outputs": [
    {
     "data": {
      "text/html": [
       "<div>\n",
       "<table border=\"1\" class=\"dataframe\">\n",
       "  <thead>\n",
       "    <tr style=\"text-align: right;\">\n",
       "      <th></th>\n",
       "      <th>Unnamed: 0</th>\n",
       "      <th>id</th>\n",
       "      <th>srcAddr</th>\n",
       "      <th>dstAddr</th>\n",
       "      <th>srcPort</th>\n",
       "      <th>dstPort</th>\n",
       "      <th>prot</th>\n",
       "      <th>bytes</th>\n",
       "      <th>pkts</th>\n",
       "      <th>dur</th>\n",
       "      <th>rate</th>\n",
       "      <th>firstTime</th>\n",
       "      <th>lastTime</th>\n",
       "      <th>maxrate</th>\n",
       "    </tr>\n",
       "  </thead>\n",
       "  <tbody>\n",
       "    <tr>\n",
       "      <th>14</th>\n",
       "      <td>14</td>\n",
       "      <td>14</td>\n",
       "      <td>128.143.2.75</td>\n",
       "      <td>98.249.10.208</td>\n",
       "      <td>443</td>\n",
       "      <td>62857</td>\n",
       "      <td>6</td>\n",
       "      <td>3000</td>\n",
       "      <td>28</td>\n",
       "      <td>0.089</td>\n",
       "      <td>269662.96</td>\n",
       "      <td>2017-02-13 14:06:27.511</td>\n",
       "      <td>2017-02-13 14:06:27.817</td>\n",
       "      <td>250966.0</td>\n",
       "    </tr>\n",
       "    <tr>\n",
       "      <th>20</th>\n",
       "      <td>20</td>\n",
       "      <td>20</td>\n",
       "      <td>128.143.2.75</td>\n",
       "      <td>73.99.8.4</td>\n",
       "      <td>443</td>\n",
       "      <td>50214</td>\n",
       "      <td>6</td>\n",
       "      <td>31672</td>\n",
       "      <td>52</td>\n",
       "      <td>0.181</td>\n",
       "      <td>1399867.45</td>\n",
       "      <td>2017-02-13 14:11:46.483</td>\n",
       "      <td>2017-02-13 14:11:46.824</td>\n",
       "      <td>0.0</td>\n",
       "    </tr>\n",
       "    <tr>\n",
       "      <th>28</th>\n",
       "      <td>28</td>\n",
       "      <td>28</td>\n",
       "      <td>184.6.45.217</td>\n",
       "      <td>128.143.2.75</td>\n",
       "      <td>55076</td>\n",
       "      <td>443</td>\n",
       "      <td>6</td>\n",
       "      <td>8684</td>\n",
       "      <td>44</td>\n",
       "      <td>0.942</td>\n",
       "      <td>73749.48</td>\n",
       "      <td>2017-02-13 14:18:47.697</td>\n",
       "      <td>2017-02-13 14:18:48.641</td>\n",
       "      <td>72390.0</td>\n",
       "    </tr>\n",
       "    <tr>\n",
       "      <th>43</th>\n",
       "      <td>43</td>\n",
       "      <td>43</td>\n",
       "      <td>128.143.2.75</td>\n",
       "      <td>73.152.128.219</td>\n",
       "      <td>443</td>\n",
       "      <td>50211</td>\n",
       "      <td>6</td>\n",
       "      <td>2664</td>\n",
       "      <td>28</td>\n",
       "      <td>0.073</td>\n",
       "      <td>291945.39</td>\n",
       "      <td>2017-02-13 14:12:37.704</td>\n",
       "      <td>2017-02-13 14:12:37.777</td>\n",
       "      <td>274410.0</td>\n",
       "    </tr>\n",
       "    <tr>\n",
       "      <th>92</th>\n",
       "      <td>92</td>\n",
       "      <td>92</td>\n",
       "      <td>73.251.173.42</td>\n",
       "      <td>128.143.2.75</td>\n",
       "      <td>50514</td>\n",
       "      <td>443</td>\n",
       "      <td>6</td>\n",
       "      <td>10172</td>\n",
       "      <td>44</td>\n",
       "      <td>0.215</td>\n",
       "      <td>378493.17</td>\n",
       "      <td>2017-02-13 14:14:02.520</td>\n",
       "      <td>2017-02-13 14:14:02.739</td>\n",
       "      <td>363013.0</td>\n",
       "    </tr>\n",
       "  </tbody>\n",
       "</table>\n",
       "</div>"
      ],
      "text/plain": [
       "    Unnamed: 0  id        srcAddr         dstAddr  srcPort  dstPort  prot  \\\n",
       "14          14  14   128.143.2.75   98.249.10.208      443    62857     6   \n",
       "20          20  20   128.143.2.75       73.99.8.4      443    50214     6   \n",
       "28          28  28   184.6.45.217    128.143.2.75    55076      443     6   \n",
       "43          43  43   128.143.2.75  73.152.128.219      443    50211     6   \n",
       "92          92  92  73.251.173.42    128.143.2.75    50514      443     6   \n",
       "\n",
       "    bytes  pkts    dur        rate                firstTime  \\\n",
       "14   3000    28  0.089   269662.96  2017-02-13 14:06:27.511   \n",
       "20  31672    52  0.181  1399867.45  2017-02-13 14:11:46.483   \n",
       "28   8684    44  0.942    73749.48  2017-02-13 14:18:47.697   \n",
       "43   2664    28  0.073   291945.39  2017-02-13 14:12:37.704   \n",
       "92  10172    44  0.215   378493.17  2017-02-13 14:14:02.520   \n",
       "\n",
       "                   lastTime   maxrate  \n",
       "14  2017-02-13 14:06:27.817  250966.0  \n",
       "20  2017-02-13 14:11:46.824       0.0  \n",
       "28  2017-02-13 14:18:48.641   72390.0  \n",
       "43  2017-02-13 14:12:37.777  274410.0  \n",
       "92  2017-02-13 14:14:02.739  363013.0  "
      ]
     },
     "execution_count": 9,
     "metadata": {},
     "output_type": "execute_result"
    }
   ],
   "source": [
    "mon_collab.head()"
   ]
  },
  {
   "cell_type": "code",
   "execution_count": 10,
   "metadata": {
    "collapsed": false
   },
   "outputs": [
    {
     "data": {
      "text/html": [
       "<div>\n",
       "<table border=\"1\" class=\"dataframe\">\n",
       "  <thead>\n",
       "    <tr style=\"text-align: right;\">\n",
       "      <th></th>\n",
       "      <th>Unnamed: 0</th>\n",
       "      <th>id</th>\n",
       "      <th>srcAddr</th>\n",
       "      <th>dstAddr</th>\n",
       "      <th>srcPort</th>\n",
       "      <th>dstPort</th>\n",
       "      <th>prot</th>\n",
       "      <th>bytes</th>\n",
       "      <th>pkts</th>\n",
       "      <th>dur</th>\n",
       "      <th>rate</th>\n",
       "      <th>firstTime</th>\n",
       "      <th>lastTime</th>\n",
       "      <th>maxrate</th>\n",
       "    </tr>\n",
       "  </thead>\n",
       "  <tbody>\n",
       "    <tr>\n",
       "      <th>11277230</th>\n",
       "      <td>2712376</td>\n",
       "      <td>2712376</td>\n",
       "      <td>73.99.8.12</td>\n",
       "      <td>128.143.2.75</td>\n",
       "      <td>64813</td>\n",
       "      <td>443</td>\n",
       "      <td>6</td>\n",
       "      <td>17154</td>\n",
       "      <td>60</td>\n",
       "      <td>0.158</td>\n",
       "      <td>868556.96</td>\n",
       "      <td>2017-02-14 04:42:50.683</td>\n",
       "      <td>2017-02-14 04:42:50.841</td>\n",
       "      <td>868556.0</td>\n",
       "    </tr>\n",
       "    <tr>\n",
       "      <th>11277237</th>\n",
       "      <td>2712383</td>\n",
       "      <td>2712383</td>\n",
       "      <td>128.143.2.75</td>\n",
       "      <td>73.201.167.179</td>\n",
       "      <td>443</td>\n",
       "      <td>57426</td>\n",
       "      <td>6</td>\n",
       "      <td>8508</td>\n",
       "      <td>42</td>\n",
       "      <td>0.090</td>\n",
       "      <td>756265.38</td>\n",
       "      <td>2017-02-14 04:54:46.490</td>\n",
       "      <td>2017-02-14 04:54:46.769</td>\n",
       "      <td>0.0</td>\n",
       "    </tr>\n",
       "    <tr>\n",
       "      <th>11277245</th>\n",
       "      <td>2712391</td>\n",
       "      <td>2712391</td>\n",
       "      <td>128.143.2.75</td>\n",
       "      <td>71.206.183.190</td>\n",
       "      <td>443</td>\n",
       "      <td>61664</td>\n",
       "      <td>6</td>\n",
       "      <td>5892</td>\n",
       "      <td>66</td>\n",
       "      <td>0.174</td>\n",
       "      <td>270896.51</td>\n",
       "      <td>2017-02-14 04:49:07.578</td>\n",
       "      <td>2017-02-14 04:49:07.809</td>\n",
       "      <td>242206.0</td>\n",
       "    </tr>\n",
       "    <tr>\n",
       "      <th>11277298</th>\n",
       "      <td>2712444</td>\n",
       "      <td>2712444</td>\n",
       "      <td>8.37.199.109</td>\n",
       "      <td>128.143.2.75</td>\n",
       "      <td>60861</td>\n",
       "      <td>443</td>\n",
       "      <td>6</td>\n",
       "      <td>16176</td>\n",
       "      <td>66</td>\n",
       "      <td>0.091</td>\n",
       "      <td>1422068.41</td>\n",
       "      <td>2017-02-14 04:34:05.542</td>\n",
       "      <td>2017-02-14 04:34:06.056</td>\n",
       "      <td>1367208.0</td>\n",
       "    </tr>\n",
       "    <tr>\n",
       "      <th>11277306</th>\n",
       "      <td>2712452</td>\n",
       "      <td>2712452</td>\n",
       "      <td>98.244.79.87</td>\n",
       "      <td>128.143.2.75</td>\n",
       "      <td>55453</td>\n",
       "      <td>443</td>\n",
       "      <td>6</td>\n",
       "      <td>240</td>\n",
       "      <td>6</td>\n",
       "      <td>0.000</td>\n",
       "      <td>0.00</td>\n",
       "      <td>2017-02-14 04:27:12.281</td>\n",
       "      <td>2017-02-14 04:27:12.281</td>\n",
       "      <td>0.0</td>\n",
       "    </tr>\n",
       "  </tbody>\n",
       "</table>\n",
       "</div>"
      ],
      "text/plain": [
       "          Unnamed: 0       id       srcAddr         dstAddr  srcPort  dstPort  \\\n",
       "11277230     2712376  2712376    73.99.8.12    128.143.2.75    64813      443   \n",
       "11277237     2712383  2712383  128.143.2.75  73.201.167.179      443    57426   \n",
       "11277245     2712391  2712391  128.143.2.75  71.206.183.190      443    61664   \n",
       "11277298     2712444  2712444  8.37.199.109    128.143.2.75    60861      443   \n",
       "11277306     2712452  2712452  98.244.79.87    128.143.2.75    55453      443   \n",
       "\n",
       "          prot  bytes  pkts    dur        rate                firstTime  \\\n",
       "11277230     6  17154    60  0.158   868556.96  2017-02-14 04:42:50.683   \n",
       "11277237     6   8508    42  0.090   756265.38  2017-02-14 04:54:46.490   \n",
       "11277245     6   5892    66  0.174   270896.51  2017-02-14 04:49:07.578   \n",
       "11277298     6  16176    66  0.091  1422068.41  2017-02-14 04:34:05.542   \n",
       "11277306     6    240     6  0.000        0.00  2017-02-14 04:27:12.281   \n",
       "\n",
       "                         lastTime    maxrate  \n",
       "11277230  2017-02-14 04:42:50.841   868556.0  \n",
       "11277237  2017-02-14 04:54:46.769        0.0  \n",
       "11277245  2017-02-14 04:49:07.809   242206.0  \n",
       "11277298  2017-02-14 04:34:06.056  1367208.0  \n",
       "11277306  2017-02-14 04:27:12.281        0.0  "
      ]
     },
     "execution_count": 10,
     "metadata": {},
     "output_type": "execute_result"
    }
   ],
   "source": [
    "mon_collab.tail()"
   ]
  },
  {
   "cell_type": "code",
   "execution_count": 70,
   "metadata": {
    "collapsed": false
   },
   "outputs": [],
   "source": [
    "import numpy as np\n",
    "import pandas as pd\n",
    "from scipy import stats\n",
    "from scipy.spatial import distance\n",
    "## function adopted from paper, KSE\n",
    "def euc_dis(p1,p2):\n",
    "    a = p1.values\n",
    "    b = p2.values\n",
    "    c = np.vstack((a,b))\n",
    "    dist = distance.pdist(c)\n",
    "    return float(dist)\n",
    "def KSE_Test(df, sample_size):\n",
    "    # initiate two sample dfs, one distance matrix, and one kse score.\n",
    "    # generate 2 random samples.\n",
    "    sample1 = df.sample(n = sample_size, replace = False)\n",
    "    sample2 = df.sample(n = sample_size, replace = False)\n",
    "    kse_score = [None] * len(df) # empty list to store KSE scores\n",
    "#   distance_matrix = np.matrix([[None] * int(len(df) * fraction) , \n",
    "#                               [None] * int(len(df) * fraction)])\n",
    "#     distance_matrix = [[0 for x in range(len(sample1))] \n",
    "#                        for y in range(len(sample2))] \n",
    "    distance_matrix = np.zeros((sample_size, sample_size))\n",
    "    # calculate distance from all points in sample1 to all points in sample2\n",
    "    for i in range(0,sample_size):\n",
    "        for j in range(0,sample_size):\n",
    "            distance_matrix[i][j] = euc_dis(sample1.iloc[i,],sample2.iloc[j,])\n",
    "    print(\"half way there\")\n",
    "    \n",
    "    # calculate average KS-score for each instance in df.\n",
    "    for i in range(0, len(df)):\n",
    "        observed_instance = df.iloc[i,]\n",
    "        distance_array = [0] * sample_size\n",
    "        for j in range(0,sample_size):\n",
    "            distance_array[j] = euc_dis(observed_instance,sample2.iloc[j,])\n",
    "        sum = 0\n",
    "        for k in range(0, sample_size):\n",
    "            ks_score = stats.ks_2samp(distance_array, distance_matrix[k])[0]\n",
    "            sum += ks_score\n",
    "        average = sum/sample_size\n",
    "        kse_score[i] = average\n",
    "    return kse_score "
   ]
  },
  {
   "cell_type": "code",
   "execution_count": 15,
   "metadata": {
    "collapsed": false
   },
   "outputs": [],
   "source": [
    "mon_collab_clean = mon_collab[[\"bytes\",\"pkts\",\"dur\",\"rate\"]]"
   ]
  },
  {
   "cell_type": "code",
   "execution_count": 21,
   "metadata": {
    "collapsed": false
   },
   "outputs": [],
   "source": [
    "# take 10% sample from population\n",
    "sample_mon = mon_collab_clean.sample(frac = 0.1, replace = False)"
   ]
  },
  {
   "cell_type": "code",
   "execution_count": 66,
   "metadata": {
    "collapsed": false
   },
   "outputs": [
    {
     "data": {
      "text/plain": [
       "474.78000000000003"
      ]
     },
     "execution_count": 66,
     "metadata": {},
     "output_type": "execute_result"
    }
   ],
   "source": [
    "len(sample_mon) * 0.01"
   ]
  },
  {
   "cell_type": "code",
   "execution_count": 71,
   "metadata": {
    "collapsed": false,
    "scrolled": true
   },
   "outputs": [
    {
     "name": "stdout",
     "output_type": "stream",
     "text": [
      "half way there\n"
     ]
    }
   ],
   "source": [
    "kse_mon = KSE_Test(sample_mon, 10)"
   ]
  },
  {
   "cell_type": "code",
   "execution_count": 33,
   "metadata": {
    "collapsed": false
   },
   "outputs": [
    {
     "data": {
      "text/plain": [
       "47478"
      ]
     },
     "execution_count": 33,
     "metadata": {},
     "output_type": "execute_result"
    }
   ],
   "source": [
    "len(kse_mon)"
   ]
  },
  {
   "cell_type": "code",
   "execution_count": 37,
   "metadata": {
    "collapsed": false
   },
   "outputs": [
    {
     "data": {
      "text/plain": [
       "bytes      3000.000\n",
       "pkts         28.000\n",
       "dur           0.089\n",
       "rate     269662.960\n",
       "Name: 14, dtype: float64"
      ]
     },
     "execution_count": 37,
     "metadata": {},
     "output_type": "execute_result"
    }
   ],
   "source": [
    "mon_collab_clean.iloc[0]"
   ]
  },
  {
   "cell_type": "code",
   "execution_count": 39,
   "metadata": {
    "collapsed": false
   },
   "outputs": [
    {
     "ename": "ValueError",
     "evalue": "XA must be a 2-dimensional array.",
     "output_type": "error",
     "traceback": [
      "\u001b[0;31m---------------------------------------------------------------------------\u001b[0m",
      "\u001b[0;31mValueError\u001b[0m                                Traceback (most recent call last)",
      "\u001b[0;32m<ipython-input-39-007285f0422d>\u001b[0m in \u001b[0;36m<module>\u001b[0;34m()\u001b[0m\n\u001b[1;32m      1\u001b[0m \u001b[0;32mfrom\u001b[0m \u001b[0mscipy\u001b[0m\u001b[0;34m.\u001b[0m\u001b[0mspatial\u001b[0m \u001b[0;32mimport\u001b[0m \u001b[0mdistance\u001b[0m\u001b[0;34m\u001b[0m\u001b[0m\n\u001b[0;32m----> 2\u001b[0;31m \u001b[0mdistance\u001b[0m\u001b[0;34m.\u001b[0m\u001b[0mcdist\u001b[0m\u001b[0;34m(\u001b[0m\u001b[0mmon_collab_clean\u001b[0m\u001b[0;34m.\u001b[0m\u001b[0miloc\u001b[0m\u001b[0;34m[\u001b[0m\u001b[0;36m0\u001b[0m\u001b[0;34m]\u001b[0m\u001b[0;34m,\u001b[0m \u001b[0mmon_collab_clean\u001b[0m\u001b[0;34m.\u001b[0m\u001b[0miloc\u001b[0m\u001b[0;34m[\u001b[0m\u001b[0;36m0\u001b[0m\u001b[0;34m]\u001b[0m\u001b[0;34m,\u001b[0m \u001b[0;34m'euclidean'\u001b[0m\u001b[0;34m)\u001b[0m\u001b[0;34m\u001b[0m\u001b[0m\n\u001b[0m",
      "\u001b[0;32m/Users/ChineseSamurai/anaconda/lib/python3.5/site-packages/scipy/spatial/distance.py\u001b[0m in \u001b[0;36mcdist\u001b[0;34m(XA, XB, metric, p, V, VI, w)\u001b[0m\n\u001b[1;32m   2130\u001b[0m \u001b[0;34m\u001b[0m\u001b[0m\n\u001b[1;32m   2131\u001b[0m     \u001b[0;32mif\u001b[0m \u001b[0mlen\u001b[0m\u001b[0;34m(\u001b[0m\u001b[0ms\u001b[0m\u001b[0;34m)\u001b[0m \u001b[0;34m!=\u001b[0m \u001b[0;36m2\u001b[0m\u001b[0;34m:\u001b[0m\u001b[0;34m\u001b[0m\u001b[0m\n\u001b[0;32m-> 2132\u001b[0;31m         \u001b[0;32mraise\u001b[0m \u001b[0mValueError\u001b[0m\u001b[0;34m(\u001b[0m\u001b[0;34m'XA must be a 2-dimensional array.'\u001b[0m\u001b[0;34m)\u001b[0m\u001b[0;34m\u001b[0m\u001b[0m\n\u001b[0m\u001b[1;32m   2133\u001b[0m     \u001b[0;32mif\u001b[0m \u001b[0mlen\u001b[0m\u001b[0;34m(\u001b[0m\u001b[0msB\u001b[0m\u001b[0;34m)\u001b[0m \u001b[0;34m!=\u001b[0m \u001b[0;36m2\u001b[0m\u001b[0;34m:\u001b[0m\u001b[0;34m\u001b[0m\u001b[0m\n\u001b[1;32m   2134\u001b[0m         \u001b[0;32mraise\u001b[0m \u001b[0mValueError\u001b[0m\u001b[0;34m(\u001b[0m\u001b[0;34m'XB must be a 2-dimensional array.'\u001b[0m\u001b[0;34m)\u001b[0m\u001b[0;34m\u001b[0m\u001b[0m\n",
      "\u001b[0;31mValueError\u001b[0m: XA must be a 2-dimensional array."
     ]
    }
   ],
   "source": [
    "from scipy.spatial import distance\n",
    "distance.cdist(mon_collab_clean.iloc[0], mon_collab_clean.iloc[0], 'euclidean')"
   ]
  },
  {
   "cell_type": "code",
   "execution_count": 49,
   "metadata": {
    "collapsed": false
   },
   "outputs": [
    {
     "ename": "ValueError",
     "evalue": "XA must be a 2-dimensional array.",
     "output_type": "error",
     "traceback": [
      "\u001b[0;31m---------------------------------------------------------------------------\u001b[0m",
      "\u001b[0;31mValueError\u001b[0m                                Traceback (most recent call last)",
      "\u001b[0;32m<ipython-input-49-b32e510b3877>\u001b[0m in \u001b[0;36m<module>\u001b[0;34m()\u001b[0m\n\u001b[0;32m----> 1\u001b[0;31m \u001b[0mdistance\u001b[0m\u001b[0;34m.\u001b[0m\u001b[0mcdist\u001b[0m\u001b[0;34m(\u001b[0m\u001b[0mmon_collab_clean\u001b[0m\u001b[0;34m.\u001b[0m\u001b[0miloc\u001b[0m\u001b[0;34m[\u001b[0m\u001b[0;36m0\u001b[0m\u001b[0;34m]\u001b[0m\u001b[0;34m.\u001b[0m\u001b[0mvalues\u001b[0m\u001b[0;34m,\u001b[0m \u001b[0mmon_collab_clean\u001b[0m\u001b[0;34m.\u001b[0m\u001b[0miloc\u001b[0m\u001b[0;34m[\u001b[0m\u001b[0;36m0\u001b[0m\u001b[0;34m]\u001b[0m\u001b[0;34m.\u001b[0m\u001b[0mvalues\u001b[0m\u001b[0;34m,\u001b[0m\u001b[0;34m'euclidean'\u001b[0m\u001b[0;34m)\u001b[0m\u001b[0;34m\u001b[0m\u001b[0m\n\u001b[0m",
      "\u001b[0;32m/Users/ChineseSamurai/anaconda/lib/python3.5/site-packages/scipy/spatial/distance.py\u001b[0m in \u001b[0;36mcdist\u001b[0;34m(XA, XB, metric, p, V, VI, w)\u001b[0m\n\u001b[1;32m   2130\u001b[0m \u001b[0;34m\u001b[0m\u001b[0m\n\u001b[1;32m   2131\u001b[0m     \u001b[0;32mif\u001b[0m \u001b[0mlen\u001b[0m\u001b[0;34m(\u001b[0m\u001b[0ms\u001b[0m\u001b[0;34m)\u001b[0m \u001b[0;34m!=\u001b[0m \u001b[0;36m2\u001b[0m\u001b[0;34m:\u001b[0m\u001b[0;34m\u001b[0m\u001b[0m\n\u001b[0;32m-> 2132\u001b[0;31m         \u001b[0;32mraise\u001b[0m \u001b[0mValueError\u001b[0m\u001b[0;34m(\u001b[0m\u001b[0;34m'XA must be a 2-dimensional array.'\u001b[0m\u001b[0;34m)\u001b[0m\u001b[0;34m\u001b[0m\u001b[0m\n\u001b[0m\u001b[1;32m   2133\u001b[0m     \u001b[0;32mif\u001b[0m \u001b[0mlen\u001b[0m\u001b[0;34m(\u001b[0m\u001b[0msB\u001b[0m\u001b[0;34m)\u001b[0m \u001b[0;34m!=\u001b[0m \u001b[0;36m2\u001b[0m\u001b[0;34m:\u001b[0m\u001b[0;34m\u001b[0m\u001b[0m\n\u001b[1;32m   2134\u001b[0m         \u001b[0;32mraise\u001b[0m \u001b[0mValueError\u001b[0m\u001b[0;34m(\u001b[0m\u001b[0;34m'XB must be a 2-dimensional array.'\u001b[0m\u001b[0;34m)\u001b[0m\u001b[0;34m\u001b[0m\u001b[0m\n",
      "\u001b[0;31mValueError\u001b[0m: XA must be a 2-dimensional array."
     ]
    }
   ],
   "source": [
    "distance.cdist(mon_collab_clean.iloc[0].values, mon_collab_clean.iloc[0].values,'euclidean')"
   ]
  },
  {
   "cell_type": "code",
   "execution_count": 61,
   "metadata": {
    "collapsed": false
   },
   "outputs": [
    {
     "data": {
      "text/plain": [
       "array([ 0.])"
      ]
     },
     "execution_count": 61,
     "metadata": {},
     "output_type": "execute_result"
    }
   ],
   "source": [
    "a = mon_collab_clean.iloc[0].values\n",
    "b = mon_collab_clean.iloc[0].values\n",
    "c = np.vstack((a,b))\n",
    "c\n",
    "dist = distance.pdist(c)\n",
    "dist"
   ]
  },
  {
   "cell_type": "code",
   "execution_count": 69,
   "metadata": {
    "collapsed": false
   },
   "outputs": [
    {
     "data": {
      "text/plain": [
       "0.0"
      ]
     },
     "execution_count": 69,
     "metadata": {},
     "output_type": "execute_result"
    }
   ],
   "source": [
    "float(euc_dis(mon_collab_clean.iloc[0],mon_collab_clean.iloc[0]))"
   ]
  },
  {
   "cell_type": "code",
   "execution_count": 46,
   "metadata": {
    "collapsed": false
   },
   "outputs": [
    {
     "data": {
      "text/plain": [
       "bytes      3000.000\n",
       "pkts         28.000\n",
       "dur           0.089\n",
       "rate     269662.960\n",
       "Name: 14, dtype: float64"
      ]
     },
     "execution_count": 46,
     "metadata": {},
     "output_type": "execute_result"
    }
   ],
   "source": []
  },
  {
   "cell_type": "code",
   "execution_count": null,
   "metadata": {
    "collapsed": true
   },
   "outputs": [],
   "source": []
  }
 ],
 "metadata": {
  "anaconda-cloud": {},
  "kernelspec": {
   "display_name": "Python [default]",
   "language": "python",
   "name": "python3"
  },
  "language_info": {
   "codemirror_mode": {
    "name": "ipython",
    "version": 3
   },
   "file_extension": ".py",
   "mimetype": "text/x-python",
   "name": "python",
   "nbconvert_exporter": "python",
   "pygments_lexer": "ipython3",
   "version": "3.5.2"
  }
 },
 "nbformat": 4,
 "nbformat_minor": 1
}
