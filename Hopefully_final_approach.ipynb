{
 "cells": [
  {
   "cell_type": "code",
   "execution_count": 2,
   "metadata": {
    "collapsed": true
   },
   "outputs": [],
   "source": [
    "import numpy as np\n",
    "import pandas as pd\n",
    "import matplotlib.pyplot as plt\n",
    "from sklearn.ensemble import IsolationForest\n",
    "from sklearn.neighbors import LocalOutlierFactor\n",
    "from sklearn.cluster import KMeans\n",
    "from scipy import stats\n",
    "from scipy.spatial import distance\n",
    "import random\n",
    "random.seed(8888)\n",
    "def iForest(df):\n",
    "    clf = IsolationForest(max_samples=1000, contamination=0.05,random_state= 5, bootstrap=False)\n",
    "    clf.fit(df)\n",
    "    y_pred = clf.predict(df)\n",
    "    anomalies = df[y_pred == -1]\n",
    "    return anomalies\n",
    "\n",
    "def LOF(df):\n",
    "    clf = LocalOutlierFactor(n_neighbors=20, contamination = 0.05)\n",
    "    y_pred = clf.fit_predict(df)\n",
    "    anomalies = df[y_pred == -1]\n",
    "    return anomalies"
   ]
  },
  {
   "cell_type": "code",
   "execution_count": 3,
   "metadata": {
    "collapsed": true
   },
   "outputs": [],
   "source": [
    "mon_normalized = pd.read_csv('~/Desktop/data/normalized/data02_13_morning_Pages_normalized', sep = ',')[[\"bytes\",\"pkts\",\"dur\",\"rate\"]]\n",
    "tue_normalized = pd.read_csv('~/Desktop/data/normalized/data02_14_morning_Pages_normalized', sep = ',')[[\"bytes\",\"pkts\",\"dur\",\"rate\"]]\n",
    "wed_normalized = pd.read_csv('~/Desktop/data/normalized/data02_15_morning_Pages_normalized', sep = ',')[[\"bytes\",\"pkts\",\"dur\",\"rate\"]]\n",
    "thur_normalized = pd.read_csv('~/Desktop/data/normalized/data02_16_morning_Pages_normalized', sep = ',')[[\"bytes\",\"pkts\",\"dur\",\"rate\"]]\n",
    "fri_normalized = pd.read_csv('~/Desktop/data/normalized/data02_17_morning_Pages_normalized', sep = ',')[[\"bytes\",\"pkts\",\"dur\",\"rate\"]]\n",
    "\n",
    "## Anomalous data - iForest\n",
    "mon_norm_anom = iForest(mon_normalized)\n",
    "tue_norm_anom = iForest(tue_normalized)\n",
    "wed_norm_anom = iForest(wed_normalized)\n",
    "thur_norm_anom = iForest(thur_normalized)\n",
    "fri_norm_anom = iForest(fri_normalized)\n",
    "\n",
    "## Anomalous data - LOF\n",
    "mon_norm_anom_ = LOF(mon_normalized)\n",
    "tue_norm_anom_ = LOF(tue_normalized)\n",
    "wed_norm_anom_ = LOF(wed_normalized)\n",
    "thur_norm_anom_ = LOF(thur_normalized)\n",
    "fri_norm_anom_ = LOF(fri_normalized)"
   ]
  },
  {
   "cell_type": "code",
   "execution_count": 4,
   "metadata": {
    "collapsed": false
   },
   "outputs": [],
   "source": [
    "## KS-tests\n",
    "ks_mon_bytes = stats.ks_2samp(mon_norm_anom.bytes, mon_norm_anom_.bytes)[0]\n",
    "ks_mon_pkts = stats.ks_2samp(mon_norm_anom.pkts, mon_norm_anom_.pkts)[0]\n",
    "ks_mon_dur = stats.ks_2samp(mon_norm_anom.dur, mon_norm_anom_.dur)[0]\n",
    "ks_mon_rate = stats.ks_2samp(mon_norm_anom.rate, mon_norm_anom_.rate)[0]\n",
    "\n",
    "ks_tue_bytes = stats.ks_2samp(tue_norm_anom.bytes, tue_norm_anom_.bytes)[0]\n",
    "ks_tue_pkts = stats.ks_2samp(tue_norm_anom.pkts, tue_norm_anom_.pkts)[0]\n",
    "ks_tue_dur = stats.ks_2samp(tue_norm_anom.dur, tue_norm_anom_.dur)[0]\n",
    "ks_tue_rate = stats.ks_2samp(tue_norm_anom.rate, tue_norm_anom_.rate)[0]\n",
    "\n",
    "ks_wed_bytes = stats.ks_2samp(wed_norm_anom.bytes, wed_norm_anom_.bytes)[0]\n",
    "ks_wed_pkts = stats.ks_2samp(wed_norm_anom.pkts, wed_norm_anom_.pkts)[0]\n",
    "ks_wed_dur = stats.ks_2samp(wed_norm_anom.dur, wed_norm_anom_.dur)[0]\n",
    "ks_wed_rate = stats.ks_2samp(wed_norm_anom.rate, wed_norm_anom_.rate)[0]\n",
    "\n",
    "ks_thur_bytes = stats.ks_2samp(thur_norm_anom.bytes, thur_norm_anom_.bytes)[0]\n",
    "ks_thur_pkts = stats.ks_2samp(thur_norm_anom.pkts, thur_norm_anom_.pkts)[0]\n",
    "ks_thur_dur = stats.ks_2samp(thur_norm_anom.dur, thur_norm_anom_.dur)[0]\n",
    "ks_thur_rate = stats.ks_2samp(thur_norm_anom.rate, thur_norm_anom_.rate)[0]\n",
    "\n",
    "ks_fri_bytes = stats.ks_2samp(fri_norm_anom.bytes, fri_norm_anom_.bytes)[0]\n",
    "ks_fri_pkts = stats.ks_2samp(fri_norm_anom.pkts, fri_norm_anom_.pkts)[0]\n",
    "ks_fri_dur = stats.ks_2samp(fri_norm_anom.dur, fri_norm_anom_.dur)[0]\n",
    "ks_fri_rate = stats.ks_2samp(fri_norm_anom.rate, fri_norm_anom_.rate)[0]"
   ]
  },
  {
   "cell_type": "code",
   "execution_count": 5,
   "metadata": {
    "collapsed": false
   },
   "outputs": [
    {
     "data": {
      "text/plain": [
       "0.63636363636363635"
      ]
     },
     "execution_count": 5,
     "metadata": {},
     "output_type": "execute_result"
    }
   ],
   "source": [
    "ks_mon_bytes"
   ]
  },
  {
   "cell_type": "code",
   "execution_count": 6,
   "metadata": {
    "collapsed": false
   },
   "outputs": [
    {
     "data": {
      "text/plain": [
       "0.60287081339712922"
      ]
     },
     "execution_count": 6,
     "metadata": {},
     "output_type": "execute_result"
    }
   ],
   "source": [
    "ks_mon_pkts"
   ]
  },
  {
   "cell_type": "code",
   "execution_count": 7,
   "metadata": {
    "collapsed": false
   },
   "outputs": [
    {
     "data": {
      "text/plain": [
       "0.53110047846889952"
      ]
     },
     "execution_count": 7,
     "metadata": {},
     "output_type": "execute_result"
    }
   ],
   "source": [
    "ks_mon_dur"
   ]
  },
  {
   "cell_type": "code",
   "execution_count": 8,
   "metadata": {
    "collapsed": false
   },
   "outputs": [
    {
     "data": {
      "text/plain": [
       "0.63636363636363624"
      ]
     },
     "execution_count": 8,
     "metadata": {},
     "output_type": "execute_result"
    }
   ],
   "source": [
    "ks_mon_rate"
   ]
  },
  {
   "cell_type": "code",
   "execution_count": 9,
   "metadata": {
    "collapsed": false
   },
   "outputs": [
    {
     "data": {
      "text/plain": [
       "0.76901408450704223"
      ]
     },
     "execution_count": 9,
     "metadata": {},
     "output_type": "execute_result"
    }
   ],
   "source": [
    "ks_tue_bytes"
   ]
  },
  {
   "cell_type": "code",
   "execution_count": 10,
   "metadata": {
    "collapsed": false
   },
   "outputs": [
    {
     "data": {
      "text/plain": [
       "0.74366197183098592"
      ]
     },
     "execution_count": 10,
     "metadata": {},
     "output_type": "execute_result"
    }
   ],
   "source": [
    "ks_tue_pkts"
   ]
  },
  {
   "cell_type": "code",
   "execution_count": 11,
   "metadata": {
    "collapsed": false
   },
   "outputs": [
    {
     "data": {
      "text/plain": [
       "0.52394366197183095"
      ]
     },
     "execution_count": 11,
     "metadata": {},
     "output_type": "execute_result"
    }
   ],
   "source": [
    "ks_tue_dur"
   ]
  },
  {
   "cell_type": "code",
   "execution_count": 12,
   "metadata": {
    "collapsed": false
   },
   "outputs": [
    {
     "data": {
      "text/plain": [
       "0.76901408450704223"
      ]
     },
     "execution_count": 12,
     "metadata": {},
     "output_type": "execute_result"
    }
   ],
   "source": [
    "ks_tue_rate"
   ]
  },
  {
   "cell_type": "code",
   "execution_count": 13,
   "metadata": {
    "collapsed": false
   },
   "outputs": [
    {
     "data": {
      "text/plain": [
       "0.74535809018567645"
      ]
     },
     "execution_count": 13,
     "metadata": {},
     "output_type": "execute_result"
    }
   ],
   "source": [
    "ks_wed_bytes"
   ]
  },
  {
   "cell_type": "code",
   "execution_count": 14,
   "metadata": {
    "collapsed": false
   },
   "outputs": [
    {
     "data": {
      "text/plain": [
       "0.70822281167108758"
      ]
     },
     "execution_count": 14,
     "metadata": {},
     "output_type": "execute_result"
    }
   ],
   "source": [
    "ks_wed_pkts"
   ]
  },
  {
   "cell_type": "code",
   "execution_count": 15,
   "metadata": {
    "collapsed": false
   },
   "outputs": [
    {
     "data": {
      "text/plain": [
       "0.43766578249336874"
      ]
     },
     "execution_count": 15,
     "metadata": {},
     "output_type": "execute_result"
    }
   ],
   "source": [
    "ks_wed_dur"
   ]
  },
  {
   "cell_type": "code",
   "execution_count": 16,
   "metadata": {
    "collapsed": false
   },
   "outputs": [
    {
     "data": {
      "text/plain": [
       "0.74535809018567645"
      ]
     },
     "execution_count": 16,
     "metadata": {},
     "output_type": "execute_result"
    }
   ],
   "source": [
    "ks_wed_rate"
   ]
  },
  {
   "cell_type": "code",
   "execution_count": 17,
   "metadata": {
    "collapsed": false
   },
   "outputs": [
    {
     "data": {
      "text/plain": [
       "0.87846481876332627"
      ]
     },
     "execution_count": 17,
     "metadata": {},
     "output_type": "execute_result"
    }
   ],
   "source": [
    "ks_thur_bytes"
   ]
  },
  {
   "cell_type": "code",
   "execution_count": 18,
   "metadata": {
    "collapsed": false
   },
   "outputs": [
    {
     "data": {
      "text/plain": [
       "0.74200426439232414"
      ]
     },
     "execution_count": 18,
     "metadata": {},
     "output_type": "execute_result"
    }
   ],
   "source": [
    "ks_thur_pkts"
   ]
  },
  {
   "cell_type": "code",
   "execution_count": 19,
   "metadata": {
    "collapsed": false
   },
   "outputs": [
    {
     "data": {
      "text/plain": [
       "0.41791044776119413"
      ]
     },
     "execution_count": 19,
     "metadata": {},
     "output_type": "execute_result"
    }
   ],
   "source": [
    "ks_thur_dur"
   ]
  },
  {
   "cell_type": "code",
   "execution_count": 20,
   "metadata": {
    "collapsed": false
   },
   "outputs": [
    {
     "data": {
      "text/plain": [
       "0.87846481876332627"
      ]
     },
     "execution_count": 20,
     "metadata": {},
     "output_type": "execute_result"
    }
   ],
   "source": [
    "ks_thur_rate"
   ]
  },
  {
   "cell_type": "code",
   "execution_count": 21,
   "metadata": {
    "collapsed": false
   },
   "outputs": [
    {
     "data": {
      "text/plain": [
       "0.75899280575539563"
      ]
     },
     "execution_count": 21,
     "metadata": {},
     "output_type": "execute_result"
    }
   ],
   "source": [
    "ks_fri_bytes"
   ]
  },
  {
   "cell_type": "code",
   "execution_count": 22,
   "metadata": {
    "collapsed": false
   },
   "outputs": [
    {
     "data": {
      "text/plain": [
       "0.7158273381294965"
      ]
     },
     "execution_count": 22,
     "metadata": {},
     "output_type": "execute_result"
    }
   ],
   "source": [
    "ks_fri_pkts"
   ]
  },
  {
   "cell_type": "code",
   "execution_count": 23,
   "metadata": {
    "collapsed": false
   },
   "outputs": [
    {
     "data": {
      "text/plain": [
       "0.59712230215827344"
      ]
     },
     "execution_count": 23,
     "metadata": {},
     "output_type": "execute_result"
    }
   ],
   "source": [
    "ks_fri_dur"
   ]
  },
  {
   "cell_type": "code",
   "execution_count": 24,
   "metadata": {
    "collapsed": false
   },
   "outputs": [
    {
     "data": {
      "text/plain": [
       "0.75899280575539563"
      ]
     },
     "execution_count": 24,
     "metadata": {},
     "output_type": "execute_result"
    }
   ],
   "source": [
    "ks_fri_rate"
   ]
  },
  {
   "cell_type": "code",
   "execution_count": null,
   "metadata": {
    "collapsed": true
   },
   "outputs": [],
   "source": []
  }
 ],
 "metadata": {
  "kernelspec": {
   "display_name": "Python [default]",
   "language": "python",
   "name": "python3"
  },
  "language_info": {
   "codemirror_mode": {
    "name": "ipython",
    "version": 3
   },
   "file_extension": ".py",
   "mimetype": "text/x-python",
   "name": "python",
   "nbconvert_exporter": "python",
   "pygments_lexer": "ipython3",
   "version": "3.5.2"
  }
 },
 "nbformat": 4,
 "nbformat_minor": 1
}
