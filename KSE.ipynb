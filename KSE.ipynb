{
 "cells": [
  {
   "cell_type": "code",
   "execution_count": null,
   "metadata": {
    "collapsed": true
   },
   "outputs": [],
   "source": [
    "#### KSE wouldn't run because of time complexity and memory issues."
   ]
  },
  {
   "cell_type": "code",
   "execution_count": 1,
   "metadata": {
    "collapsed": true
   },
   "outputs": [],
   "source": [
    "import numpy as np\n",
    "import pandas as pd\n",
    "from scipy import stats\n",
    "\n",
    "## function adopted from paper, KSE\n",
    "def euc_dis(p1,p2):\n",
    "    raw = 0\n",
    "    for i in range(0,3):\n",
    "        raw += (p1[i] - p2[i])**2\n",
    "    return np.sqrt(raw)\n",
    "def KSE_Test(df, fraction):\n",
    "    # initiate two sample dfs, one distance matrix, and one kse score.\n",
    "    # generate 2 random samples.\n",
    "    sample1 = df.sample(frac = fraction, replace = False)\n",
    "    sample2 = df.sample(frac = fraction, replace = False)\n",
    "    kse_score = [None] * len(df) # empty list to store KSE scores\n",
    "#   distance_matrix = np.matrix([[None] * int(len(df) * fraction) , \n",
    "#                               [None] * int(len(df) * fraction)])\n",
    "    distance_matrix = [[0 for x in range(len(sample1))] \n",
    "                       for y in range(len(sample2))] \n",
    "    # calculate distance from all points in sample1 to all points in sample2\n",
    "    for i in range(0,len(sample1)):\n",
    "        for j in range(0,len(sample2)):\n",
    "            distance_matrix[i][j] = euc_dis(sample1.iloc[i,],sample2.iloc[j,])\n",
    "    \n",
    "    # calculate average KS-score for each instance in df.\n",
    "    for i in range(0, len(df)):\n",
    "        observed_instance = df.iloc[i,]\n",
    "        distance_array = [None] * len(sample2)\n",
    "        for j in range(0,len(sample2)):\n",
    "            distance_array[j] = euc_dis(observed_instance,sample2.iloc[j,])\n",
    "        sum = 0\n",
    "        for k in range(0, len(sample1)):\n",
    "            ks_score = stats.ks_2samp(distance_array, distance_matrix[k])[0]\n",
    "            sum += ks_score\n",
    "        average = sum/len(sample1)\n",
    "        kse_score[i] = average\n",
    "    \n",
    "    return kse_score "
   ]
  },
  {
   "cell_type": "code",
   "execution_count": null,
   "metadata": {
    "collapsed": false
   },
   "outputs": [],
   "source": [
    "# data preprocessing\n",
    "# data1 = pd.read_csv('~/Desktop/netFlow-02-11-2017.csv', sep = ',')\n",
    "# data_collab = data1[(((data1.srcAddr == '128.143.2.75') & (data1.srcPort == 443)) | ((data1.dstAddr =='128.143.2.75') & (data1.dstPort == 443)))]\n",
    "# clean_collab = data_collab[[\"bytes\",\"pkts\",\"dur\",\"rate\"]]\n",
    "clean_collab = pd.read_csv('~/Desktop/clean_collab.csv', sep = ',')\n",
    "KSE_result = KSE_Test(clean_collab, 0.8)"
   ]
  },
  {
   "cell_type": "code",
   "execution_count": 3,
   "metadata": {
    "collapsed": true
   },
   "outputs": [],
   "source": [
    "# make a copy of the data:\n",
    "# clean_collab.to_csv('~/Desktop/clean_collab.csv')"
   ]
  },
  {
   "cell_type": "code",
   "execution_count": null,
   "metadata": {
    "collapsed": true
   },
   "outputs": [],
   "source": [
    "# model application\n",
    "#KSE_result = KSE_Test(clean_collab, 0.8)"
   ]
  }
 ],
 "metadata": {
  "anaconda-cloud": {},
  "kernelspec": {
   "display_name": "Python [conda root]",
   "language": "python",
   "name": "conda-root-py"
  },
  "language_info": {
   "codemirror_mode": {
    "name": "ipython",
    "version": 3
   },
   "file_extension": ".py",
   "mimetype": "text/x-python",
   "name": "python",
   "nbconvert_exporter": "python",
   "pygments_lexer": "ipython3",
   "version": "3.5.2"
  }
 },
 "nbformat": 4,
 "nbformat_minor": 1
}
