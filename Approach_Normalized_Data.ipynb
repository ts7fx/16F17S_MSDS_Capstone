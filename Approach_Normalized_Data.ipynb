{
 "cells": [
  {
   "cell_type": "code",
   "execution_count": 7,
   "metadata": {
    "collapsed": true
   },
   "outputs": [],
   "source": [
    "import numpy as np\n",
    "import pandas as pd\n",
    "import matplotlib.pyplot as plt\n",
    "from sklearn.ensemble import IsolationForest\n",
    "from sklearn.neighbors import LocalOutlierFactor\n",
    "from sklearn.cluster import KMeans\n",
    "from scipy import stats\n",
    "from scipy.spatial import distance\n",
    "import random\n",
    "random.seed(8888)\n",
    "# KSE \n",
    "def euc_dis(p1,p2):\n",
    "    a = p1.values\n",
    "    b = p2.values\n",
    "    c = np.vstack((a,b))\n",
    "    dist = distance.pdist(c)\n",
    "    return float(dist)\n",
    "def KSE_Test(df, sample_size):\n",
    "    # initiate two sample dfs, one distance matrix, and one kse score.\n",
    "    # generate 2 random samples.\n",
    "    sample1 = df.sample(n = sample_size, replace = False)\n",
    "    sample2 = df.sample(n = sample_size, replace = False)\n",
    "    kse_score = [] # empty list to store KSE scores\n",
    "#   distance_matrix = np.matrix([[None] * int(len(df) * fraction) , \n",
    "#                               [None] * int(len(df) * fraction)])\n",
    "#     distance_matrix = [[0 for x in range(len(sample1))] \n",
    "#                        for y in range(len(sample2))] \n",
    "    distance_matrix = np.zeros((sample_size, sample_size))\n",
    "    # calculate distance from all points in sample1 to all points in sample2\n",
    "    for i in range(0,sample_size):\n",
    "        for j in range(0,sample_size):\n",
    "            distance_matrix[i][j] = euc_dis(sample1.iloc[i,],sample2.iloc[j,])\n",
    "    # calculate average KS-score for each instance in df.\n",
    "    for i in range(0, len(df)):\n",
    "        observed_instance = df.iloc[i,]\n",
    "        distance_array = [0] * sample_size\n",
    "        for j in range(0,sample_size):\n",
    "            distance_array[j] = euc_dis(observed_instance,sample2.iloc[j,])\n",
    "        sum = 0\n",
    "        for k in range(0, sample_size):\n",
    "            ks_score = stats.ks_2samp(distance_array, distance_matrix[k])[0]\n",
    "            sum += ks_score\n",
    "        average = sum/sample_size\n",
    "        #kse_score[i] = average\n",
    "        kse_score.append((i, average))\n",
    "#         if (i%1000 == 0):\n",
    "#             print('loop %s' % i)\n",
    "    print(\"done\")\n",
    "    return kse_score \n",
    "\n",
    "def iForest(df):\n",
    "    clf = IsolationForest(max_samples=1000, contamination=0.05,random_state= 5, bootstrap=False)\n",
    "    clf.fit(df)\n",
    "    y_pred = clf.predict(df)\n",
    "    anomalies = df[y_pred == -1]\n",
    "    return anomalies\n",
    "\n",
    "def LOF(df):\n",
    "    clf = LocalOutlierFactor(n_neighbors=20, contamination = 0.05)\n",
    "    y_pred = clf.fit_predict(df)\n",
    "    anomalies = df[y_pred == -1]\n",
    "    return anomalies\n",
    "\n",
    "def final_result(anom_df):\n",
    "    kse_result = KSE_Test(anom_df, int(0.5 * len(anom_df)))\n",
    "    index_anom = [] \n",
    "    for i in kse_result:\n",
    "        if i[1] > 0.5:\n",
    "            index_anom.append(i[0])\n",
    "    # final result is a data set of the anomalies of the anomalies\n",
    "    final = anom_df.iloc[index_anom]\n",
    "    return final"
   ]
  },
  {
   "cell_type": "code",
   "execution_count": 8,
   "metadata": {
    "collapsed": false
   },
   "outputs": [
    {
     "name": "stdout",
     "output_type": "stream",
     "text": [
      "done\n",
      "done\n",
      "done\n",
      "done\n",
      "done\n",
      "done\n",
      "done\n",
      "done\n",
      "done\n",
      "done\n"
     ]
    }
   ],
   "source": [
    "mon_normalized = pd.read_csv('~/Desktop/data/normalized/data02_13_morning_Pages_normalized', sep = ',')[[\"bytes\",\"pkts\",\"dur\",\"rate\"]]\n",
    "tue_normalized = pd.read_csv('~/Desktop/data/normalized/data02_14_morning_Pages_normalized', sep = ',')[[\"bytes\",\"pkts\",\"dur\",\"rate\"]]\n",
    "wed_normalized = pd.read_csv('~/Desktop/data/normalized/data02_15_morning_Pages_normalized', sep = ',')[[\"bytes\",\"pkts\",\"dur\",\"rate\"]]\n",
    "thur_normalized = pd.read_csv('~/Desktop/data/normalized/data02_16_morning_Pages_normalized', sep = ',')[[\"bytes\",\"pkts\",\"dur\",\"rate\"]]\n",
    "fri_normalized = pd.read_csv('~/Desktop/data/normalized/data02_17_morning_Pages_normalized', sep = ',')[[\"bytes\",\"pkts\",\"dur\",\"rate\"]]\n",
    "\n",
    "## Anomalous data - iForest\n",
    "mon_norm_anom = iForest(mon_normalized)\n",
    "tue_norm_anom = iForest(tue_normalized)\n",
    "wed_norm_anom = iForest(wed_normalized)\n",
    "thur_norm_anom = iForest(thur_normalized)\n",
    "fri_norm_anom = iForest(fri_normalized)\n",
    "\n",
    "## Final results - iForest\n",
    "mon_norm_final = final_result(mon_norm_anom)\n",
    "tue_norm_final = final_result(tue_norm_anom)\n",
    "wed_norm_final = final_result(wed_norm_anom)\n",
    "thur_norm_final = final_result(thur_norm_anom)\n",
    "fri_norm_final = final_result(fri_norm_anom)"
   ]
  },
  {
   "cell_type": "code",
   "execution_count": 15,
   "metadata": {
    "collapsed": false
   },
   "outputs": [
    {
     "name": "stdout",
     "output_type": "stream",
     "text": [
      "done\n",
      "done\n",
      "done\n",
      "done\n",
      "done\n"
     ]
    }
   ],
   "source": [
    "## Anom data - LOF\n",
    "mon_norm_anom_ = LOF(mon_normalized)\n",
    "tue_norm_anom_ = LOF(tue_normalized)\n",
    "wed_norm_anom_ = LOF(wed_normalized)\n",
    "thur_norm_anom_ = LOF(thur_normalized)\n",
    "fri_norm_anom_ = LOF(fri_normalized)\n",
    "## Final results - LOF\n",
    "mon_norm_final_ = final_result(mon_norm_anom_)\n",
    "tue_norm_final_ = final_result(tue_norm_anom_)\n",
    "wed_norm_final_ = final_result(wed_norm_anom_)\n",
    "thur_norm_final_ = final_result(thur_norm_anom_)\n",
    "fri_norm_final_ = final_result(fri_norm_anom_)"
   ]
  },
  {
   "cell_type": "code",
   "execution_count": null,
   "metadata": {
    "collapsed": true
   },
   "outputs": [],
   "source": [
    "# 1. look at descriptive statistics on those classified as outliers by iForest and those \n",
    "# not classified as outliers by iForest\n",
    "\n",
    "## if we're just interested in the mean. Then four plots for four attributes, two lines in each\n",
    "## plot for two iForest results, and non-iForest results."
   ]
  },
  {
   "cell_type": "code",
   "execution_count": 30,
   "metadata": {
    "collapsed": false
   },
   "outputs": [],
   "source": [
    "# gives the datasets exclude anomalies identified by iForest.\n",
    "mon_norm = mon_normalized[~mon_normalized.isin(mon_norm_anom)].dropna()\n",
    "tue_norm = tue_normalized[~tue_normalized.isin(tue_norm_anom)].dropna()\n",
    "wed_norm = wed_normalized[~wed_normalized.isin(wed_norm_anom)].dropna()\n",
    "thur_norm = thur_normalized[~thur_normalized.isin(thur_norm_anom)].dropna()\n",
    "fri_norm = fri_normalized[~fri_normalized.isin(fri_norm_anom)].dropna()"
   ]
  },
  {
   "cell_type": "code",
   "execution_count": 38,
   "metadata": {
    "collapsed": false
   },
   "outputs": [
    {
     "data": {
      "text/plain": [
       "bytes    0.795530\n",
       "pkts     0.013677\n",
       "dur      0.006563\n",
       "rate     0.500233\n",
       "dtype: float64"
      ]
     },
     "execution_count": 38,
     "metadata": {},
     "output_type": "execute_result"
    }
   ],
   "source": [
    "np.mean(mon_norm_anom)"
   ]
  },
  {
   "cell_type": "code",
   "execution_count": 36,
   "metadata": {
    "collapsed": false
   },
   "outputs": [
    {
     "data": {
      "text/plain": [
       "bytes    0.082764\n",
       "pkts     0.000856\n",
       "dur      0.000025\n",
       "rate     0.977416\n",
       "dtype: float64"
      ]
     },
     "execution_count": 36,
     "metadata": {},
     "output_type": "execute_result"
    }
   ],
   "source": [
    "np.mean(mon_norm)"
   ]
  },
  {
   "cell_type": "code",
   "execution_count": 90,
   "metadata": {
    "collapsed": false
   },
   "outputs": [
    {
     "data": {
      "image/png": "[encoded data removed]",
      "text/plain": [
       "<matplotlib.figure.Figure at 0x113155a58>"
      ]
     },
     "metadata": {},
     "output_type": "display_data"
    }
   ],
   "source": [
    "# for mean\n",
    "fig = plt.figure()\n",
    "\n",
    "ax1 = fig.add_subplot(221)\n",
    "ax1.set_title(\"Bytes\")\n",
    "ax1.plot([1,2,3,4,5], [np.mean(mon_norm)[0],np.mean(tue_norm)[0],np.mean(wed_norm)[0],\n",
    "                       np.mean(thur_norm)[0],np.mean(fri_norm)[0]], '-b', label='normal traffic')\n",
    "ax1.plot([1,2,3,4,5], [np.mean(mon_norm_anom)[0],np.mean(tue_norm_anom)[0],np.mean(wed_norm_anom)[0],\n",
    "                       np.mean(thur_norm_anom)[0],np.mean(fri_norm_anom)[0]], '-r', label = 'anomalous traffic')\n",
    "\n",
    "ax2 = fig.add_subplot(222)\n",
    "ax2.set_title(\"Packets\")\n",
    "ax2.plot([1,2,3,4,5], [np.mean(mon_norm)[1],np.mean(tue_norm)[1],np.mean(wed_norm)[1],\n",
    "                       np.mean(thur_norm)[1],np.mean(fri_norm)[1]], '-b', label='normal traffic')\n",
    "ax2.plot([1,2,3,4,5], [np.mean(mon_norm_anom)[1],np.mean(tue_norm_anom)[1],np.mean(wed_norm_anom)[0],\n",
    "                       np.mean(thur_norm_anom)[1],np.mean(fri_norm_anom)[1]], '-r', label = 'anomalous traffic')\n",
    "\n",
    "ax3 = fig.add_subplot(223)\n",
    "ax3.set_title(\"Duration\")\n",
    "ax3.plot([1,2,3,4,5], [np.mean(mon_norm)[2],np.mean(tue_norm)[2],np.mean(wed_norm)[2],\n",
    "                       np.mean(thur_norm)[2],np.mean(fri_norm)[2]], '-b', label='normal traffic')\n",
    "ax3.plot([1,2,3,4,5], [np.mean(mon_norm_anom)[2],np.mean(tue_norm_anom)[2],np.mean(wed_norm_anom)[2],\n",
    "                       np.mean(thur_norm_anom)[2],np.mean(fri_norm_anom)[2]], '-r', label = 'anomalous traffic')\n",
    "\n",
    "ax4 = fig.add_subplot(224)\n",
    "ax4.set_title(\"Rate\")\n",
    "ax4.plot([1,2,3,4,5], [np.mean(mon_norm)[3],np.mean(tue_norm)[3],np.mean(wed_norm)[3],\n",
    "                       np.mean(thur_norm)[3],np.mean(fri_norm)[3]], '-b', label='normal traffic')\n",
    "ax4.plot([1,2,3,4,5], [np.mean(mon_norm_anom)[3],np.mean(tue_norm_anom)[3],np.mean(wed_norm_anom)[3],\n",
    "                       np.mean(thur_norm_anom)[3],np.mean(fri_norm_anom)[3]], '-r', label = 'anomalous traffic')\n",
    "\n",
    "plt.show()\n"
   ]
  },
  {
   "cell_type": "code",
   "execution_count": 42,
   "metadata": {
    "collapsed": false
   },
   "outputs": [
    {
     "data": {
      "text/plain": [
       "209"
      ]
     },
     "execution_count": 42,
     "metadata": {},
     "output_type": "execute_result"
    }
   ],
   "source": [
    "# 2. is LOF still a superset of iForest? (I thought LOF is a subset...) \n",
    "len(mon_norm_anom)"
   ]
  },
  {
   "cell_type": "code",
   "execution_count": 43,
   "metadata": {
    "collapsed": false
   },
   "outputs": [
    {
     "data": {
      "text/plain": [
       "209"
      ]
     },
     "execution_count": 43,
     "metadata": {},
     "output_type": "execute_result"
    }
   ],
   "source": [
    "len(mon_norm_anom_)"
   ]
  },
  {
   "cell_type": "code",
   "execution_count": 41,
   "metadata": {
    "collapsed": false
   },
   "outputs": [
    {
     "data": {
      "text/plain": [
       "63"
      ]
     },
     "execution_count": 41,
     "metadata": {},
     "output_type": "execute_result"
    }
   ],
   "source": [
    "len(set(mon_norm_anom.index.values).intersection(set(mon_norm_anom_.index.values)))"
   ]
  },
  {
   "cell_type": "code",
   "execution_count": null,
   "metadata": {
    "collapsed": true
   },
   "outputs": [],
   "source": [
    "# no long is result the subset of another"
   ]
  },
  {
   "cell_type": "code",
   "execution_count": 44,
   "metadata": {
    "collapsed": false
   },
   "outputs": [
    {
     "data": {
      "text/plain": [
       "3"
      ]
     },
     "execution_count": 44,
     "metadata": {},
     "output_type": "execute_result"
    }
   ],
   "source": [
    "# 3. KSE with iForest results\n",
    "len(mon_norm_final)"
   ]
  },
  {
   "cell_type": "code",
   "execution_count": 45,
   "metadata": {
    "collapsed": false
   },
   "outputs": [
    {
     "data": {
      "text/plain": [
       "87"
      ]
     },
     "execution_count": 45,
     "metadata": {},
     "output_type": "execute_result"
    }
   ],
   "source": [
    "len(mon_norm_final_)"
   ]
  },
  {
   "cell_type": "code",
   "execution_count": 46,
   "metadata": {
    "collapsed": false
   },
   "outputs": [
    {
     "data": {
      "text/plain": [
       "63"
      ]
     },
     "execution_count": 46,
     "metadata": {},
     "output_type": "execute_result"
    }
   ],
   "source": [
    "len(set(mon_norm_anom.index.values).intersection(set(mon_norm_final_.index.values))) "
   ]
  },
  {
   "cell_type": "code",
   "execution_count": null,
   "metadata": {
    "collapsed": true
   },
   "outputs": [],
   "source": [
    "# the above is interesting.."
   ]
  }
 ],
 "metadata": {
  "kernelspec": {
   "display_name": "Python [default]",
   "language": "python",
   "name": "python3"
  },
  "language_info": {
   "codemirror_mode": {
    "name": "ipython",
    "version": 3
   },
   "file_extension": ".py",
   "mimetype": "text/x-python",
   "name": "python",
   "nbconvert_exporter": "python",
   "pygments_lexer": "ipython3",
   "version": "3.5.2"
  }
 },
 "nbformat": 4,
 "nbformat_minor": 1
}
