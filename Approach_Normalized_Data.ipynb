{
 "cells": [
  {
   "cell_type": "code",
   "execution_count": 1,
   "metadata": {
    "collapsed": true
   },
   "outputs": [],
   "source": [
    "import numpy as np\n",
    "import pandas as pd\n",
    "import matplotlib.pyplot as plt\n",
    "from sklearn.ensemble import IsolationForest\n",
    "from sklearn.neighbors import LocalOutlierFactor\n",
    "from sklearn.cluster import KMeans\n",
    "from scipy import stats\n",
    "from scipy.spatial import distance\n",
    "import random\n",
    "random.seed(8888)\n",
    "# KSE \n",
    "def euc_dis(p1,p2):\n",
    "    a = p1.values\n",
    "    b = p2.values\n",
    "    c = np.vstack((a,b))\n",
    "    dist = distance.pdist(c)\n",
    "    return float(dist)\n",
    "def KSE_Test(df, sample_size):\n",
    "    # initiate two sample dfs, one distance matrix, and one kse score.\n",
    "    # generate 2 random samples.\n",
    "    sample1 = df.sample(n = sample_size, replace = False)\n",
    "    sample2 = df.sample(n = sample_size, replace = False)\n",
    "    kse_score = [] # empty list to store KSE scores\n",
    "#   distance_matrix = np.matrix([[None] * int(len(df) * fraction) , \n",
    "#                               [None] * int(len(df) * fraction)])\n",
    "#     distance_matrix = [[0 for x in range(len(sample1))] \n",
    "#                        for y in range(len(sample2))] \n",
    "    distance_matrix = np.zeros((sample_size, sample_size))\n",
    "    # calculate distance from all points in sample1 to all points in sample2\n",
    "    for i in range(0,sample_size):\n",
    "        for j in range(0,sample_size):\n",
    "            distance_matrix[i][j] = euc_dis(sample1.iloc[i,],sample2.iloc[j,])\n",
    "    # calculate average KS-score for each instance in df.\n",
    "    for i in range(0, len(df)):\n",
    "        observed_instance = df.iloc[i,]\n",
    "        distance_array = [0] * sample_size\n",
    "        for j in range(0,sample_size):\n",
    "            distance_array[j] = euc_dis(observed_instance,sample2.iloc[j,])\n",
    "        sum = 0\n",
    "        for k in range(0, sample_size):\n",
    "            ks_score = stats.ks_2samp(distance_array, distance_matrix[k])[0]\n",
    "            sum += ks_score\n",
    "        average = sum/sample_size\n",
    "        #kse_score[i] = average\n",
    "        kse_score.append((i, average))\n",
    "#         if (i%1000 == 0):\n",
    "#             print('loop %s' % i)\n",
    "    print(\"done\")\n",
    "    return kse_score \n",
    "\n",
    "def iForest(df):\n",
    "    clf = IsolationForest(max_samples=1000, contamination=0.05,random_state= 5, bootstrap=False)\n",
    "    clf.fit(df)\n",
    "    y_pred = clf.predict(df)\n",
    "    anomalies = df[y_pred == -1]\n",
    "    return anomalies\n",
    "\n",
    "def LOF(df):\n",
    "    clf = LocalOutlierFactor(n_neighbors=20, contamination = 0.05)\n",
    "    y_pred = clf.fit_predict(df)\n",
    "    anomalies = df[y_pred == -1]\n",
    "    return anomalies\n",
    "\n",
    "def final_result(anom_df):\n",
    "    kse_result = KSE_Test(anom_df, int(0.5 * len(anom_df)))\n",
    "    index_anom = [] \n",
    "    for i in kse_result:\n",
    "        if i[1] > 0.3:\n",
    "            index_anom.append(i[0])\n",
    "    # final result is a data set of the anomalies of the anomalies\n",
    "    final = anom_df.iloc[index_anom]\n",
    "    return final"
   ]
  },
  {
   "cell_type": "code",
   "execution_count": 2,
   "metadata": {
    "collapsed": false
   },
   "outputs": [
    {
     "name": "stdout",
     "output_type": "stream",
     "text": [
      "done\n",
      "done\n",
      "done\n",
      "done\n",
      "done\n"
     ]
    }
   ],
   "source": [
    "mon_normalized = pd.read_csv('~/Desktop/data/normalized/data02_13_morning_Pages_normalized', sep = ',')[[\"bytes\",\"pkts\",\"dur\",\"rate\"]]\n",
    "tue_normalized = pd.read_csv('~/Desktop/data/normalized/data02_14_morning_Pages_normalized', sep = ',')[[\"bytes\",\"pkts\",\"dur\",\"rate\"]]\n",
    "wed_normalized = pd.read_csv('~/Desktop/data/normalized/data02_15_morning_Pages_normalized', sep = ',')[[\"bytes\",\"pkts\",\"dur\",\"rate\"]]\n",
    "thur_normalized = pd.read_csv('~/Desktop/data/normalized/data02_16_morning_Pages_normalized', sep = ',')[[\"bytes\",\"pkts\",\"dur\",\"rate\"]]\n",
    "fri_normalized = pd.read_csv('~/Desktop/data/normalized/data02_17_morning_Pages_normalized', sep = ',')[[\"bytes\",\"pkts\",\"dur\",\"rate\"]]\n",
    "\n",
    "## Anomalous data - iForest\n",
    "mon_norm_anom = iForest(mon_normalized)\n",
    "tue_norm_anom = iForest(tue_normalized)\n",
    "wed_norm_anom = iForest(wed_normalized)\n",
    "thur_norm_anom = iForest(thur_normalized)\n",
    "fri_norm_anom = iForest(fri_normalized)\n",
    "\n",
    "## Final results - iForest\n",
    "mon_norm_final = final_result(mon_norm_anom)\n",
    "tue_norm_final = final_result(tue_norm_anom)\n",
    "wed_norm_final = final_result(wed_norm_anom)\n",
    "thur_norm_final = final_result(thur_norm_anom)\n",
    "fri_norm_final = final_result(fri_norm_anom)"
   ]
  },
  {
   "cell_type": "code",
   "execution_count": 3,
   "metadata": {
    "collapsed": false
   },
   "outputs": [
    {
     "name": "stdout",
     "output_type": "stream",
     "text": [
      "done\n",
      "done\n",
      "done\n",
      "done\n",
      "done\n"
     ]
    }
   ],
   "source": [
    "## Anom data - LOF\n",
    "mon_norm_anom_ = LOF(mon_normalized)\n",
    "tue_norm_anom_ = LOF(tue_normalized)\n",
    "wed_norm_anom_ = LOF(wed_normalized)\n",
    "thur_norm_anom_ = LOF(thur_normalized)\n",
    "fri_norm_anom_ = LOF(fri_normalized)\n",
    "## Final results - LOF\n",
    "mon_norm_final_ = final_result(mon_norm_anom_)\n",
    "tue_norm_final_ = final_result(tue_norm_anom_)\n",
    "wed_norm_final_ = final_result(wed_norm_anom_)\n",
    "thur_norm_final_ = final_result(thur_norm_anom_)\n",
    "fri_norm_final_ = final_result(fri_norm_anom_)"
   ]
  },
  {
   "cell_type": "code",
   "execution_count": 4,
   "metadata": {
    "collapsed": true
   },
   "outputs": [],
   "source": [
    "# Q3 Density plots\n",
    "%matplotlib inline\n",
    "import seaborn as sns\n",
    "sns.set(color_codes=True)"
   ]
  },
  {
   "cell_type": "code",
   "execution_count": 5,
   "metadata": {
    "collapsed": false
   },
   "outputs": [
    {
     "name": "stderr",
     "output_type": "stream",
     "text": [
      "/Users/ChineseSamurai/anaconda/lib/python3.5/site-packages/statsmodels/nonparametric/kdetools.py:20: VisibleDeprecationWarning: using a non-integer number instead of an integer will result in an error in the future\n",
      "  y = X[:m/2+1] + np.r_[0,X[m/2+1:],0]*1j\n"
     ]
    },
    {
     "data": {
      "text/plain": [
       "<matplotlib.legend.Legend at 0x1127ba080>"
      ]
     },
     "execution_count": 5,
     "metadata": {},
     "output_type": "execute_result"
    },
    {
     "data": {
      "image/png": "[encoded data removed]",
      "text/plain": [
       "<matplotlib.figure.Figure at 0x1124e9b38>"
      ]
     },
     "metadata": {},
     "output_type": "display_data"
    }
   ],
   "source": [
    "fig, (ax_1, ax_2, ax_3) = plt.subplots(1, 3, figsize=(12, 5))\n",
    "\n",
    "sns.distplot(mon_normalized.bytes, label = 'mon', hist=False, ax = ax_1)\n",
    "sns.distplot(tue_normalized.bytes, label = 'tue', hist=False, ax = ax_1)\n",
    "sns.distplot(wed_normalized.bytes, label = 'wed', hist=False,ax = ax_1)\n",
    "sns.distplot(thur_normalized.bytes, label = 'thur', hist=False,ax = ax_1)\n",
    "sns.distplot(fri_normalized.bytes, label = 'fri', hist=False,ax = ax_1)\n",
    "\n",
    "sns.distplot(mon_norm_anom.bytes, label = 'mon', hist=False, ax = ax_2)\n",
    "sns.distplot(tue_norm_anom.bytes, label = 'tue', hist=False, ax = ax_2)\n",
    "sns.distplot(wed_norm_anom.bytes, label = 'wed', hist=False,ax = ax_2)\n",
    "sns.distplot(thur_norm_anom.bytes, label = 'thur', hist=False,ax = ax_2)\n",
    "sns.distplot(fri_norm_anom.bytes, label = 'fri', hist=False,ax = ax_2)\n",
    "\n",
    "sns.distplot(mon_norm_final.bytes, label = 'mon', hist=False, ax = ax_3)\n",
    "sns.distplot(tue_norm_final.bytes, label = 'tue', hist=False, ax = ax_3)\n",
    "sns.distplot(wed_norm_final.bytes, label = 'wed', hist=False, ax = ax_3)\n",
    "sns.distplot(thur_norm_final.bytes, label = 'thur', hist=False,ax = ax_3)\n",
    "sns.distplot(fri_norm_final.bytes, label = 'fri', hist=False,ax = ax_3)\n",
    "\n",
    "ax_1.legend()\n",
    "ax_2.legend()\n",
    "ax_3.legend()"
   ]
  },
  {
   "cell_type": "code",
   "execution_count": 64,
   "metadata": {
    "collapsed": false
   },
   "outputs": [
    {
     "data": {
      "text/html": [
       "<div>\n",
       "<table border=\"1\" class=\"dataframe\">\n",
       "  <thead>\n",
       "    <tr style=\"text-align: right;\">\n",
       "      <th></th>\n",
       "      <th>bytes</th>\n",
       "      <th>pkts</th>\n",
       "      <th>dur</th>\n",
       "      <th>rate</th>\n",
       "    </tr>\n",
       "  </thead>\n",
       "  <tbody>\n",
       "    <tr>\n",
       "      <th>544</th>\n",
       "      <td>0.239904</td>\n",
       "      <td>0.005579</td>\n",
       "      <td>0.000689</td>\n",
       "      <td>0.970780</td>\n",
       "    </tr>\n",
       "    <tr>\n",
       "      <th>640</th>\n",
       "      <td>0.239904</td>\n",
       "      <td>0.005452</td>\n",
       "      <td>0.000898</td>\n",
       "      <td>0.970781</td>\n",
       "    </tr>\n",
       "    <tr>\n",
       "      <th>744</th>\n",
       "      <td>0.178343</td>\n",
       "      <td>0.004053</td>\n",
       "      <td>0.000490</td>\n",
       "      <td>0.983960</td>\n",
       "    </tr>\n",
       "  </tbody>\n",
       "</table>\n",
       "</div>"
      ],
      "text/plain": [
       "        bytes      pkts       dur      rate\n",
       "544  0.239904  0.005579  0.000689  0.970780\n",
       "640  0.239904  0.005452  0.000898  0.970781\n",
       "744  0.178343  0.004053  0.000490  0.983960"
      ]
     },
     "execution_count": 64,
     "metadata": {},
     "output_type": "execute_result"
    }
   ],
   "source": []
  },
  {
   "cell_type": "code",
   "execution_count": null,
   "metadata": {
    "collapsed": true
   },
   "outputs": [],
   "source": []
  },
  {
   "cell_type": "code",
   "execution_count": null,
   "metadata": {
    "collapsed": true
   },
   "outputs": [],
   "source": []
  },
  {
   "cell_type": "code",
   "execution_count": 72,
   "metadata": {
    "collapsed": false
   },
   "outputs": [
    {
     "name": "stdout",
     "output_type": "stream",
     "text": [
      "done\n"
     ]
    }
   ],
   "source": [
    "mon_norm_final = final_result(mon_norm_anom)\n"
   ]
  },
  {
   "cell_type": "code",
   "execution_count": 73,
   "metadata": {
    "collapsed": false
   },
   "outputs": [
    {
     "data": {
      "text/plain": [
       "3"
      ]
     },
     "execution_count": 73,
     "metadata": {},
     "output_type": "execute_result"
    }
   ],
   "source": [
    "len(mon_norm_final)"
   ]
  },
  {
   "cell_type": "code",
   "execution_count": null,
   "metadata": {
    "collapsed": true
   },
   "outputs": [],
   "source": []
  },
  {
   "cell_type": "code",
   "execution_count": null,
   "metadata": {
    "collapsed": true
   },
   "outputs": [],
   "source": []
  },
  {
   "cell_type": "code",
   "execution_count": 6,
   "metadata": {
    "collapsed": false
   },
   "outputs": [
    {
     "data": {
      "text/plain": [
       "0.050204179678116745"
      ]
     },
     "execution_count": 6,
     "metadata": {},
     "output_type": "execute_result"
    }
   ],
   "source": [
    "len(mon_norm_anom) / len(mon_normalized)"
   ]
  },
  {
   "cell_type": "code",
   "execution_count": 5,
   "metadata": {
    "collapsed": false
   },
   "outputs": [
    {
     "data": {
      "text/plain": [
       "209"
      ]
     },
     "execution_count": 5,
     "metadata": {},
     "output_type": "execute_result"
    }
   ],
   "source": [
    "len(mon_norm_anom_)"
   ]
  },
  {
   "cell_type": "code",
   "execution_count": null,
   "metadata": {
    "collapsed": true
   },
   "outputs": [],
   "source": [
    "# 1. look at descriptive statistics on those classified as outliers by iForest and those \n",
    "# not classified as outliers by iForest\n",
    "\n",
    "## if we're just interested in the mean. Then four plots for four attributes, two lines in each\n",
    "## plot for two iForest results, and non-iForest results."
   ]
  },
  {
   "cell_type": "code",
   "execution_count": 30,
   "metadata": {
    "collapsed": false
   },
   "outputs": [],
   "source": [
    "# gives the datasets exclude anomalies identified by iForest.\n",
    "mon_norm = mon_normalized[~mon_normalized.isin(mon_norm_anom)].dropna()\n",
    "tue_norm = tue_normalized[~tue_normalized.isin(tue_norm_anom)].dropna()\n",
    "wed_norm = wed_normalized[~wed_normalized.isin(wed_norm_anom)].dropna()\n",
    "thur_norm = thur_normalized[~thur_normalized.isin(thur_norm_anom)].dropna()\n",
    "fri_norm = fri_normalized[~fri_normalized.isin(fri_norm_anom)].dropna()"
   ]
  },
  {
   "cell_type": "code",
   "execution_count": 38,
   "metadata": {
    "collapsed": false
   },
   "outputs": [
    {
     "data": {
      "text/plain": [
       "bytes    0.795530\n",
       "pkts     0.013677\n",
       "dur      0.006563\n",
       "rate     0.500233\n",
       "dtype: float64"
      ]
     },
     "execution_count": 38,
     "metadata": {},
     "output_type": "execute_result"
    }
   ],
   "source": [
    "np.mean(mon_norm_anom)"
   ]
  },
  {
   "cell_type": "code",
   "execution_count": 36,
   "metadata": {
    "collapsed": false
   },
   "outputs": [
    {
     "data": {
      "text/plain": [
       "bytes    0.082764\n",
       "pkts     0.000856\n",
       "dur      0.000025\n",
       "rate     0.977416\n",
       "dtype: float64"
      ]
     },
     "execution_count": 36,
     "metadata": {},
     "output_type": "execute_result"
    }
   ],
   "source": [
    "np.mean(mon_norm)"
   ]
  },
  {
   "cell_type": "code",
   "execution_count": 90,
   "metadata": {
    "collapsed": false
   },
   "outputs": [
    {
     "data": {
      "image/png": "[encoded data removed]",
      "text/plain": [
       "<matplotlib.figure.Figure at 0x113155a58>"
      ]
     },
     "metadata": {},
     "output_type": "display_data"
    }
   ],
   "source": [
    "# for mean\n",
    "fig = plt.figure()\n",
    "\n",
    "ax1 = fig.add_subplot(221)\n",
    "ax1.set_title(\"Bytes\")\n",
    "ax1.plot([1,2,3,4,5], [np.mean(mon_norm)[0],np.mean(tue_norm)[0],np.mean(wed_norm)[0],\n",
    "                       np.mean(thur_norm)[0],np.mean(fri_norm)[0]], '-b', label='normal traffic')\n",
    "ax1.plot([1,2,3,4,5], [np.mean(mon_norm_anom)[0],np.mean(tue_norm_anom)[0],np.mean(wed_norm_anom)[0],\n",
    "                       np.mean(thur_norm_anom)[0],np.mean(fri_norm_anom)[0]], '-r', label = 'anomalous traffic')\n",
    "\n",
    "ax2 = fig.add_subplot(222)\n",
    "ax2.set_title(\"Packets\")\n",
    "ax2.plot([1,2,3,4,5], [np.mean(mon_norm)[1],np.mean(tue_norm)[1],np.mean(wed_norm)[1],\n",
    "                       np.mean(thur_norm)[1],np.mean(fri_norm)[1]], '-b', label='normal traffic')\n",
    "ax2.plot([1,2,3,4,5], [np.mean(mon_norm_anom)[1],np.mean(tue_norm_anom)[1],np.mean(wed_norm_anom)[0],\n",
    "                       np.mean(thur_norm_anom)[1],np.mean(fri_norm_anom)[1]], '-r', label = 'anomalous traffic')\n",
    "\n",
    "ax3 = fig.add_subplot(223)\n",
    "ax3.set_title(\"Duration\")\n",
    "ax3.plot([1,2,3,4,5], [np.mean(mon_norm)[2],np.mean(tue_norm)[2],np.mean(wed_norm)[2],\n",
    "                       np.mean(thur_norm)[2],np.mean(fri_norm)[2]], '-b', label='normal traffic')\n",
    "ax3.plot([1,2,3,4,5], [np.mean(mon_norm_anom)[2],np.mean(tue_norm_anom)[2],np.mean(wed_norm_anom)[2],\n",
    "                       np.mean(thur_norm_anom)[2],np.mean(fri_norm_anom)[2]], '-r', label = 'anomalous traffic')\n",
    "\n",
    "ax4 = fig.add_subplot(224)\n",
    "ax4.set_title(\"Rate\")\n",
    "ax4.plot([1,2,3,4,5], [np.mean(mon_norm)[3],np.mean(tue_norm)[3],np.mean(wed_norm)[3],\n",
    "                       np.mean(thur_norm)[3],np.mean(fri_norm)[3]], '-b', label='normal traffic')\n",
    "ax4.plot([1,2,3,4,5], [np.mean(mon_norm_anom)[3],np.mean(tue_norm_anom)[3],np.mean(wed_norm_anom)[3],\n",
    "                       np.mean(thur_norm_anom)[3],np.mean(fri_norm_anom)[3]], '-r', label = 'anomalous traffic')\n",
    "\n",
    "plt.show()\n"
   ]
  },
  {
   "cell_type": "code",
   "execution_count": 42,
   "metadata": {
    "collapsed": false
   },
   "outputs": [
    {
     "data": {
      "text/plain": [
       "209"
      ]
     },
     "execution_count": 42,
     "metadata": {},
     "output_type": "execute_result"
    }
   ],
   "source": [
    "# 2. is LOF still a superset of iForest? (I thought LOF is a subset...) \n",
    "len(mon_norm_anom)"
   ]
  },
  {
   "cell_type": "code",
   "execution_count": 43,
   "metadata": {
    "collapsed": false
   },
   "outputs": [
    {
     "data": {
      "text/plain": [
       "209"
      ]
     },
     "execution_count": 43,
     "metadata": {},
     "output_type": "execute_result"
    }
   ],
   "source": [
    "len(mon_norm_anom_)"
   ]
  },
  {
   "cell_type": "code",
   "execution_count": 9,
   "metadata": {
    "collapsed": false
   },
   "outputs": [
    {
     "data": {
      "text/plain": [
       "63"
      ]
     },
     "execution_count": 9,
     "metadata": {},
     "output_type": "execute_result"
    }
   ],
   "source": [
    "len(set(mon_norm_anom.index.values).intersection(set(mon_norm_anom_.index.values)))"
   ]
  },
  {
   "cell_type": "code",
   "execution_count": 10,
   "metadata": {
    "collapsed": false
   },
   "outputs": [
    {
     "name": "stderr",
     "output_type": "stream",
     "text": [
      "/Users/ChineseSamurai/anaconda/lib/python3.5/site-packages/ipykernel/__main__.py:1: FutureWarning: sort(columns=....) is deprecated, use sort_values(by=.....)\n",
      "  if __name__ == '__main__':\n"
     ]
    },
    {
     "data": {
      "text/html": [
       "<div>\n",
       "<table border=\"1\" class=\"dataframe\">\n",
       "  <thead>\n",
       "    <tr style=\"text-align: right;\">\n",
       "      <th></th>\n",
       "      <th>bytes</th>\n",
       "      <th>pkts</th>\n",
       "      <th>dur</th>\n",
       "      <th>rate</th>\n",
       "    </tr>\n",
       "  </thead>\n",
       "  <tbody>\n",
       "    <tr>\n",
       "      <th>744</th>\n",
       "      <td>0.178343</td>\n",
       "      <td>0.004053</td>\n",
       "      <td>0.000490</td>\n",
       "      <td>0.983960</td>\n",
       "    </tr>\n",
       "    <tr>\n",
       "      <th>640</th>\n",
       "      <td>0.239904</td>\n",
       "      <td>0.005452</td>\n",
       "      <td>0.000898</td>\n",
       "      <td>0.970781</td>\n",
       "    </tr>\n",
       "    <tr>\n",
       "      <th>544</th>\n",
       "      <td>0.239904</td>\n",
       "      <td>0.005579</td>\n",
       "      <td>0.000689</td>\n",
       "      <td>0.970780</td>\n",
       "    </tr>\n",
       "    <tr>\n",
       "      <th>3789</th>\n",
       "      <td>0.440442</td>\n",
       "      <td>0.010733</td>\n",
       "      <td>0.000047</td>\n",
       "      <td>0.897717</td>\n",
       "    </tr>\n",
       "    <tr>\n",
       "      <th>2215</th>\n",
       "      <td>0.442699</td>\n",
       "      <td>0.010061</td>\n",
       "      <td>0.003312</td>\n",
       "      <td>0.896608</td>\n",
       "    </tr>\n",
       "  </tbody>\n",
       "</table>\n",
       "</div>"
      ],
      "text/plain": [
       "         bytes      pkts       dur      rate\n",
       "744   0.178343  0.004053  0.000490  0.983960\n",
       "640   0.239904  0.005452  0.000898  0.970781\n",
       "544   0.239904  0.005579  0.000689  0.970780\n",
       "3789  0.440442  0.010733  0.000047  0.897717\n",
       "2215  0.442699  0.010061  0.003312  0.896608"
      ]
     },
     "execution_count": 10,
     "metadata": {},
     "output_type": "execute_result"
    }
   ],
   "source": [
    "mon_norm_anom.sort('rate', ascending=0).head() "
   ]
  },
  {
   "cell_type": "code",
   "execution_count": 11,
   "metadata": {
    "collapsed": false
   },
   "outputs": [
    {
     "name": "stderr",
     "output_type": "stream",
     "text": [
      "/Users/ChineseSamurai/anaconda/lib/python3.5/site-packages/ipykernel/__main__.py:1: FutureWarning: sort(columns=....) is deprecated, use sort_values(by=.....)\n",
      "  if __name__ == '__main__':\n"
     ]
    },
    {
     "data": {
      "text/html": [
       "<div>\n",
       "<table border=\"1\" class=\"dataframe\">\n",
       "  <thead>\n",
       "    <tr style=\"text-align: right;\">\n",
       "      <th></th>\n",
       "      <th>bytes</th>\n",
       "      <th>pkts</th>\n",
       "      <th>dur</th>\n",
       "      <th>rate</th>\n",
       "    </tr>\n",
       "  </thead>\n",
       "  <tbody>\n",
       "    <tr>\n",
       "      <th>2865</th>\n",
       "      <td>0.001625</td>\n",
       "      <td>0.000035</td>\n",
       "      <td>5.740482e-08</td>\n",
       "      <td>0.999999</td>\n",
       "    </tr>\n",
       "    <tr>\n",
       "      <th>3671</th>\n",
       "      <td>0.001625</td>\n",
       "      <td>0.000035</td>\n",
       "      <td>5.740482e-08</td>\n",
       "      <td>0.999999</td>\n",
       "    </tr>\n",
       "    <tr>\n",
       "      <th>4037</th>\n",
       "      <td>0.001625</td>\n",
       "      <td>0.000035</td>\n",
       "      <td>5.740482e-08</td>\n",
       "      <td>0.999999</td>\n",
       "    </tr>\n",
       "    <tr>\n",
       "      <th>2932</th>\n",
       "      <td>0.002125</td>\n",
       "      <td>0.000008</td>\n",
       "      <td>8.862815e-09</td>\n",
       "      <td>0.999998</td>\n",
       "    </tr>\n",
       "    <tr>\n",
       "      <th>285</th>\n",
       "      <td>0.002250</td>\n",
       "      <td>0.000010</td>\n",
       "      <td>1.137646e-08</td>\n",
       "      <td>0.999997</td>\n",
       "    </tr>\n",
       "  </tbody>\n",
       "</table>\n",
       "</div>"
      ],
      "text/plain": [
       "         bytes      pkts           dur      rate\n",
       "2865  0.001625  0.000035  5.740482e-08  0.999999\n",
       "3671  0.001625  0.000035  5.740482e-08  0.999999\n",
       "4037  0.001625  0.000035  5.740482e-08  0.999999\n",
       "2932  0.002125  0.000008  8.862815e-09  0.999998\n",
       "285   0.002250  0.000010  1.137646e-08  0.999997"
      ]
     },
     "execution_count": 11,
     "metadata": {},
     "output_type": "execute_result"
    }
   ],
   "source": [
    "mon_normalized.sort('rate', ascending=0).head() "
   ]
  },
  {
   "cell_type": "code",
   "execution_count": 36,
   "metadata": {
    "collapsed": false
   },
   "outputs": [
    {
     "name": "stderr",
     "output_type": "stream",
     "text": [
      "/Users/ChineseSamurai/anaconda/lib/python3.5/site-packages/ipykernel/__main__.py:1: FutureWarning: sort(columns=....) is deprecated, use sort_values(by=.....)\n",
      "  if __name__ == '__main__':\n"
     ]
    },
    {
     "data": {
      "text/plain": [
       "150"
      ]
     },
     "execution_count": 36,
     "metadata": {},
     "output_type": "execute_result"
    }
   ],
   "source": [
    "len(set(mon_norm_anom.sort('bytes', ascending=0).head(209).index.values).intersection(set(mon_normalized.sort('bytes', ascending=0).head(209).index.values)))"
   ]
  },
  {
   "cell_type": "code",
   "execution_count": 37,
   "metadata": {
    "collapsed": false
   },
   "outputs": [
    {
     "name": "stderr",
     "output_type": "stream",
     "text": [
      "/Users/ChineseSamurai/anaconda/lib/python3.5/site-packages/ipykernel/__main__.py:1: FutureWarning: sort(columns=....) is deprecated, use sort_values(by=.....)\n",
      "  if __name__ == '__main__':\n"
     ]
    },
    {
     "data": {
      "text/plain": [
       "145"
      ]
     },
     "execution_count": 37,
     "metadata": {},
     "output_type": "execute_result"
    }
   ],
   "source": [
    "len(set(mon_norm_anom.sort('bytes', ascending=0).head(209).index.values).intersection(set(mon_normalized.sort('pkts', ascending=0).head(209).index.values)))"
   ]
  },
  {
   "cell_type": "code",
   "execution_count": 34,
   "metadata": {
    "collapsed": false
   },
   "outputs": [
    {
     "name": "stderr",
     "output_type": "stream",
     "text": [
      "/Users/ChineseSamurai/anaconda/lib/python3.5/site-packages/ipykernel/__main__.py:1: FutureWarning: sort(columns=....) is deprecated, use sort_values(by=.....)\n",
      "  if __name__ == '__main__':\n"
     ]
    },
    {
     "data": {
      "text/plain": [
       "42"
      ]
     },
     "execution_count": 34,
     "metadata": {},
     "output_type": "execute_result"
    }
   ],
   "source": [
    "len(set(mon_norm_anom.sort('bytes', ascending=0).head(209).index.values).intersection(set(mon_normalized.sort('dur', ascending=1).head(209).index.values)))"
   ]
  },
  {
   "cell_type": "code",
   "execution_count": 32,
   "metadata": {
    "collapsed": false
   },
   "outputs": [
    {
     "name": "stderr",
     "output_type": "stream",
     "text": [
      "/Users/ChineseSamurai/anaconda/lib/python3.5/site-packages/ipykernel/__main__.py:1: FutureWarning: sort(columns=....) is deprecated, use sort_values(by=.....)\n",
      "  if __name__ == '__main__':\n"
     ]
    },
    {
     "data": {
      "text/plain": [
       "150"
      ]
     },
     "execution_count": 32,
     "metadata": {},
     "output_type": "execute_result"
    }
   ],
   "source": [
    "len(set(mon_norm_anom.sort('bytes', ascending=0).head(209).index.values).intersection(set(mon_normalized.sort('rate', ascending=1).head(209).index.values)))"
   ]
  },
  {
   "cell_type": "code",
   "execution_count": 40,
   "metadata": {
    "collapsed": false
   },
   "outputs": [
    {
     "name": "stderr",
     "output_type": "stream",
     "text": [
      "/Users/ChineseSamurai/anaconda/lib/python3.5/site-packages/ipykernel/__main__.py:1: FutureWarning: sort(columns=....) is deprecated, use sort_values(by=.....)\n",
      "  if __name__ == '__main__':\n"
     ]
    },
    {
     "data": {
      "text/plain": [
       "143"
      ]
     },
     "execution_count": 40,
     "metadata": {},
     "output_type": "execute_result"
    }
   ],
   "source": [
    "len(set(mon_norm_anom.index.values).intersection(set(mon_normalized.sort('dur', ascending=0).head(209).index.values)))"
   ]
  },
  {
   "cell_type": "code",
   "execution_count": 39,
   "metadata": {
    "collapsed": false
   },
   "outputs": [
    {
     "data": {
      "text/plain": [
       "209"
      ]
     },
     "execution_count": 39,
     "metadata": {},
     "output_type": "execute_result"
    }
   ],
   "source": [
    "len(mon_norm_anom)"
   ]
  },
  {
   "cell_type": "code",
   "execution_count": null,
   "metadata": {
    "collapsed": true
   },
   "outputs": [],
   "source": [
    "len(set(mon_norm_anom.sort('bytes', ascending=0).head(209).index.values).intersection(set(mon_normalized.sort('dur', ascending=1).head(209).index.values)))"
   ]
  },
  {
   "cell_type": "code",
   "execution_count": 43,
   "metadata": {
    "collapsed": false
   },
   "outputs": [
    {
     "name": "stderr",
     "output_type": "stream",
     "text": [
      "/Users/ChineseSamurai/anaconda/lib/python3.5/site-packages/ipykernel/__main__.py:1: FutureWarning: sort(columns=....) is deprecated, use sort_values(by=.....)\n",
      "  if __name__ == '__main__':\n"
     ]
    },
    {
     "data": {
      "text/plain": [
       "66"
      ]
     },
     "execution_count": 43,
     "metadata": {},
     "output_type": "execute_result"
    }
   ],
   "source": [
    "len(set(mon_norm_anom.index.values).difference(set(mon_normalized.sort('dur', ascending=0).head(209).index.values)))"
   ]
  },
  {
   "cell_type": "code",
   "execution_count": 44,
   "metadata": {
    "collapsed": false
   },
   "outputs": [
    {
     "name": "stderr",
     "output_type": "stream",
     "text": [
      "/Users/ChineseSamurai/anaconda/lib/python3.5/site-packages/ipykernel/__main__.py:1: FutureWarning: sort(columns=....) is deprecated, use sort_values(by=.....)\n",
      "  if __name__ == '__main__':\n"
     ]
    },
    {
     "data": {
      "text/plain": [
       "143"
      ]
     },
     "execution_count": 44,
     "metadata": {},
     "output_type": "execute_result"
    }
   ],
   "source": [
    "len(set(mon_norm_anom.index.values).intersection(set(mon_normalized.sort('dur', ascending=0).head(209).index.values)))"
   ]
  },
  {
   "cell_type": "code",
   "execution_count": 46,
   "metadata": {
    "collapsed": false
   },
   "outputs": [
    {
     "name": "stderr",
     "output_type": "stream",
     "text": [
      "/Users/ChineseSamurai/anaconda/lib/python3.5/site-packages/ipykernel/__main__.py:1: FutureWarning: sort(columns=....) is deprecated, use sort_values(by=.....)\n",
      "  if __name__ == '__main__':\n"
     ]
    }
   ],
   "source": [
    "ind = set(mon_norm_anom.index.values).difference(set(mon_normalized.sort('dur', ascending=0).head(209).index.values))"
   ]
  },
  {
   "cell_type": "code",
   "execution_count": 47,
   "metadata": {
    "collapsed": false
   },
   "outputs": [
    {
     "data": {
      "text/html": [
       "<div>\n",
       "<table border=\"1\" class=\"dataframe\">\n",
       "  <thead>\n",
       "    <tr style=\"text-align: right;\">\n",
       "      <th></th>\n",
       "      <th>bytes</th>\n",
       "      <th>pkts</th>\n",
       "      <th>dur</th>\n",
       "      <th>rate</th>\n",
       "    </tr>\n",
       "  </thead>\n",
       "  <tbody>\n",
       "    <tr>\n",
       "      <th>0</th>\n",
       "      <td>0.067843</td>\n",
       "      <td>0.001120</td>\n",
       "      <td>0.000003</td>\n",
       "      <td>0.997695</td>\n",
       "    </tr>\n",
       "    <tr>\n",
       "      <th>1</th>\n",
       "      <td>0.042088</td>\n",
       "      <td>0.000580</td>\n",
       "      <td>0.000002</td>\n",
       "      <td>0.999114</td>\n",
       "    </tr>\n",
       "    <tr>\n",
       "      <th>2</th>\n",
       "      <td>0.168074</td>\n",
       "      <td>0.003059</td>\n",
       "      <td>0.000013</td>\n",
       "      <td>0.985770</td>\n",
       "    </tr>\n",
       "    <tr>\n",
       "      <th>3</th>\n",
       "      <td>0.276972</td>\n",
       "      <td>0.001844</td>\n",
       "      <td>0.000213</td>\n",
       "      <td>0.960876</td>\n",
       "    </tr>\n",
       "    <tr>\n",
       "      <th>4</th>\n",
       "      <td>0.034854</td>\n",
       "      <td>0.000175</td>\n",
       "      <td>0.000002</td>\n",
       "      <td>0.999392</td>\n",
       "    </tr>\n",
       "  </tbody>\n",
       "</table>\n",
       "</div>"
      ],
      "text/plain": [
       "      bytes      pkts       dur      rate\n",
       "0  0.067843  0.001120  0.000003  0.997695\n",
       "1  0.042088  0.000580  0.000002  0.999114\n",
       "2  0.168074  0.003059  0.000013  0.985770\n",
       "3  0.276972  0.001844  0.000213  0.960876\n",
       "4  0.034854  0.000175  0.000002  0.999392"
      ]
     },
     "execution_count": 47,
     "metadata": {},
     "output_type": "execute_result"
    }
   ],
   "source": [
    "mon_normalized.head()"
   ]
  },
  {
   "cell_type": "code",
   "execution_count": 58,
   "metadata": {
    "collapsed": false
   },
   "outputs": [
    {
     "data": {
      "text/html": [
       "<div>\n",
       "<table border=\"1\" class=\"dataframe\">\n",
       "  <thead>\n",
       "    <tr style=\"text-align: right;\">\n",
       "      <th></th>\n",
       "      <th>bytes</th>\n",
       "      <th>pkts</th>\n",
       "      <th>dur</th>\n",
       "      <th>rate</th>\n",
       "    </tr>\n",
       "  </thead>\n",
       "  <tbody>\n",
       "    <tr>\n",
       "      <th>3840</th>\n",
       "      <td>0.735828</td>\n",
       "      <td>0.000604</td>\n",
       "      <td>0.000034</td>\n",
       "      <td>0.677168</td>\n",
       "    </tr>\n",
       "    <tr>\n",
       "      <th>1920</th>\n",
       "      <td>0.999730</td>\n",
       "      <td>0.023250</td>\n",
       "      <td>0.000000</td>\n",
       "      <td>0.000000</td>\n",
       "    </tr>\n",
       "    <tr>\n",
       "      <th>2699</th>\n",
       "      <td>0.943690</td>\n",
       "      <td>0.000694</td>\n",
       "      <td>0.000022</td>\n",
       "      <td>0.330829</td>\n",
       "    </tr>\n",
       "    <tr>\n",
       "      <th>3212</th>\n",
       "      <td>0.738105</td>\n",
       "      <td>0.000570</td>\n",
       "      <td>0.000026</td>\n",
       "      <td>0.674685</td>\n",
       "    </tr>\n",
       "    <tr>\n",
       "      <th>2701</th>\n",
       "      <td>0.999688</td>\n",
       "      <td>0.024992</td>\n",
       "      <td>0.000000</td>\n",
       "      <td>0.000000</td>\n",
       "    </tr>\n",
       "    <tr>\n",
       "      <th>397</th>\n",
       "      <td>0.999878</td>\n",
       "      <td>0.015623</td>\n",
       "      <td>0.000000</td>\n",
       "      <td>0.000000</td>\n",
       "    </tr>\n",
       "    <tr>\n",
       "      <th>4111</th>\n",
       "      <td>0.999730</td>\n",
       "      <td>0.023250</td>\n",
       "      <td>0.000000</td>\n",
       "      <td>0.000000</td>\n",
       "    </tr>\n",
       "    <tr>\n",
       "      <th>398</th>\n",
       "      <td>0.999878</td>\n",
       "      <td>0.015623</td>\n",
       "      <td>0.000000</td>\n",
       "      <td>0.000000</td>\n",
       "    </tr>\n",
       "    <tr>\n",
       "      <th>4115</th>\n",
       "      <td>0.814541</td>\n",
       "      <td>0.000630</td>\n",
       "      <td>0.000030</td>\n",
       "      <td>0.580106</td>\n",
       "    </tr>\n",
       "    <tr>\n",
       "      <th>3348</th>\n",
       "      <td>0.900711</td>\n",
       "      <td>0.000683</td>\n",
       "      <td>0.000046</td>\n",
       "      <td>0.434418</td>\n",
       "    </tr>\n",
       "    <tr>\n",
       "      <th>3476</th>\n",
       "      <td>0.999688</td>\n",
       "      <td>0.024992</td>\n",
       "      <td>0.000000</td>\n",
       "      <td>0.000000</td>\n",
       "    </tr>\n",
       "    <tr>\n",
       "      <th>2710</th>\n",
       "      <td>0.999688</td>\n",
       "      <td>0.024992</td>\n",
       "      <td>0.000000</td>\n",
       "      <td>0.000000</td>\n",
       "    </tr>\n",
       "    <tr>\n",
       "      <th>536</th>\n",
       "      <td>1.000000</td>\n",
       "      <td>0.000667</td>\n",
       "      <td>0.000000</td>\n",
       "      <td>0.000000</td>\n",
       "    </tr>\n",
       "    <tr>\n",
       "      <th>537</th>\n",
       "      <td>0.999688</td>\n",
       "      <td>0.024992</td>\n",
       "      <td>0.000000</td>\n",
       "      <td>0.000000</td>\n",
       "    </tr>\n",
       "    <tr>\n",
       "      <th>410</th>\n",
       "      <td>0.999878</td>\n",
       "      <td>0.015623</td>\n",
       "      <td>0.000000</td>\n",
       "      <td>0.000000</td>\n",
       "    </tr>\n",
       "    <tr>\n",
       "      <th>3615</th>\n",
       "      <td>0.999688</td>\n",
       "      <td>0.024992</td>\n",
       "      <td>0.000000</td>\n",
       "      <td>0.000000</td>\n",
       "    </tr>\n",
       "    <tr>\n",
       "      <th>3489</th>\n",
       "      <td>0.866735</td>\n",
       "      <td>0.000631</td>\n",
       "      <td>0.000012</td>\n",
       "      <td>0.498769</td>\n",
       "    </tr>\n",
       "    <tr>\n",
       "      <th>3234</th>\n",
       "      <td>0.764242</td>\n",
       "      <td>0.000703</td>\n",
       "      <td>0.000076</td>\n",
       "      <td>0.644930</td>\n",
       "    </tr>\n",
       "    <tr>\n",
       "      <th>1571</th>\n",
       "      <td>0.999688</td>\n",
       "      <td>0.024992</td>\n",
       "      <td>0.000000</td>\n",
       "      <td>0.000000</td>\n",
       "    </tr>\n",
       "    <tr>\n",
       "      <th>419</th>\n",
       "      <td>0.999878</td>\n",
       "      <td>0.015623</td>\n",
       "      <td>0.000000</td>\n",
       "      <td>0.000000</td>\n",
       "    </tr>\n",
       "    <tr>\n",
       "      <th>932</th>\n",
       "      <td>0.589042</td>\n",
       "      <td>0.012014</td>\n",
       "      <td>0.000110</td>\n",
       "      <td>0.808013</td>\n",
       "    </tr>\n",
       "    <tr>\n",
       "      <th>423</th>\n",
       "      <td>0.999878</td>\n",
       "      <td>0.015623</td>\n",
       "      <td>0.000000</td>\n",
       "      <td>0.000000</td>\n",
       "    </tr>\n",
       "    <tr>\n",
       "      <th>2600</th>\n",
       "      <td>0.999688</td>\n",
       "      <td>0.024992</td>\n",
       "      <td>0.000000</td>\n",
       "      <td>0.000000</td>\n",
       "    </tr>\n",
       "    <tr>\n",
       "      <th>3753</th>\n",
       "      <td>0.999688</td>\n",
       "      <td>0.024992</td>\n",
       "      <td>0.000000</td>\n",
       "      <td>0.000000</td>\n",
       "    </tr>\n",
       "    <tr>\n",
       "      <th>3885</th>\n",
       "      <td>0.999688</td>\n",
       "      <td>0.024992</td>\n",
       "      <td>0.000000</td>\n",
       "      <td>0.000000</td>\n",
       "    </tr>\n",
       "    <tr>\n",
       "      <th>3121</th>\n",
       "      <td>0.999688</td>\n",
       "      <td>0.024992</td>\n",
       "      <td>0.000000</td>\n",
       "      <td>0.000000</td>\n",
       "    </tr>\n",
       "    <tr>\n",
       "      <th>2866</th>\n",
       "      <td>0.999688</td>\n",
       "      <td>0.024992</td>\n",
       "      <td>0.000000</td>\n",
       "      <td>0.000000</td>\n",
       "    </tr>\n",
       "    <tr>\n",
       "      <th>1972</th>\n",
       "      <td>0.724466</td>\n",
       "      <td>0.000502</td>\n",
       "      <td>0.000007</td>\n",
       "      <td>0.689311</td>\n",
       "    </tr>\n",
       "    <tr>\n",
       "      <th>1589</th>\n",
       "      <td>0.999742</td>\n",
       "      <td>0.022721</td>\n",
       "      <td>0.000000</td>\n",
       "      <td>0.000000</td>\n",
       "    </tr>\n",
       "    <tr>\n",
       "      <th>2485</th>\n",
       "      <td>0.999742</td>\n",
       "      <td>0.022721</td>\n",
       "      <td>0.000000</td>\n",
       "      <td>0.000000</td>\n",
       "    </tr>\n",
       "    <tr>\n",
       "      <th>...</th>\n",
       "      <td>...</td>\n",
       "      <td>...</td>\n",
       "      <td>...</td>\n",
       "      <td>...</td>\n",
       "    </tr>\n",
       "    <tr>\n",
       "      <th>3395</th>\n",
       "      <td>0.999990</td>\n",
       "      <td>0.004515</td>\n",
       "      <td>0.000000</td>\n",
       "      <td>0.000000</td>\n",
       "    </tr>\n",
       "    <tr>\n",
       "      <th>2757</th>\n",
       "      <td>0.759279</td>\n",
       "      <td>0.000551</td>\n",
       "      <td>0.000020</td>\n",
       "      <td>0.650764</td>\n",
       "    </tr>\n",
       "    <tr>\n",
       "      <th>3910</th>\n",
       "      <td>0.999688</td>\n",
       "      <td>0.024992</td>\n",
       "      <td>0.000000</td>\n",
       "      <td>0.000000</td>\n",
       "    </tr>\n",
       "    <tr>\n",
       "      <th>4038</th>\n",
       "      <td>0.999688</td>\n",
       "      <td>0.024992</td>\n",
       "      <td>0.000000</td>\n",
       "      <td>0.000000</td>\n",
       "    </tr>\n",
       "    <tr>\n",
       "      <th>2378</th>\n",
       "      <td>0.966220</td>\n",
       "      <td>0.000706</td>\n",
       "      <td>0.000028</td>\n",
       "      <td>0.257719</td>\n",
       "    </tr>\n",
       "    <tr>\n",
       "      <th>3789</th>\n",
       "      <td>0.440442</td>\n",
       "      <td>0.010733</td>\n",
       "      <td>0.000047</td>\n",
       "      <td>0.897717</td>\n",
       "    </tr>\n",
       "    <tr>\n",
       "      <th>3155</th>\n",
       "      <td>0.697505</td>\n",
       "      <td>0.011222</td>\n",
       "      <td>0.000190</td>\n",
       "      <td>0.716492</td>\n",
       "    </tr>\n",
       "    <tr>\n",
       "      <th>4052</th>\n",
       "      <td>0.999688</td>\n",
       "      <td>0.024992</td>\n",
       "      <td>0.000000</td>\n",
       "      <td>0.000000</td>\n",
       "    </tr>\n",
       "    <tr>\n",
       "      <th>3672</th>\n",
       "      <td>0.999688</td>\n",
       "      <td>0.024992</td>\n",
       "      <td>0.000000</td>\n",
       "      <td>0.000000</td>\n",
       "    </tr>\n",
       "    <tr>\n",
       "      <th>1242</th>\n",
       "      <td>1.000000</td>\n",
       "      <td>0.000667</td>\n",
       "      <td>0.000000</td>\n",
       "      <td>0.000000</td>\n",
       "    </tr>\n",
       "    <tr>\n",
       "      <th>1243</th>\n",
       "      <td>1.000000</td>\n",
       "      <td>0.000667</td>\n",
       "      <td>0.000000</td>\n",
       "      <td>0.000000</td>\n",
       "    </tr>\n",
       "    <tr>\n",
       "      <th>1244</th>\n",
       "      <td>0.999688</td>\n",
       "      <td>0.024992</td>\n",
       "      <td>0.000000</td>\n",
       "      <td>0.000000</td>\n",
       "    </tr>\n",
       "    <tr>\n",
       "      <th>346</th>\n",
       "      <td>0.676907</td>\n",
       "      <td>0.000534</td>\n",
       "      <td>0.000034</td>\n",
       "      <td>0.736068</td>\n",
       "    </tr>\n",
       "    <tr>\n",
       "      <th>2908</th>\n",
       "      <td>0.930521</td>\n",
       "      <td>0.000721</td>\n",
       "      <td>0.000026</td>\n",
       "      <td>0.366239</td>\n",
       "    </tr>\n",
       "    <tr>\n",
       "      <th>2911</th>\n",
       "      <td>0.906146</td>\n",
       "      <td>0.000685</td>\n",
       "      <td>0.000032</td>\n",
       "      <td>0.422964</td>\n",
       "    </tr>\n",
       "    <tr>\n",
       "      <th>1123</th>\n",
       "      <td>0.999878</td>\n",
       "      <td>0.015623</td>\n",
       "      <td>0.000000</td>\n",
       "      <td>0.000000</td>\n",
       "    </tr>\n",
       "    <tr>\n",
       "      <th>2149</th>\n",
       "      <td>0.999688</td>\n",
       "      <td>0.024992</td>\n",
       "      <td>0.000000</td>\n",
       "      <td>0.000000</td>\n",
       "    </tr>\n",
       "    <tr>\n",
       "      <th>2533</th>\n",
       "      <td>0.696535</td>\n",
       "      <td>0.000658</td>\n",
       "      <td>0.000035</td>\n",
       "      <td>0.717523</td>\n",
       "    </tr>\n",
       "    <tr>\n",
       "      <th>1127</th>\n",
       "      <td>0.999878</td>\n",
       "      <td>0.015623</td>\n",
       "      <td>0.000000</td>\n",
       "      <td>0.000000</td>\n",
       "    </tr>\n",
       "    <tr>\n",
       "      <th>3560</th>\n",
       "      <td>0.999878</td>\n",
       "      <td>0.015623</td>\n",
       "      <td>0.000000</td>\n",
       "      <td>0.000000</td>\n",
       "    </tr>\n",
       "    <tr>\n",
       "      <th>2153</th>\n",
       "      <td>0.999835</td>\n",
       "      <td>0.018179</td>\n",
       "      <td>0.000000</td>\n",
       "      <td>0.000000</td>\n",
       "    </tr>\n",
       "    <tr>\n",
       "      <th>2923</th>\n",
       "      <td>0.723892</td>\n",
       "      <td>0.000606</td>\n",
       "      <td>0.000027</td>\n",
       "      <td>0.689913</td>\n",
       "    </tr>\n",
       "    <tr>\n",
       "      <th>2027</th>\n",
       "      <td>0.999742</td>\n",
       "      <td>0.022721</td>\n",
       "      <td>0.000000</td>\n",
       "      <td>0.000000</td>\n",
       "    </tr>\n",
       "    <tr>\n",
       "      <th>1134</th>\n",
       "      <td>0.607252</td>\n",
       "      <td>0.010284</td>\n",
       "      <td>0.000150</td>\n",
       "      <td>0.794443</td>\n",
       "    </tr>\n",
       "    <tr>\n",
       "      <th>2926</th>\n",
       "      <td>0.999878</td>\n",
       "      <td>0.015623</td>\n",
       "      <td>0.000000</td>\n",
       "      <td>0.000000</td>\n",
       "    </tr>\n",
       "    <tr>\n",
       "      <th>2542</th>\n",
       "      <td>0.656097</td>\n",
       "      <td>0.000577</td>\n",
       "      <td>0.000027</td>\n",
       "      <td>0.754676</td>\n",
       "    </tr>\n",
       "    <tr>\n",
       "      <th>3187</th>\n",
       "      <td>0.712955</td>\n",
       "      <td>0.000517</td>\n",
       "      <td>0.000007</td>\n",
       "      <td>0.701210</td>\n",
       "    </tr>\n",
       "    <tr>\n",
       "      <th>1908</th>\n",
       "      <td>0.999688</td>\n",
       "      <td>0.024992</td>\n",
       "      <td>0.000000</td>\n",
       "      <td>0.000000</td>\n",
       "    </tr>\n",
       "    <tr>\n",
       "      <th>1523</th>\n",
       "      <td>0.999688</td>\n",
       "      <td>0.024992</td>\n",
       "      <td>0.000000</td>\n",
       "      <td>0.000000</td>\n",
       "    </tr>\n",
       "    <tr>\n",
       "      <th>2175</th>\n",
       "      <td>0.715508</td>\n",
       "      <td>0.013011</td>\n",
       "      <td>0.000172</td>\n",
       "      <td>0.698483</td>\n",
       "    </tr>\n",
       "  </tbody>\n",
       "</table>\n",
       "<p>66 rows × 4 columns</p>\n",
       "</div>"
      ],
      "text/plain": [
       "         bytes      pkts       dur      rate\n",
       "3840  0.735828  0.000604  0.000034  0.677168\n",
       "1920  0.999730  0.023250  0.000000  0.000000\n",
       "2699  0.943690  0.000694  0.000022  0.330829\n",
       "3212  0.738105  0.000570  0.000026  0.674685\n",
       "2701  0.999688  0.024992  0.000000  0.000000\n",
       "397   0.999878  0.015623  0.000000  0.000000\n",
       "4111  0.999730  0.023250  0.000000  0.000000\n",
       "398   0.999878  0.015623  0.000000  0.000000\n",
       "4115  0.814541  0.000630  0.000030  0.580106\n",
       "3348  0.900711  0.000683  0.000046  0.434418\n",
       "3476  0.999688  0.024992  0.000000  0.000000\n",
       "2710  0.999688  0.024992  0.000000  0.000000\n",
       "536   1.000000  0.000667  0.000000  0.000000\n",
       "537   0.999688  0.024992  0.000000  0.000000\n",
       "410   0.999878  0.015623  0.000000  0.000000\n",
       "3615  0.999688  0.024992  0.000000  0.000000\n",
       "3489  0.866735  0.000631  0.000012  0.498769\n",
       "3234  0.764242  0.000703  0.000076  0.644930\n",
       "1571  0.999688  0.024992  0.000000  0.000000\n",
       "419   0.999878  0.015623  0.000000  0.000000\n",
       "932   0.589042  0.012014  0.000110  0.808013\n",
       "423   0.999878  0.015623  0.000000  0.000000\n",
       "2600  0.999688  0.024992  0.000000  0.000000\n",
       "3753  0.999688  0.024992  0.000000  0.000000\n",
       "3885  0.999688  0.024992  0.000000  0.000000\n",
       "3121  0.999688  0.024992  0.000000  0.000000\n",
       "2866  0.999688  0.024992  0.000000  0.000000\n",
       "1972  0.724466  0.000502  0.000007  0.689311\n",
       "1589  0.999742  0.022721  0.000000  0.000000\n",
       "2485  0.999742  0.022721  0.000000  0.000000\n",
       "...        ...       ...       ...       ...\n",
       "3395  0.999990  0.004515  0.000000  0.000000\n",
       "2757  0.759279  0.000551  0.000020  0.650764\n",
       "3910  0.999688  0.024992  0.000000  0.000000\n",
       "4038  0.999688  0.024992  0.000000  0.000000\n",
       "2378  0.966220  0.000706  0.000028  0.257719\n",
       "3789  0.440442  0.010733  0.000047  0.897717\n",
       "3155  0.697505  0.011222  0.000190  0.716492\n",
       "4052  0.999688  0.024992  0.000000  0.000000\n",
       "3672  0.999688  0.024992  0.000000  0.000000\n",
       "1242  1.000000  0.000667  0.000000  0.000000\n",
       "1243  1.000000  0.000667  0.000000  0.000000\n",
       "1244  0.999688  0.024992  0.000000  0.000000\n",
       "346   0.676907  0.000534  0.000034  0.736068\n",
       "2908  0.930521  0.000721  0.000026  0.366239\n",
       "2911  0.906146  0.000685  0.000032  0.422964\n",
       "1123  0.999878  0.015623  0.000000  0.000000\n",
       "2149  0.999688  0.024992  0.000000  0.000000\n",
       "2533  0.696535  0.000658  0.000035  0.717523\n",
       "1127  0.999878  0.015623  0.000000  0.000000\n",
       "3560  0.999878  0.015623  0.000000  0.000000\n",
       "2153  0.999835  0.018179  0.000000  0.000000\n",
       "2923  0.723892  0.000606  0.000027  0.689913\n",
       "2027  0.999742  0.022721  0.000000  0.000000\n",
       "1134  0.607252  0.010284  0.000150  0.794443\n",
       "2926  0.999878  0.015623  0.000000  0.000000\n",
       "2542  0.656097  0.000577  0.000027  0.754676\n",
       "3187  0.712955  0.000517  0.000007  0.701210\n",
       "1908  0.999688  0.024992  0.000000  0.000000\n",
       "1523  0.999688  0.024992  0.000000  0.000000\n",
       "2175  0.715508  0.013011  0.000172  0.698483\n",
       "\n",
       "[66 rows x 4 columns]"
      ]
     },
     "execution_count": 58,
     "metadata": {},
     "output_type": "execute_result"
    }
   ],
   "source": [
    "mon_normalized.iloc[list(ind),]"
   ]
  },
  {
   "cell_type": "code",
   "execution_count": null,
   "metadata": {
    "collapsed": true
   },
   "outputs": [],
   "source": [
    "# no long is result the subset of another"
   ]
  },
  {
   "cell_type": "code",
   "execution_count": 44,
   "metadata": {
    "collapsed": false
   },
   "outputs": [
    {
     "data": {
      "text/plain": [
       "3"
      ]
     },
     "execution_count": 44,
     "metadata": {},
     "output_type": "execute_result"
    }
   ],
   "source": [
    "# 3. KSE with iForest results\n",
    "len(mon_norm_final)"
   ]
  },
  {
   "cell_type": "code",
   "execution_count": 45,
   "metadata": {
    "collapsed": false
   },
   "outputs": [
    {
     "data": {
      "text/plain": [
       "87"
      ]
     },
     "execution_count": 45,
     "metadata": {},
     "output_type": "execute_result"
    }
   ],
   "source": [
    "len(mon_norm_final_)"
   ]
  },
  {
   "cell_type": "code",
   "execution_count": 46,
   "metadata": {
    "collapsed": false
   },
   "outputs": [
    {
     "data": {
      "text/plain": [
       "63"
      ]
     },
     "execution_count": 46,
     "metadata": {},
     "output_type": "execute_result"
    }
   ],
   "source": [
    "len(set(mon_norm_anom.index.values).intersection(set(mon_norm_final_.index.values))) "
   ]
  },
  {
   "cell_type": "code",
   "execution_count": null,
   "metadata": {
    "collapsed": true
   },
   "outputs": [],
   "source": [
    "# the above is interesting.."
   ]
  },
  {
   "cell_type": "code",
   "execution_count": null,
   "metadata": {
    "collapsed": true
   },
   "outputs": [],
   "source": []
  },
  {
   "cell_type": "code",
   "execution_count": null,
   "metadata": {
    "collapsed": true
   },
   "outputs": [],
   "source": []
  },
  {
   "cell_type": "code",
   "execution_count": null,
   "metadata": {
    "collapsed": true
   },
   "outputs": [],
   "source": []
  },
  {
   "cell_type": "code",
   "execution_count": null,
   "metadata": {
    "collapsed": true
   },
   "outputs": [],
   "source": []
  },
  {
   "cell_type": "code",
   "execution_count": 9,
   "metadata": {
    "collapsed": false
   },
   "outputs": [
    {
     "data": {
      "text/plain": [
       "Ks_2sampResult(statistic=1.0, pvalue=0.0037813540593701006)"
      ]
     },
     "execution_count": 9,
     "metadata": {},
     "output_type": "execute_result"
    }
   ],
   "source": [
    "stats.ks_2samp([0,0,0,0,0], [1,1,1,1,1])"
   ]
  },
  {
   "cell_type": "code",
   "execution_count": null,
   "metadata": {
    "collapsed": true
   },
   "outputs": [],
   "source": [
    "stats.ks_2samp([0,0,0,0,0], [1,1,1,1,1])"
   ]
  }
 ],
 "metadata": {
  "anaconda-cloud": {},
  "kernelspec": {
   "display_name": "Python [default]",
   "language": "python",
   "name": "python3"
  },
  "language_info": {
   "codemirror_mode": {
    "name": "ipython",
    "version": 3
   },
   "file_extension": ".py",
   "mimetype": "text/x-python",
   "name": "python",
   "nbconvert_exporter": "python",
   "pygments_lexer": "ipython3",
   "version": "3.5.2"
  }
 },
 "nbformat": 4,
 "nbformat_minor": 1
}
