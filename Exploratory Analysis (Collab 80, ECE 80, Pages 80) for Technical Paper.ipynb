{
 "cells": [
  {
   "cell_type": "markdown",
   "metadata": {},
   "source": [
    "# Exploratory Analysis of  UVA Flow data"
   ]
  },
  {
   "cell_type": "code",
   "execution_count": 1,
   "metadata": {
    "collapsed": false,
    "scrolled": true
   },
   "outputs": [],
   "source": [
    "#Import libraries\n",
    "import numpy as np\n",
    "import pandas as pd\n",
    "import matplotlib.pyplot as plt\n",
    "%matplotlib inline\n",
    "import datetime"
   ]
  },
  {
   "cell_type": "code",
   "execution_count": 2,
   "metadata": {
    "collapsed": false,
    "scrolled": true
   },
   "outputs": [],
   "source": [
    "#Read in data as csv and set columns\n",
    "\n",
    "data02_13 = pd.read_csv('/Users/julinazhang/Desktop/new sample/netFlow-02-13 -2017.csv', sep = ',')\n",
    "data02_14 = pd.read_csv('/Users/julinazhang/Desktop/new sample/netFlow-02-14-2017.csv', sep = ',')\n",
    "data02_15 = pd.read_csv('/Users/julinazhang/Desktop/new sample/netFlow-02-15-2017_2.csv', sep = ',')\n",
    "data02_16 = pd.read_csv('/Users/julinazhang/Desktop/new sample/netFlow-02-16-2017.csv', sep = ',')\n",
    "data02_17 = pd.read_csv('/Users/julinazhang/Desktop/new sample/netFlow-02-17-2017.csv', sep = ',')\n",
    "\n"
   ]
  },
  {
   "cell_type": "code",
   "execution_count": 3,
   "metadata": {
    "collapsed": false
   },
   "outputs": [],
   "source": [
    "data02_13.drop(['Unnamed: 0', 'id', 'maxrate'], axis=1, inplace=True)\n",
    "data02_14.drop(['Unnamed: 0', 'id', 'maxrate'], axis=1, inplace=True)\n",
    "data02_15.drop(['Unnamed: 0', 'id', 'maxrate'], axis=1, inplace=True)\n",
    "data02_16.drop(['Unnamed: 0', 'id', 'maxrate'], axis=1, inplace=True)\n",
    "data02_17.drop(['Unnamed: 0', 'id', 'maxrate'], axis=1, inplace=True)"
   ]
  },
  {
   "cell_type": "raw",
   "metadata": {
    "collapsed": false
   },
   "source": [
    "'%da %dp %pkt %byt %flg %in %out %ra %nh %nhb %sas %das %smk %dmk %bps'\n",
    "da- destination address, \n",
    "dp- destination port, \n",
    "pck - packet(input)\n",
    "byte- bytes(input)\n",
    "flg - Tcp Flag\n",
    "in - Input Interface num\n",
    "out- Output Interface num\n",
    "ra - router ip\n",
    "nhb - next-hop IP Address\n",
    "nhb-BGP Next-hop IP Address\n",
    "sas- Source AS\n",
    "das - desination AS\n",
    "smk - source mask\n",
    "dmk - destination mask\n",
    "\n",
    "bps: bits per second - The calculated bits per second: 8 * number of bytes / duration. If flows are aggregated this results in the average bps during  this periode of time."
   ]
  },
  {
   "cell_type": "code",
   "execution_count": 4,
   "metadata": {
    "collapsed": false
   },
   "outputs": [
    {
     "data": {
      "text/html": [
       "<div>\n",
       "<table border=\"1\" class=\"dataframe\">\n",
       "  <thead>\n",
       "    <tr style=\"text-align: right;\">\n",
       "      <th></th>\n",
       "      <th>srcAddr</th>\n",
       "      <th>dstAddr</th>\n",
       "      <th>srcPort</th>\n",
       "      <th>dstPort</th>\n",
       "      <th>prot</th>\n",
       "      <th>bytes</th>\n",
       "      <th>pkts</th>\n",
       "      <th>dur</th>\n",
       "      <th>rate</th>\n",
       "      <th>firstTime</th>\n",
       "      <th>lastTime</th>\n",
       "    </tr>\n",
       "  </thead>\n",
       "  <tbody>\n",
       "    <tr>\n",
       "      <th>0</th>\n",
       "      <td>73.216.232.91</td>\n",
       "      <td>128.143.22.38</td>\n",
       "      <td>62557</td>\n",
       "      <td>443</td>\n",
       "      <td>6</td>\n",
       "      <td>24652</td>\n",
       "      <td>76</td>\n",
       "      <td>7.324</td>\n",
       "      <td>26927.36</td>\n",
       "      <td>2017-02-13 14:11:48.276</td>\n",
       "      <td>2017-02-13 14:11:55.600</td>\n",
       "    </tr>\n",
       "    <tr>\n",
       "      <th>1</th>\n",
       "      <td>128.143.221.51</td>\n",
       "      <td>91.71.127.220</td>\n",
       "      <td>53</td>\n",
       "      <td>13420</td>\n",
       "      <td>17</td>\n",
       "      <td>328</td>\n",
       "      <td>4</td>\n",
       "      <td>0.000</td>\n",
       "      <td>0.00</td>\n",
       "      <td>2017-02-13 14:14:57.968</td>\n",
       "      <td>2017-02-13 14:14:57.968</td>\n",
       "    </tr>\n",
       "    <tr>\n",
       "      <th>2</th>\n",
       "      <td>128.143.221.34</td>\n",
       "      <td>104.0.225.151</td>\n",
       "      <td>53</td>\n",
       "      <td>44953</td>\n",
       "      <td>17</td>\n",
       "      <td>336</td>\n",
       "      <td>4</td>\n",
       "      <td>0.000</td>\n",
       "      <td>0.00</td>\n",
       "      <td>2017-02-13 14:18:27.688</td>\n",
       "      <td>2017-02-13 14:18:27.688</td>\n",
       "    </tr>\n",
       "    <tr>\n",
       "      <th>3</th>\n",
       "      <td>173.194.175.27</td>\n",
       "      <td>128.143.2.164</td>\n",
       "      <td>25</td>\n",
       "      <td>41160</td>\n",
       "      <td>6</td>\n",
       "      <td>25432</td>\n",
       "      <td>100</td>\n",
       "      <td>0.407</td>\n",
       "      <td>499891.81</td>\n",
       "      <td>2017-02-13 14:05:47.370</td>\n",
       "      <td>2017-02-13 14:05:47.856</td>\n",
       "    </tr>\n",
       "    <tr>\n",
       "      <th>4</th>\n",
       "      <td>128.143.59.98</td>\n",
       "      <td>213.227.88.19</td>\n",
       "      <td>53</td>\n",
       "      <td>52449</td>\n",
       "      <td>17</td>\n",
       "      <td>400</td>\n",
       "      <td>4</td>\n",
       "      <td>0.000</td>\n",
       "      <td>0.00</td>\n",
       "      <td>2017-02-13 14:09:54.336</td>\n",
       "      <td>2017-02-13 14:09:54.336</td>\n",
       "    </tr>\n",
       "  </tbody>\n",
       "</table>\n",
       "</div>"
      ],
      "text/plain": [
       "          srcAddr        dstAddr  srcPort  dstPort  prot  bytes  pkts    dur  \\\n",
       "0   73.216.232.91  128.143.22.38    62557      443     6  24652    76  7.324   \n",
       "1  128.143.221.51  91.71.127.220       53    13420    17    328     4  0.000   \n",
       "2  128.143.221.34  104.0.225.151       53    44953    17    336     4  0.000   \n",
       "3  173.194.175.27  128.143.2.164       25    41160     6  25432   100  0.407   \n",
       "4   128.143.59.98  213.227.88.19       53    52449    17    400     4  0.000   \n",
       "\n",
       "        rate                firstTime                 lastTime  \n",
       "0   26927.36  2017-02-13 14:11:48.276  2017-02-13 14:11:55.600  \n",
       "1       0.00  2017-02-13 14:14:57.968  2017-02-13 14:14:57.968  \n",
       "2       0.00  2017-02-13 14:18:27.688  2017-02-13 14:18:27.688  \n",
       "3  499891.81  2017-02-13 14:05:47.370  2017-02-13 14:05:47.856  \n",
       "4       0.00  2017-02-13 14:09:54.336  2017-02-13 14:09:54.336  "
      ]
     },
     "execution_count": 4,
     "metadata": {},
     "output_type": "execute_result"
    }
   ],
   "source": [
    "data02_13.head()"
   ]
  },
  {
   "cell_type": "code",
   "execution_count": 5,
   "metadata": {
    "collapsed": false
   },
   "outputs": [],
   "source": [
    "data02_13.firstTime = pd.to_datetime(data02_13.firstTime).dt.time\n",
    "data02_14.firstTime = pd.to_datetime(data02_14.firstTime).dt.time\n",
    "data02_15.firstTime = pd.to_datetime(data02_15.firstTime).dt.time\n",
    "data02_16.firstTime = pd.to_datetime(data02_16.firstTime).dt.time\n",
    "data02_17.firstTime = pd.to_datetime(data02_17.firstTime).dt.time\n"
   ]
  },
  {
   "cell_type": "code",
   "execution_count": 6,
   "metadata": {
    "collapsed": false
   },
   "outputs": [
    {
     "data": {
      "text/plain": [
       "0    14:11:48.276000\n",
       "1    14:14:57.968000\n",
       "2    14:18:27.688000\n",
       "3    14:05:47.370000\n",
       "4    14:09:54.336000\n",
       "Name: firstTime, dtype: object"
      ]
     },
     "execution_count": 6,
     "metadata": {},
     "output_type": "execute_result"
    }
   ],
   "source": [
    "data02_13.firstTime.head()"
   ]
  },
  {
   "cell_type": "code",
   "execution_count": 7,
   "metadata": {
    "collapsed": true
   },
   "outputs": [],
   "source": [
    "data02_13.lastTime = pd.to_datetime(data02_13.lastTime).dt.time\n",
    "data02_14.lastTime = pd.to_datetime(data02_14.lastTime).dt.time\n",
    "data02_15.lastTime = pd.to_datetime(data02_15.lastTime).dt.time\n",
    "data02_16.lastTime = pd.to_datetime(data02_16.lastTime).dt.time\n",
    "data02_17.lastTime = pd.to_datetime(data02_17.lastTime).dt.time"
   ]
  },
  {
   "cell_type": "code",
   "execution_count": 8,
   "metadata": {
    "collapsed": false
   },
   "outputs": [
    {
     "data": {
      "text/plain": [
       "11277308    04:38:03.340000\n",
       "11277309    04:39:14.748000\n",
       "11277310    04:32:40.787000\n",
       "11277311    04:51:28.576000\n",
       "11277312    04:35:23.037000\n",
       "Name: firstTime, dtype: object"
      ]
     },
     "execution_count": 8,
     "metadata": {},
     "output_type": "execute_result"
    }
   ],
   "source": [
    "data02_13.firstTime.tail()"
   ]
  },
  {
   "cell_type": "code",
   "execution_count": 9,
   "metadata": {
    "collapsed": false
   },
   "outputs": [],
   "source": [
    "three_am = pd.to_datetime('08:00:00.0').time()"
   ]
  },
  {
   "cell_type": "code",
   "execution_count": 10,
   "metadata": {
    "collapsed": false
   },
   "outputs": [],
   "source": [
    "data02_13_midnight = data02_13[data02_13.firstTime < three_am]\n",
    "data02_13_morning = data02_13[data02_13.firstTime > three_am]\n",
    "\n",
    "\n",
    "data02_14_midnight = data02_14[data02_14.firstTime < three_am]\n",
    "data02_14_morning = data02_14[data02_14.firstTime > three_am]\n",
    "\n",
    "data02_15_midnight = data02_15[data02_15.firstTime < three_am]\n",
    "data02_15_morning = data02_15[data02_15.firstTime > three_am]\n",
    "\n",
    "data02_16_midnight = data02_16[data02_16.firstTime < three_am]\n",
    "data02_16_morning = data02_16[data02_16.firstTime > three_am]\n",
    "\n",
    "data02_17_midnight = data02_17[data02_17.firstTime < three_am]\n",
    "data02_17_morning = data02_17[data02_17.firstTime > three_am]"
   ]
  },
  {
   "cell_type": "code",
   "execution_count": 11,
   "metadata": {
    "collapsed": false
   },
   "outputs": [
    {
     "data": {
      "text/html": [
       "<div>\n",
       "<table border=\"1\" class=\"dataframe\">\n",
       "  <thead>\n",
       "    <tr style=\"text-align: right;\">\n",
       "      <th></th>\n",
       "      <th>srcAddr</th>\n",
       "      <th>dstAddr</th>\n",
       "      <th>srcPort</th>\n",
       "      <th>dstPort</th>\n",
       "      <th>prot</th>\n",
       "      <th>bytes</th>\n",
       "      <th>pkts</th>\n",
       "      <th>dur</th>\n",
       "      <th>rate</th>\n",
       "      <th>firstTime</th>\n",
       "      <th>lastTime</th>\n",
       "    </tr>\n",
       "  </thead>\n",
       "  <tbody>\n",
       "    <tr>\n",
       "      <th>6220106</th>\n",
       "      <td>218.65.30.156</td>\n",
       "      <td>128.143.57.195</td>\n",
       "      <td>28617</td>\n",
       "      <td>22</td>\n",
       "      <td>6</td>\n",
       "      <td>400</td>\n",
       "      <td>8</td>\n",
       "      <td>3.561</td>\n",
       "      <td>898.62</td>\n",
       "      <td>14:32:43.766000</td>\n",
       "      <td>14:32:47.327000</td>\n",
       "    </tr>\n",
       "    <tr>\n",
       "      <th>6220107</th>\n",
       "      <td>128.143.2.7</td>\n",
       "      <td>34.248.196.167</td>\n",
       "      <td>53</td>\n",
       "      <td>28990</td>\n",
       "      <td>17</td>\n",
       "      <td>384</td>\n",
       "      <td>4</td>\n",
       "      <td>0.000</td>\n",
       "      <td>0.00</td>\n",
       "      <td>14:33:10.069000</td>\n",
       "      <td>14:33:10.069000</td>\n",
       "    </tr>\n",
       "    <tr>\n",
       "      <th>6220108</th>\n",
       "      <td>128.143.8.72</td>\n",
       "      <td>76.123.5.119</td>\n",
       "      <td>443</td>\n",
       "      <td>49472</td>\n",
       "      <td>6</td>\n",
       "      <td>3072</td>\n",
       "      <td>32</td>\n",
       "      <td>0.115</td>\n",
       "      <td>213704.33</td>\n",
       "      <td>14:28:48.495000</td>\n",
       "      <td>14:28:49.352000</td>\n",
       "    </tr>\n",
       "    <tr>\n",
       "      <th>6220109</th>\n",
       "      <td>45.76.154.102</td>\n",
       "      <td>128.143.136.11</td>\n",
       "      <td>25565</td>\n",
       "      <td>6670</td>\n",
       "      <td>6</td>\n",
       "      <td>160</td>\n",
       "      <td>4</td>\n",
       "      <td>0.000</td>\n",
       "      <td>0.00</td>\n",
       "      <td>14:36:00.856000</td>\n",
       "      <td>14:36:00.856000</td>\n",
       "    </tr>\n",
       "    <tr>\n",
       "      <th>6220110</th>\n",
       "      <td>128.143.6.103</td>\n",
       "      <td>218.65.30.156</td>\n",
       "      <td>22</td>\n",
       "      <td>18653</td>\n",
       "      <td>6</td>\n",
       "      <td>15076</td>\n",
       "      <td>112</td>\n",
       "      <td>3.714</td>\n",
       "      <td>32473.88</td>\n",
       "      <td>14:32:17.225000</td>\n",
       "      <td>14:32:20.939000</td>\n",
       "    </tr>\n",
       "  </tbody>\n",
       "</table>\n",
       "</div>"
      ],
      "text/plain": [
       "               srcAddr         dstAddr  srcPort  dstPort  prot  bytes  pkts  \\\n",
       "6220106  218.65.30.156  128.143.57.195    28617       22     6    400     8   \n",
       "6220107    128.143.2.7  34.248.196.167       53    28990    17    384     4   \n",
       "6220108   128.143.8.72    76.123.5.119      443    49472     6   3072    32   \n",
       "6220109  45.76.154.102  128.143.136.11    25565     6670     6    160     4   \n",
       "6220110  128.143.6.103   218.65.30.156       22    18653     6  15076   112   \n",
       "\n",
       "           dur       rate        firstTime         lastTime  \n",
       "6220106  3.561     898.62  14:32:43.766000  14:32:47.327000  \n",
       "6220107  0.000       0.00  14:33:10.069000  14:33:10.069000  \n",
       "6220108  0.115  213704.33  14:28:48.495000  14:28:49.352000  \n",
       "6220109  0.000       0.00  14:36:00.856000  14:36:00.856000  \n",
       "6220110  3.714   32473.88  14:32:17.225000  14:32:20.939000  "
      ]
     },
     "execution_count": 11,
     "metadata": {},
     "output_type": "execute_result"
    }
   ],
   "source": [
    "#Sanity check: looks right\n",
    "#len(data02_13_midnight)\n",
    "#len(data02_13_morning)\n",
    "#len(data02_13)\n",
    "\n",
    "data02_13_morning.head()\n",
    "data02_13_morning.tail()\n",
    "\n",
    "#firstTime - 5:00 = Eastern Time"
   ]
  },
  {
   "cell_type": "markdown",
   "metadata": {},
   "source": [
    "# 02/13 - 02/17 Morning Collab (128.143.2.75 & Port 80)"
   ]
  },
  {
   "cell_type": "code",
   "execution_count": 17,
   "metadata": {
    "collapsed": false
   },
   "outputs": [
    {
     "data": {
      "text/plain": [
       "142"
      ]
     },
     "execution_count": 17,
     "metadata": {},
     "output_type": "execute_result"
    }
   ],
   "source": [
    "data02_13_morning_collab = data02_13_morning[((data02_13_morning.srcAddr == '128.143.2.75') & (data02_13_morning.srcPort == 80)) | ((data02_13_morning.dstAddr =='128.143.2.75') & (data02_13_morning.dstPort == 80))]\n",
    "len(data02_13_morning_collab) \n",
    "\n",
    "data02_14_morning_collab = data02_14_morning[((data02_14_morning.srcAddr == '128.143.2.75') & (data02_14_morning.srcPort == 80)) | ((data02_14_morning.dstAddr =='128.143.2.75') & (data02_14_morning.dstPort == 80))]\n",
    "len(data02_14_morning_collab) \n",
    "\n",
    "data02_15_morning_collab = data02_15_morning[((data02_15_morning.srcAddr == '128.143.2.75') & (data02_15_morning.srcPort == 80)) | ((data02_15_morning.dstAddr =='128.143.2.75') & (data02_15_morning.dstPort == 80))]\n",
    "len(data02_15_morning_collab) \n",
    "\n",
    "data02_16_morning_collab = data02_16_morning[((data02_16_morning.srcAddr == '128.143.2.75') & (data02_16_morning.srcPort == 80)) | ((data02_16_morning.dstAddr =='128.143.2.75') & (data02_16_morning.dstPort == 80))]\n",
    "len(data02_16_morning_collab) \n",
    "\n",
    "data02_17_morning_collab = data02_17_morning[((data02_17_morning.srcAddr == '128.143.2.75') & (data02_17_morning.srcPort == 80)) | ((data02_17_morning.dstAddr =='128.143.2.75') & (data02_17_morning.dstPort == 80))]\n",
    "len(data02_17_morning_collab) \n"
   ]
  },
  {
   "cell_type": "code",
   "execution_count": 18,
   "metadata": {
    "collapsed": false
   },
   "outputs": [
    {
     "data": {
      "image/png": "[encoded data removed]",
      "text/plain": [
       "<matplotlib.figure.Figure at 0x290830f28>"
      ]
     },
     "metadata": {},
     "output_type": "display_data"
    },
    {
     "data": {
      "image/png": "[encoded data removed]",
      "text/plain": [
       "<matplotlib.figure.Figure at 0x2b7bb0400>"
      ]
     },
     "metadata": {},
     "output_type": "display_data"
    },
    {
     "data": {
      "image/png": "[encoded data removed]",
      "text/plain": [
       "<matplotlib.figure.Figure at 0x18b2f8cf8>"
      ]
     },
     "metadata": {},
     "output_type": "display_data"
    },
    {
     "data": {
      "image/png": "[encoded data removed]",
      "text/plain": [
       "<matplotlib.figure.Figure at 0x1bc13d7b8>"
      ]
     },
     "metadata": {},
     "output_type": "display_data"
    }
   ],
   "source": [
    "data02_13_morning_collab_pkts =  np.log(data02_13_morning_collab.pkts)\n",
    "data02_13_morning_collab_bytes = np.log(data02_13_morning_collab.bytes)\n",
    "data02_13_morning_collab_dur = np.log(data02_13_morning_collab.dur)\n",
    "data02_13_morning_collab_rate = np.log(data02_13_morning_collab.rate)\n",
    "\n",
    "data02_14_morning_collab_pkts =  np.log(data02_14_morning_collab.pkts)\n",
    "data02_14_morning_collab_bytes = np.log(data02_14_morning_collab.bytes)\n",
    "data02_14_morning_collab_dur = np.log(data02_14_morning_collab.dur)\n",
    "data02_14_morning_collab_rate = np.log(data02_14_morning_collab.rate)\n",
    "\n",
    "data02_15_morning_collab_pkts =  np.log(data02_15_morning_collab.pkts)\n",
    "data02_15_morning_collab_bytes = np.log(data02_15_morning_collab.bytes)\n",
    "data02_15_morning_collab_dur = np.log(data02_15_morning_collab.dur)\n",
    "data02_15_morning_collab_rate = np.log(data02_15_morning_collab.rate)\n",
    "\n",
    "data02_16_morning_collab_pkts =  np.log(data02_16_morning_collab.pkts)\n",
    "data02_16_morning_collab_bytes = np.log(data02_16_morning_collab.bytes)\n",
    "data02_16_morning_collab_dur = np.log(data02_16_morning_collab.dur)\n",
    "data02_16_morning_collab_rate = np.log(data02_16_morning_collab.rate)\n",
    "\n",
    "data02_17_morning_collab_pkts =  np.log(data02_17_morning_collab.pkts)\n",
    "data02_17_morning_collab_bytes = np.log(data02_17_morning_collab.bytes)\n",
    "data02_17_morning_collab_dur = np.log(data02_17_morning_collab.dur)\n",
    "data02_17_morning_collab_rate = np.log(data02_17_morning_collab.rate)\n",
    "\n",
    "\n",
    "Time = ['02/13','02/14','02/15','02/16', '02/17']\n",
    "\n",
    "\n",
    "fig1 = plt.figure()\n",
    "fig2 = plt.figure()\n",
    "fig3 = plt.figure()\n",
    "fig4 = plt.figure()\n",
    "\n",
    "ax1 = fig1.add_subplot(111)\n",
    "bp = ax1.boxplot([data02_13_morning_collab_pkts, data02_14_morning_collab_pkts, data02_15_morning_collab_pkts, data02_16_morning_collab_pkts, data02_17_morning_collab_pkts], 0, 'gD') \n",
    "ax2 = fig2.add_subplot(111)\n",
    "bp2 = ax2.boxplot([data02_13_morning_collab_bytes, data02_14_morning_collab_bytes, data02_15_morning_collab_bytes, data02_16_morning_collab_bytes, data02_17_morning_collab_bytes], 0, 'gD') \n",
    "ax3 = fig3.add_subplot(111)\n",
    "bp3 = ax3.boxplot([data02_13_morning_collab_dur, data02_14_morning_collab_dur, data02_15_morning_collab_dur, data02_16_morning_collab_dur, data02_17_morning_collab_dur], 0, 'gD')\n",
    "ax4 = fig4.add_subplot(111)\n",
    "bp4 = ax4.boxplot([data02_13_morning_collab_rate, data02_14_morning_collab_rate, data02_15_morning_collab_rate, data02_16_morning_collab_rate, data02_17_morning_collab_rate], 0, 'gD') \n",
    "\n",
    "ax1.set_axisbelow(True)\n",
    "ax1.set_title('Packets Morning Collab')\n",
    "ax1.set_xlabel('Morning Collab')\n",
    "ax1.set_ylabel('Total packets(log)')\n",
    "xtickNames = plt.setp(ax1, xticklabels= Time)\n",
    "\n",
    "ax2.set_axisbelow(True)\n",
    "ax2.set_title('Bytes Morning Collab ')\n",
    "ax2.set_xlabel('Morning Collab')\n",
    "ax2.set_ylabel('Total Bytes(log)')\n",
    "xtickNames = plt.setp(ax2, xticklabels= Time)\n",
    "\n",
    "\n",
    "ax3.set_axisbelow(True)\n",
    "ax3.set_title('Duration Morning Collab')\n",
    "ax3.set_xlabel('Morning Collab')\n",
    "ax3.set_ylabel('Duration(log)')\n",
    "xtickNames = plt.setp(ax3, xticklabels= Time)\n",
    "\n",
    "\n",
    "ax4.set_axisbelow(True)\n",
    "ax4.set_title('Rate Morning Collab')\n",
    "ax4.set_xlabel('Morning Collab')\n",
    "ax4.set_ylabel('Rate(log)')\n",
    "xtickNames = plt.setp(ax4, xticklabels= Time)\n",
    "\n",
    "plt.show()\n",
    "\n"
   ]
  },
  {
   "cell_type": "code",
   "execution_count": null,
   "metadata": {
    "collapsed": true
   },
   "outputs": [],
   "source": []
  },
  {
   "cell_type": "code",
   "execution_count": null,
   "metadata": {
    "collapsed": true
   },
   "outputs": [],
   "source": []
  },
  {
   "cell_type": "code",
   "execution_count": null,
   "metadata": {
    "collapsed": true
   },
   "outputs": [],
   "source": []
  },
  {
   "cell_type": "code",
   "execution_count": null,
   "metadata": {
    "collapsed": true
   },
   "outputs": [],
   "source": []
  },
  {
   "cell_type": "code",
   "execution_count": null,
   "metadata": {
    "collapsed": true
   },
   "outputs": [],
   "source": []
  },
  {
   "cell_type": "markdown",
   "metadata": {},
   "source": [
    "# 02/13 - 02/17 Morning ECE (128.143.11.107 & Port 80)"
   ]
  },
  {
   "cell_type": "code",
   "execution_count": 19,
   "metadata": {
    "collapsed": false
   },
   "outputs": [
    {
     "data": {
      "text/plain": [
       "809"
      ]
     },
     "execution_count": 19,
     "metadata": {},
     "output_type": "execute_result"
    }
   ],
   "source": [
    "data02_13_morning_Ece = data02_13_morning[((data02_13_morning.srcAddr == '128.143.11.107') & (data02_13_morning.srcPort == 80)) | ((data02_13_morning.dstAddr =='128.143.11.107') & (data02_13_morning.dstPort == 80))]\n",
    "len(data02_13_morning_Ece) \n",
    "\n",
    "data02_14_morning_Ece = data02_14_morning[((data02_14_morning.srcAddr == '128.143.11.107') & (data02_14_morning.srcPort == 80)) | ((data02_14_morning.dstAddr =='128.143.11.107') & (data02_14_morning.dstPort == 80))]\n",
    "len(data02_14_morning_Ece) \n",
    "\n",
    "data02_15_morning_Ece = data02_15_morning[((data02_15_morning.srcAddr == '128.143.11.107') & (data02_15_morning.srcPort == 80)) | ((data02_15_morning.dstAddr =='128.143.11.107') & (data02_15_morning.dstPort == 80))]\n",
    "len(data02_15_morning_Ece) \n",
    "\n",
    "data02_16_morning_Ece = data02_16_morning[((data02_16_morning.srcAddr == '128.143.11.107') & (data02_16_morning.srcPort == 80)) | ((data02_16_morning.dstAddr =='128.143.11.107') & (data02_16_morning.dstPort == 80))]\n",
    "len(data02_16_morning_Ece) \n",
    "\n",
    "data02_17_morning_Ece = data02_17_morning[((data02_17_morning.srcAddr == '128.143.11.107') & (data02_17_morning.srcPort == 80)) | ((data02_17_morning.dstAddr =='128.143.11.107') & (data02_17_morning.dstPort == 80))]\n",
    "len(data02_17_morning_Ece) "
   ]
  },
  {
   "cell_type": "code",
   "execution_count": 20,
   "metadata": {
    "collapsed": false
   },
   "outputs": [
    {
     "data": {
      "image/png": "[encoded data removed]",
      "text/plain": [
       "<matplotlib.figure.Figure at 0x2dd6fb080>"
      ]
     },
     "metadata": {},
     "output_type": "display_data"
    },
    {
     "data": {
      "image/png": "[encoded data removed]",
      "text/plain": [
       "<matplotlib.figure.Figure at 0x2dd6fba90>"
      ]
     },
     "metadata": {},
     "output_type": "display_data"
    },
    {
     "data": {
      "image/png": "[encoded data removed]",
      "text/plain": [
       "<matplotlib.figure.Figure at 0x5659190f0>"
      ]
     },
     "metadata": {},
     "output_type": "display_data"
    },
    {
     "data": {
      "image/png": "[encoded data removed]",
      "text/plain": [
       "<matplotlib.figure.Figure at 0x2dd6f8320>"
      ]
     },
     "metadata": {},
     "output_type": "display_data"
    }
   ],
   "source": [
    "data02_13_morning_Ece_pkts =  np.log(data02_13_morning_Ece.pkts)\n",
    "data02_13_morning_Ece_bytes = np.log(data02_13_morning_Ece.bytes)\n",
    "data02_13_morning_Ece_dur = np.log(data02_13_morning_Ece.dur)\n",
    "data02_13_morning_Ece_rate = np.log(data02_13_morning_Ece.rate)\n",
    "\n",
    "data02_14_morning_Ece_pkts =  np.log(data02_14_morning_Ece.pkts)\n",
    "data02_14_morning_Ece_bytes = np.log(data02_14_morning_Ece.bytes)\n",
    "data02_14_morning_Ece_dur = np.log(data02_14_morning_Ece.dur)\n",
    "data02_14_morning_Ece_rate = np.log(data02_14_morning_Ece.rate)\n",
    "\n",
    "data02_15_morning_Ece_pkts =  np.log(data02_15_morning_Ece.pkts)\n",
    "data02_15_morning_Ece_bytes = np.log(data02_15_morning_Ece.bytes)\n",
    "data02_15_morning_Ece_dur = np.log(data02_15_morning_Ece.dur)\n",
    "data02_15_morning_Ece_rate = np.log(data02_15_morning_Ece.rate)\n",
    "\n",
    "data02_16_morning_Ece_pkts =  np.log(data02_16_morning_Ece.pkts)\n",
    "data02_16_morning_Ece_bytes = np.log(data02_16_morning_Ece.bytes)\n",
    "data02_16_morning_Ece_dur = np.log(data02_16_morning_Ece.dur)\n",
    "data02_16_morning_Ece_rate = np.log(data02_16_morning_Ece.rate)\n",
    "\n",
    "data02_17_morning_Ece_pkts =  np.log(data02_17_morning_Ece.pkts)\n",
    "data02_17_morning_Ece_bytes = np.log(data02_17_morning_Ece.bytes)\n",
    "data02_17_morning_Ece_dur = np.log(data02_17_morning_Ece.dur)\n",
    "data02_17_morning_Ece_rate = np.log(data02_17_morning_Ece.rate)\n",
    "\n",
    "\n",
    "Time = ['02/13','02/14','02/15','02/16', '02/17']\n",
    "\n",
    "\n",
    "fig1 = plt.figure()\n",
    "fig2 = plt.figure()\n",
    "fig3 = plt.figure()\n",
    "fig4 = plt.figure()\n",
    "\n",
    "ax1 = fig1.add_subplot(111)\n",
    "bp = ax1.boxplot([data02_13_morning_Ece_pkts, data02_14_morning_Ece_pkts, data02_15_morning_Ece_pkts, data02_16_morning_Ece_pkts, data02_17_morning_Ece_pkts], 0, 'gD') \n",
    "ax2 = fig2.add_subplot(111)\n",
    "bp2 = ax2.boxplot([data02_13_morning_Ece_bytes, data02_14_morning_Ece_bytes, data02_15_morning_Ece_bytes, data02_16_morning_Ece_bytes, data02_17_morning_Ece_bytes], 0, 'gD') \n",
    "ax3 = fig3.add_subplot(111)\n",
    "bp3 = ax3.boxplot([data02_13_morning_Ece_dur, data02_14_morning_Ece_dur, data02_15_morning_Ece_dur, data02_16_morning_Ece_dur, data02_17_morning_Ece_dur], 0, 'gD')\n",
    "ax4 = fig4.add_subplot(111)\n",
    "bp4 = ax4.boxplot([data02_13_morning_Ece_rate, data02_14_morning_Ece_rate, data02_15_morning_Ece_rate, data02_16_morning_Ece_rate, data02_17_morning_Ece_rate], 0, 'gD') \n",
    "\n",
    "ax1.set_axisbelow(True)\n",
    "ax1.set_title('Packets Morning Ece')\n",
    "ax1.set_xlabel('Morning Ece')\n",
    "ax1.set_ylabel('Total packets(log)')\n",
    "xtickNames = plt.setp(ax1, xticklabels= Time)\n",
    "\n",
    "ax2.set_axisbelow(True)\n",
    "ax2.set_title('Bytes Morning Ece ')\n",
    "ax2.set_xlabel('Morning Ece')\n",
    "ax2.set_ylabel('Total Bytes(log)')\n",
    "xtickNames = plt.setp(ax2, xticklabels= Time)\n",
    "\n",
    "\n",
    "ax3.set_axisbelow(True)\n",
    "ax3.set_title('Duration Morning Ece')\n",
    "ax3.set_xlabel('Morning Ece')\n",
    "ax3.set_ylabel('Duration(log)')\n",
    "xtickNames = plt.setp(ax3, xticklabels= Time)\n",
    "\n",
    "\n",
    "ax4.set_axisbelow(True)\n",
    "ax4.set_title('Rate Morning Ece')\n",
    "ax4.set_xlabel('Morning Ece')\n",
    "ax4.set_ylabel('Rate(log)')\n",
    "xtickNames = plt.setp(ax4, xticklabels= Time)\n",
    "\n",
    "plt.show()"
   ]
  },
  {
   "cell_type": "code",
   "execution_count": null,
   "metadata": {
    "collapsed": true
   },
   "outputs": [],
   "source": []
  },
  {
   "cell_type": "code",
   "execution_count": null,
   "metadata": {
    "collapsed": true
   },
   "outputs": [],
   "source": []
  },
  {
   "cell_type": "code",
   "execution_count": null,
   "metadata": {
    "collapsed": true
   },
   "outputs": [],
   "source": []
  },
  {
   "cell_type": "code",
   "execution_count": null,
   "metadata": {
    "collapsed": true
   },
   "outputs": [],
   "source": []
  },
  {
   "cell_type": "code",
   "execution_count": null,
   "metadata": {
    "collapsed": true
   },
   "outputs": [],
   "source": []
  },
  {
   "cell_type": "code",
   "execution_count": null,
   "metadata": {
    "collapsed": true
   },
   "outputs": [],
   "source": []
  },
  {
   "cell_type": "markdown",
   "metadata": {},
   "source": [
    "# 02/13 - 02/17 Morning Pages (128.143.21.137 & Port 80)\n"
   ]
  },
  {
   "cell_type": "code",
   "execution_count": 21,
   "metadata": {
    "collapsed": false
   },
   "outputs": [
    {
     "data": {
      "text/plain": [
       "5555"
      ]
     },
     "execution_count": 21,
     "metadata": {},
     "output_type": "execute_result"
    }
   ],
   "source": [
    "data02_13_morning_Pages = data02_13_morning[((data02_13_morning.srcAddr == '128.143.21.137') & (data02_13_morning.srcPort == 80)) | ((data02_13_morning.dstAddr =='128.143.21.137') & (data02_13_morning.dstPort == 80))]\n",
    "len(data02_13_morning_Pages) \n",
    "\n",
    "data02_14_morning_Pages = data02_14_morning[((data02_14_morning.srcAddr == '128.143.21.137') & (data02_14_morning.srcPort == 80)) | ((data02_14_morning.dstAddr =='128.143.21.137') & (data02_14_morning.dstPort == 80))]\n",
    "len(data02_14_morning_Pages) \n",
    "\n",
    "data02_15_morning_Pages = data02_15_morning[((data02_15_morning.srcAddr == '128.143.21.137') & (data02_15_morning.srcPort == 80)) | ((data02_15_morning.dstAddr =='128.143.21.137') & (data02_15_morning.dstPort == 80))]\n",
    "len(data02_15_morning_Pages) \n",
    "\n",
    "data02_16_morning_Pages = data02_16_morning[((data02_16_morning.srcAddr == '128.143.21.137') & (data02_16_morning.srcPort == 80)) | ((data02_16_morning.dstAddr =='128.143.21.137') & (data02_16_morning.dstPort == 80))]\n",
    "len(data02_16_morning_Pages) \n",
    "\n",
    "data02_17_morning_Pages = data02_17_morning[((data02_17_morning.srcAddr == '128.143.21.137') & (data02_17_morning.srcPort == 80)) | ((data02_17_morning.dstAddr =='128.143.21.137') & (data02_17_morning.dstPort == 80))]\n",
    "len(data02_17_morning_Pages)\n",
    "\n"
   ]
  },
  {
   "cell_type": "code",
   "execution_count": 22,
   "metadata": {
    "collapsed": false
   },
   "outputs": [
    {
     "data": {
      "image/png": "[encoded data removed]",
      "text/plain": [
       "<matplotlib.figure.Figure at 0x164f8dc50>"
      ]
     },
     "metadata": {},
     "output_type": "display_data"
    },
    {
     "data": {
      "image/png": "[encoded data removed]",
      "text/plain": [
       "<matplotlib.figure.Figure at 0x164f8db70>"
      ]
     },
     "metadata": {},
     "output_type": "display_data"
    },
    {
     "data": {
      "image/png": "[encoded data removed]",
      "text/plain": [
       "<matplotlib.figure.Figure at 0x4a4249d68>"
      ]
     },
     "metadata": {},
     "output_type": "display_data"
    },
    {
     "data": {
      "image/png": "[encoded data removed]",
      "text/plain": [
       "<matplotlib.figure.Figure at 0x153a639b0>"
      ]
     },
     "metadata": {},
     "output_type": "display_data"
    }
   ],
   "source": [
    "data02_13_morning_Pages_pkts =  np.log(data02_13_morning_Pages.pkts)\n",
    "data02_13_morning_Pages_bytes = np.log(data02_13_morning_Pages.bytes)\n",
    "data02_13_morning_Pages_dur = np.log(data02_13_morning_Pages.dur)\n",
    "data02_13_morning_Pages_rate = np.log(data02_13_morning_Pages.rate)\n",
    "\n",
    "data02_14_morning_Pages_pkts =  np.log(data02_14_morning_Pages.pkts)\n",
    "data02_14_morning_Pages_bytes = np.log(data02_14_morning_Pages.bytes)\n",
    "data02_14_morning_Pages_dur = np.log(data02_14_morning_Pages.dur)\n",
    "data02_14_morning_Pages_rate = np.log(data02_14_morning_Pages.rate)\n",
    "\n",
    "data02_15_morning_Pages_pkts =  np.log(data02_15_morning_Pages.pkts)\n",
    "data02_15_morning_Pages_bytes = np.log(data02_15_morning_Pages.bytes)\n",
    "data02_15_morning_Pages_dur = np.log(data02_15_morning_Pages.dur)\n",
    "data02_15_morning_Pages_rate = np.log(data02_15_morning_Pages.rate)\n",
    "\n",
    "data02_16_morning_Pages_pkts =  np.log(data02_16_morning_Pages.pkts)\n",
    "data02_16_morning_Pages_bytes = np.log(data02_16_morning_Pages.bytes)\n",
    "data02_16_morning_Pages_dur = np.log(data02_16_morning_Pages.dur)\n",
    "data02_16_morning_Pages_rate = np.log(data02_16_morning_Pages.rate)\n",
    "\n",
    "data02_17_morning_Pages_pkts =  np.log(data02_17_morning_Pages.pkts)\n",
    "data02_17_morning_Pages_bytes = np.log(data02_17_morning_Pages.bytes)\n",
    "data02_17_morning_Pages_dur = np.log(data02_17_morning_Pages.dur)\n",
    "data02_17_morning_Pages_rate = np.log(data02_17_morning_Pages.rate)\n",
    "\n",
    "\n",
    "Time = ['02/13','02/14','02/15','02/16', '02/17']\n",
    "\n",
    "\n",
    "fig1 = plt.figure()\n",
    "fig2 = plt.figure()\n",
    "fig3 = plt.figure()\n",
    "fig4 = plt.figure()\n",
    "\n",
    "ax1 = fig1.add_subplot(111)\n",
    "bp = ax1.boxplot([data02_13_morning_Pages_pkts, data02_14_morning_Pages_pkts, data02_15_morning_Pages_pkts, data02_16_morning_Pages_pkts, data02_17_morning_Pages_pkts], 0, 'gD') \n",
    "ax2 = fig2.add_subplot(111)\n",
    "bp2 = ax2.boxplot([data02_13_morning_Pages_bytes, data02_14_morning_Pages_bytes, data02_15_morning_Pages_bytes, data02_16_morning_Pages_bytes, data02_17_morning_Pages_bytes], 0, 'gD') \n",
    "ax3 = fig3.add_subplot(111)\n",
    "bp3 = ax3.boxplot([data02_13_morning_Pages_dur, data02_14_morning_Pages_dur, data02_15_morning_Pages_dur, data02_16_morning_Pages_dur, data02_17_morning_Pages_dur], 0, 'gD')\n",
    "ax4 = fig4.add_subplot(111)\n",
    "bp4 = ax4.boxplot([data02_13_morning_Pages_rate, data02_14_morning_Pages_rate, data02_15_morning_Pages_rate, data02_16_morning_Pages_rate, data02_17_morning_Pages_rate], 0, 'gD') \n",
    "\n",
    "ax1.set_axisbelow(True)\n",
    "ax1.set_title('Packets Morning Pages')\n",
    "ax1.set_xlabel('Morning Pages')\n",
    "ax1.set_ylabel('Total packets(log)')\n",
    "xtickNames = plt.setp(ax1, xticklabels= Time)\n",
    "\n",
    "ax2.set_axisbelow(True)\n",
    "ax2.set_title('Bytes Morning Pages ')\n",
    "ax2.set_xlabel('Morning Pages')\n",
    "ax2.set_ylabel('Total Bytes(log)')\n",
    "xtickNames = plt.setp(ax2, xticklabels= Time)\n",
    "\n",
    "\n",
    "ax3.set_axisbelow(True)\n",
    "ax3.set_title('Duration Morning Pages')\n",
    "ax3.set_xlabel('Morning Pages')\n",
    "ax3.set_ylabel('Duration(log)')\n",
    "xtickNames = plt.setp(ax3, xticklabels= Time)\n",
    "\n",
    "\n",
    "ax4.set_axisbelow(True)\n",
    "ax4.set_title('Rate Morning Pages')\n",
    "ax4.set_xlabel('Morning Pages')\n",
    "ax4.set_ylabel('Rate(log)')\n",
    "xtickNames = plt.setp(ax4, xticklabels= Time)\n",
    "\n",
    "plt.show()\n"
   ]
  },
  {
   "cell_type": "code",
   "execution_count": null,
   "metadata": {
    "collapsed": true
   },
   "outputs": [],
   "source": []
  }
 ],
 "metadata": {
  "anaconda-cloud": {},
  "kernelspec": {
   "display_name": "Python [default]",
   "language": "python",
   "name": "python3"
  },
  "language_info": {
   "codemirror_mode": {
    "name": "ipython",
    "version": 3
   },
   "file_extension": ".py",
   "mimetype": "text/x-python",
   "name": "python",
   "nbconvert_exporter": "python",
   "pygments_lexer": "ipython3",
   "version": "3.5.2"
  }
 },
 "nbformat": 4,
 "nbformat_minor": 1
}
