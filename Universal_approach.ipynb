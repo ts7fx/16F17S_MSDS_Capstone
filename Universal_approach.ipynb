{
 "cells": [
  {
   "cell_type": "code",
   "execution_count": 9,
   "metadata": {
    "collapsed": true
   },
   "outputs": [],
   "source": [
    "import numpy as np\n",
    "import pandas as pd\n",
    "import matplotlib.pyplot as plt\n",
    "from sklearn.ensemble import IsolationForest\n",
    "from sklearn.neighbors import LocalOutlierFactor\n",
    "from sklearn.cluster import KMeans\n",
    "from scipy import stats\n",
    "from scipy.spatial import distance"
   ]
  },
  {
   "cell_type": "code",
   "execution_count": 11,
   "metadata": {
    "collapsed": false
   },
   "outputs": [
    {
     "data": {
      "text/plain": [
       "255"
      ]
     },
     "execution_count": 11,
     "metadata": {},
     "output_type": "execute_result"
    }
   ],
   "source": [
    "# 1. load & filter data \n",
    "data0 = pd.read_csv('~/Desktop/data/netFlow-02-14-2017.csv', sep = ',')\n",
    "data1 = data0[(((data0.srcAddr == '128.143.2.75') & (data0.srcPort == 80)) | ((data0.dstAddr =='128.143.2.75') & (data0.dstPort == 80)))]\n",
    "data2 = data1[[\"bytes\",\"pkts\",\"dur\",\"rate\"]]\n",
    "len(data2)"
   ]
  },
  {
   "cell_type": "code",
   "execution_count": 6,
   "metadata": {
    "collapsed": true
   },
   "outputs": [],
   "source": [
    "# 2. run ISO/LOF, take anomalies out"
   ]
  },
  {
   "cell_type": "code",
   "execution_count": 19,
   "metadata": {
    "collapsed": false
   },
   "outputs": [
    {
     "name": "stderr",
     "output_type": "stream",
     "text": [
      "/Users/ChineseSamurai/anaconda/lib/python3.5/site-packages/sklearn/ensemble/iforest.py:183: UserWarning: max_samples (1000) is greater than the total number of samples (255). max_samples will be set to n_samples for estimation.\n",
      "  % (self.max_samples, n_samples))\n",
      "/Users/ChineseSamurai/anaconda/lib/python3.5/site-packages/ipykernel/__main__.py:5: SettingWithCopyWarning: \n",
      "A value is trying to be set on a copy of a slice from a DataFrame.\n",
      "Try using .loc[row_indexer,col_indexer] = value instead\n",
      "\n",
      "See the caveats in the documentation: http://pandas.pydata.org/pandas-docs/stable/indexing.html#indexing-view-versus-copy\n"
     ]
    },
    {
     "data": {
      "text/plain": [
       "13"
      ]
     },
     "execution_count": 19,
     "metadata": {},
     "output_type": "execute_result"
    }
   ],
   "source": [
    "# ISO\n",
    "clf = IsolationForest(max_samples=1000, contamination=0.05,random_state= 5, bootstrap=False)\n",
    "clf.fit(data2)\n",
    "y_pred = clf.predict(data2)\n",
    "data2['ISO'] = y_pred\n",
    "anomalies = data2[data2.ISO == -1]\n",
    "len(anomalies)"
   ]
  },
  {
   "cell_type": "code",
   "execution_count": null,
   "metadata": {
    "collapsed": true
   },
   "outputs": [],
   "source": [
    "# LOF\n",
    "clf = LocalOutlierFactor(n_neighbors=20)\n",
    "y_pred = clf.fit_predict(data2)\n",
    "data2['LOF'] = y_pred\n",
    "anomalies = data2[data2.LOF == -1]\n",
    "len(anomalies)"
   ]
  },
  {
   "cell_type": "code",
   "execution_count": 20,
   "metadata": {
    "collapsed": false
   },
   "outputs": [
    {
     "name": "stdout",
     "output_type": "stream",
     "text": [
      "half way there\n",
      "loop 0\n"
     ]
    }
   ],
   "source": [
    "# 3. run KSE \n",
    "def euc_dis(p1,p2):\n",
    "    a = p1.values\n",
    "    b = p2.values\n",
    "    c = np.vstack((a,b))\n",
    "    dist = distance.pdist(c)\n",
    "    return float(dist)\n",
    "def KSE_Test(df, sample_size):\n",
    "    # initiate two sample dfs, one distance matrix, and one kse score.\n",
    "    # generate 2 random samples.\n",
    "    sample1 = df.sample(n = sample_size, replace = False)\n",
    "    sample2 = df.sample(n = sample_size, replace = False)\n",
    "    kse_score = [] # empty list to store KSE scores\n",
    "#   distance_matrix = np.matrix([[None] * int(len(df) * fraction) , \n",
    "#                               [None] * int(len(df) * fraction)])\n",
    "#     distance_matrix = [[0 for x in range(len(sample1))] \n",
    "#                        for y in range(len(sample2))] \n",
    "    distance_matrix = np.zeros((sample_size, sample_size))\n",
    "    # calculate distance from all points in sample1 to all points in sample2\n",
    "    for i in range(0,sample_size):\n",
    "        for j in range(0,sample_size):\n",
    "            distance_matrix[i][j] = euc_dis(sample1.iloc[i,],sample2.iloc[j,])\n",
    "    print(\"half way there\")\n",
    "    \n",
    "    # calculate average KS-score for each instance in df.\n",
    "    for i in range(0, len(df)):\n",
    "        observed_instance = df.iloc[i,]\n",
    "        distance_array = [0] * sample_size\n",
    "        for j in range(0,sample_size):\n",
    "            distance_array[j] = euc_dis(observed_instance,sample2.iloc[j,])\n",
    "        sum = 0\n",
    "        for k in range(0, sample_size):\n",
    "            ks_score = stats.ks_2samp(distance_array, distance_matrix[k])[0]\n",
    "            sum += ks_score\n",
    "        average = sum/sample_size\n",
    "        #kse_score[i] = average\n",
    "        kse_score.append((i, average))\n",
    "        if (i%1000 == 0):\n",
    "            print('loop %s' % i)\n",
    "    return kse_score \n",
    "kse_result = KSE_Test(anomalies, 5)"
   ]
  },
  {
   "cell_type": "code",
   "execution_count": 23,
   "metadata": {
    "collapsed": false
   },
   "outputs": [
    {
     "data": {
      "text/plain": [
       "[0, 1, 2, 3, 4, 5, 6, 7, 8, 9, 10, 11, 12]"
      ]
     },
     "execution_count": 23,
     "metadata": {},
     "output_type": "execute_result"
    }
   ],
   "source": [
    "# 4. get result\n",
    "index_anom = [] \n",
    "for i in kse_result:\n",
    "    if i[1] > 0.3:\n",
    "        index_anom.append(i[0])\n",
    "# final result is a data set of the anomalies of the anomalies\n",
    "final = anomalies.iloc[index_anom]"
   ]
  }
 ],
 "metadata": {
  "kernelspec": {
   "display_name": "Python [default]",
   "language": "python",
   "name": "python3"
  },
  "language_info": {
   "codemirror_mode": {
    "name": "ipython",
    "version": 3
   },
   "file_extension": ".py",
   "mimetype": "text/x-python",
   "name": "python",
   "nbconvert_exporter": "python",
   "pygments_lexer": "ipython3",
   "version": "3.5.2"
  }
 },
 "nbformat": 4,
 "nbformat_minor": 1
}
