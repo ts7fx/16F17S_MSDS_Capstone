{
 "cells": [
  {
   "cell_type": "code",
   "execution_count": 1,
   "metadata": {
    "collapsed": true
   },
   "outputs": [],
   "source": [
    "# read in data, label with isolation forest, and filter the anomalies.\n",
    "\n",
    "import numpy as np\n",
    "import pandas as pd\n",
    "import matplotlib.pyplot as plt\n",
    "from sklearn.ensemble import IsolationForest\n",
    "from sklearn.neighbors import LocalOutlierFactor\n",
    "from sklearn.cluster import KMeans\n",
    "\n",
    "mon = pd.read_csv('~/Desktop/data/netFlow-02-13-2017.csv', sep = ',')\n",
    "mon_collab = mon[(((mon.srcAddr == '128.143.2.75') & (mon.srcPort == 443)) | ((mon.dstAddr =='128.143.2.75') & (mon.dstPort == 443)))]\n",
    "mon_collab_clean = mon_collab[[\"bytes\",\"pkts\",\"dur\",\"rate\"]]"
   ]
  },
  {
   "cell_type": "code",
   "execution_count": null,
   "metadata": {
    "collapsed": true
   },
   "outputs": [],
   "source": [
    "# instead of port 443 we look at port 80\n",
    "mon_collab = mon[(((mon.srcAddr == '128.143.2.75') & (mon.srcPort == 80)) | ((mon.dstAddr =='128.143.2.75') & (mon.dstPort == 80)))]\n",
    "mon_collab_clean = mon_collab[[\"bytes\",\"pkts\",\"dur\",\"rate\"]]"
   ]
  },
  {
   "cell_type": "code",
   "execution_count": 3,
   "metadata": {
    "collapsed": false
   },
   "outputs": [
    {
     "data": {
      "text/plain": [
       "474779"
      ]
     },
     "execution_count": 3,
     "metadata": {},
     "output_type": "execute_result"
    }
   ],
   "source": [
    "len(mon_collab_clean)"
   ]
  },
  {
   "cell_type": "code",
   "execution_count": 4,
   "metadata": {
    "collapsed": false
   },
   "outputs": [
    {
     "name": "stderr",
     "output_type": "stream",
     "text": [
      "/Users/ChineseSamurai/anaconda/lib/python3.5/site-packages/ipykernel/__main__.py:4: SettingWithCopyWarning: \n",
      "A value is trying to be set on a copy of a slice from a DataFrame.\n",
      "Try using .loc[row_indexer,col_indexer] = value instead\n",
      "\n",
      "See the caveats in the documentation: http://pandas.pydata.org/pandas-docs/stable/indexing.html#indexing-view-versus-copy\n"
     ]
    }
   ],
   "source": [
    "clf = IsolationForest(max_samples=1000, contamination=0.05,random_state= 5, bootstrap=False)\n",
    "clf.fit(mon_collab_clean)\n",
    "y_pred = clf.predict(mon_collab_clean)\n",
    "mon_collab_clean['ISO_label'] = y_pred\n",
    "anomalies = mon_collab_clean[mon_collab_clean.ISO_label == -1]\n",
    "len(anomalies)"
   ]
  },
  {
   "cell_type": "code",
   "execution_count": 5,
   "metadata": {
    "collapsed": false
   },
   "outputs": [
    {
     "data": {
      "text/html": [
       "<div>\n",
       "<table border=\"1\" class=\"dataframe\">\n",
       "  <thead>\n",
       "    <tr style=\"text-align: right;\">\n",
       "      <th></th>\n",
       "      <th>bytes</th>\n",
       "      <th>pkts</th>\n",
       "      <th>dur</th>\n",
       "      <th>rate</th>\n",
       "      <th>ISO_label</th>\n",
       "    </tr>\n",
       "  </thead>\n",
       "  <tbody>\n",
       "    <tr>\n",
       "      <th>14</th>\n",
       "      <td>3000</td>\n",
       "      <td>28</td>\n",
       "      <td>0.089</td>\n",
       "      <td>269662.96</td>\n",
       "      <td>1</td>\n",
       "    </tr>\n",
       "    <tr>\n",
       "      <th>20</th>\n",
       "      <td>31672</td>\n",
       "      <td>52</td>\n",
       "      <td>0.181</td>\n",
       "      <td>1399867.45</td>\n",
       "      <td>1</td>\n",
       "    </tr>\n",
       "    <tr>\n",
       "      <th>28</th>\n",
       "      <td>8684</td>\n",
       "      <td>44</td>\n",
       "      <td>0.942</td>\n",
       "      <td>73749.48</td>\n",
       "      <td>1</td>\n",
       "    </tr>\n",
       "    <tr>\n",
       "      <th>43</th>\n",
       "      <td>2664</td>\n",
       "      <td>28</td>\n",
       "      <td>0.073</td>\n",
       "      <td>291945.39</td>\n",
       "      <td>1</td>\n",
       "    </tr>\n",
       "    <tr>\n",
       "      <th>92</th>\n",
       "      <td>10172</td>\n",
       "      <td>44</td>\n",
       "      <td>0.215</td>\n",
       "      <td>378493.17</td>\n",
       "      <td>1</td>\n",
       "    </tr>\n",
       "  </tbody>\n",
       "</table>\n",
       "</div>"
      ],
      "text/plain": [
       "    bytes  pkts    dur        rate  ISO_label\n",
       "14   3000    28  0.089   269662.96          1\n",
       "20  31672    52  0.181  1399867.45          1\n",
       "28   8684    44  0.942    73749.48          1\n",
       "43   2664    28  0.073   291945.39          1\n",
       "92  10172    44  0.215   378493.17          1"
      ]
     },
     "execution_count": 5,
     "metadata": {},
     "output_type": "execute_result"
    }
   ],
   "source": [
    "mon_collab_clean.head()"
   ]
  },
  {
   "cell_type": "code",
   "execution_count": 6,
   "metadata": {
    "collapsed": true
   },
   "outputs": [],
   "source": [
    "anomalies = mon_collab_clean[mon_collab_clean.ISO_label == -1]"
   ]
  },
  {
   "cell_type": "code",
   "execution_count": 7,
   "metadata": {
    "collapsed": false
   },
   "outputs": [
    {
     "data": {
      "text/plain": [
       "23739"
      ]
     },
     "execution_count": 7,
     "metadata": {},
     "output_type": "execute_result"
    }
   ],
   "source": [
    "len(anomalies)"
   ]
  },
  {
   "cell_type": "code",
   "execution_count": 10,
   "metadata": {
    "collapsed": true
   },
   "outputs": [],
   "source": [
    "import numpy as np\n",
    "import pandas as pd\n",
    "from scipy import stats\n",
    "from scipy.spatial import distance\n",
    "## function adopted from paper, KSE\n",
    "def euc_dis(p1,p2):\n",
    "    a = p1.values\n",
    "    b = p2.values\n",
    "    c = np.vstack((a,b))\n",
    "    dist = distance.pdist(c)\n",
    "    return float(dist)\n",
    "def KSE_Test(df, sample_size):\n",
    "    # initiate two sample dfs, one distance matrix, and one kse score.\n",
    "    # generate 2 random samples.\n",
    "    sample1 = df.sample(n = sample_size, replace = False)\n",
    "    sample2 = df.sample(n = sample_size, replace = False)\n",
    "    kse_score = [None] * len(df) # empty list to store KSE scores\n",
    "#   distance_matrix = np.matrix([[None] * int(len(df) * fraction) , \n",
    "#                               [None] * int(len(df) * fraction)])\n",
    "#     distance_matrix = [[0 for x in range(len(sample1))] \n",
    "#                        for y in range(len(sample2))] \n",
    "    distance_matrix = np.zeros((sample_size, sample_size))\n",
    "    # calculate distance from all points in sample1 to all points in sample2\n",
    "    for i in range(0,sample_size):\n",
    "        for j in range(0,sample_size):\n",
    "            distance_matrix[i][j] = euc_dis(sample1.iloc[i,],sample2.iloc[j,])\n",
    "    print(\"half way there\")\n",
    "    \n",
    "    # calculate average KS-score for each instance in df.\n",
    "    for i in range(0, len(df)):\n",
    "        observed_instance = df.iloc[i,]\n",
    "        distance_array = [0] * sample_size\n",
    "        for j in range(0,sample_size):\n",
    "            distance_array[j] = euc_dis(observed_instance,sample2.iloc[j,])\n",
    "        sum = 0\n",
    "        for k in range(0, sample_size):\n",
    "            ks_score = stats.ks_2samp(distance_array, distance_matrix[k])[0]\n",
    "            sum += ks_score\n",
    "        average = sum/sample_size\n",
    "        kse_score[i] = average\n",
    "        if (i%100 == 0):\n",
    "            print('loop %s' % i)\n",
    "    return kse_score "
   ]
  },
  {
   "cell_type": "code",
   "execution_count": 11,
   "metadata": {
    "collapsed": false
   },
   "outputs": [
    {
     "name": "stdout",
     "output_type": "stream",
     "text": [
      "half way there\n",
      "loop 0\n",
      "loop 100\n",
      "loop 200\n",
      "loop 300\n",
      "loop 400\n",
      "loop 500\n",
      "loop 600\n",
      "loop 700\n",
      "loop 800\n",
      "loop 900\n",
      "loop 1000\n",
      "loop 1100\n",
      "loop 1200\n",
      "loop 1300\n",
      "loop 1400\n",
      "loop 1500\n",
      "loop 1600\n",
      "loop 1700\n",
      "loop 1800\n",
      "loop 1900\n",
      "loop 2000\n",
      "loop 2100\n",
      "loop 2200\n",
      "loop 2300\n",
      "loop 2400\n",
      "loop 2500\n",
      "loop 2600\n",
      "loop 2700\n",
      "loop 2800\n",
      "loop 2900\n",
      "loop 3000\n",
      "loop 3100\n",
      "loop 3200\n",
      "loop 3300\n",
      "loop 3400\n",
      "loop 3500\n",
      "loop 3600\n",
      "loop 3700\n",
      "loop 3800\n",
      "loop 3900\n",
      "loop 4000\n",
      "loop 4100\n",
      "loop 4200\n",
      "loop 4300\n",
      "loop 4400\n",
      "loop 4500\n",
      "loop 4600\n",
      "loop 4700\n",
      "loop 4800\n",
      "loop 4900\n",
      "loop 5000\n",
      "loop 5100\n",
      "loop 5200\n",
      "loop 5300\n",
      "loop 5400\n",
      "loop 5500\n",
      "loop 5600\n",
      "loop 5700\n",
      "loop 5800\n",
      "loop 5900\n",
      "loop 6000\n",
      "loop 6100\n",
      "loop 6200\n",
      "loop 6300\n",
      "loop 6400\n",
      "loop 6500\n",
      "loop 6600\n",
      "loop 6700\n",
      "loop 6800\n",
      "loop 6900\n",
      "loop 7000\n",
      "loop 7100\n",
      "loop 7200\n",
      "loop 7300\n",
      "loop 7400\n",
      "loop 7500\n",
      "loop 7600\n",
      "loop 7700\n",
      "loop 7800\n",
      "loop 7900\n",
      "loop 8000\n",
      "loop 8100\n",
      "loop 8200\n",
      "loop 8300\n",
      "loop 8400\n",
      "loop 8500\n",
      "loop 8600\n",
      "loop 8700\n",
      "loop 8800\n",
      "loop 8900\n",
      "loop 9000\n",
      "loop 9100\n",
      "loop 9200\n",
      "loop 9300\n",
      "loop 9400\n",
      "loop 9500\n",
      "loop 9600\n",
      "loop 9700\n",
      "loop 9800\n",
      "loop 9900\n",
      "loop 10000\n",
      "loop 10100\n",
      "loop 10200\n",
      "loop 10300\n",
      "loop 10400\n",
      "loop 10500\n",
      "loop 10600\n",
      "loop 10700\n",
      "loop 10800\n",
      "loop 10900\n",
      "loop 11000\n",
      "loop 11100\n",
      "loop 11200\n",
      "loop 11300\n",
      "loop 11400\n",
      "loop 11500\n",
      "loop 11600\n",
      "loop 11700\n",
      "loop 11800\n",
      "loop 11900\n",
      "loop 12000\n",
      "loop 12100\n",
      "loop 12200\n",
      "loop 12300\n",
      "loop 12400\n",
      "loop 12500\n",
      "loop 12600\n",
      "loop 12700\n",
      "loop 12800\n",
      "loop 12900\n",
      "loop 13000\n",
      "loop 13100\n",
      "loop 13200\n",
      "loop 13300\n",
      "loop 13400\n",
      "loop 13500\n",
      "loop 13600\n",
      "loop 13700\n",
      "loop 13800\n",
      "loop 13900\n",
      "loop 14000\n",
      "loop 14100\n",
      "loop 14200\n",
      "loop 14300\n",
      "loop 14400\n",
      "loop 14500\n",
      "loop 14600\n",
      "loop 14700\n",
      "loop 14800\n",
      "loop 14900\n",
      "loop 15000\n",
      "loop 15100\n",
      "loop 15200\n",
      "loop 15300\n",
      "loop 15400\n",
      "loop 15500\n",
      "loop 15600\n",
      "loop 15700\n",
      "loop 15800\n",
      "loop 15900\n",
      "loop 16000\n",
      "loop 16100\n",
      "loop 16200\n",
      "loop 16300\n",
      "loop 16400\n",
      "loop 16500\n",
      "loop 16600\n",
      "loop 16700\n",
      "loop 16800\n",
      "loop 16900\n",
      "loop 17000\n",
      "loop 17100\n",
      "loop 17200\n",
      "loop 17300\n",
      "loop 17400\n",
      "loop 17500\n",
      "loop 17600\n",
      "loop 17700\n",
      "loop 17800\n",
      "loop 17900\n",
      "loop 18000\n",
      "loop 18100\n",
      "loop 18200\n",
      "loop 18300\n",
      "loop 18400\n",
      "loop 18500\n",
      "loop 18600\n",
      "loop 18700\n",
      "loop 18800\n",
      "loop 18900\n",
      "loop 19000\n",
      "loop 19100\n",
      "loop 19200\n",
      "loop 19300\n",
      "loop 19400\n",
      "loop 19500\n",
      "loop 19600\n",
      "loop 19700\n",
      "loop 19800\n",
      "loop 19900\n",
      "loop 20000\n",
      "loop 20100\n",
      "loop 20200\n",
      "loop 20300\n",
      "loop 20400\n",
      "loop 20500\n",
      "loop 20600\n",
      "loop 20700\n",
      "loop 20800\n",
      "loop 20900\n",
      "loop 21000\n",
      "loop 21100\n",
      "loop 21200\n",
      "loop 21300\n",
      "loop 21400\n",
      "loop 21500\n",
      "loop 21600\n",
      "loop 21700\n",
      "loop 21800\n",
      "loop 21900\n",
      "loop 22000\n",
      "loop 22100\n",
      "loop 22200\n",
      "loop 22300\n",
      "loop 22400\n",
      "loop 22500\n",
      "loop 22600\n",
      "loop 22700\n",
      "loop 22800\n",
      "loop 22900\n",
      "loop 23000\n",
      "loop 23100\n",
      "loop 23200\n",
      "loop 23300\n",
      "loop 23400\n",
      "loop 23500\n",
      "loop 23600\n",
      "loop 23700\n"
     ]
    }
   ],
   "source": [
    "kse_scores = KSE_Test(anomalies, 200)"
   ]
  },
  {
   "cell_type": "code",
   "execution_count": 19,
   "metadata": {
    "collapsed": false
   },
   "outputs": [],
   "source": [
    "anom = []\n",
    "for i in kse_scores:\n",
    "    if i > 0.5:\n",
    "        anom.append(i)"
   ]
  },
  {
   "cell_type": "code",
   "execution_count": 28,
   "metadata": {
    "collapsed": false
   },
   "outputs": [
    {
     "data": {
      "text/plain": [
       "0.0004212486230435634"
      ]
     },
     "execution_count": 28,
     "metadata": {},
     "output_type": "execute_result"
    }
   ],
   "source": [
    "len(anom) * 100 / 474779"
   ]
  },
  {
   "cell_type": "code",
   "execution_count": 25,
   "metadata": {
    "collapsed": false
   },
   "outputs": [
    {
     "data": {
      "text/plain": [
       "[(1, 2), (2, 3)]"
      ]
     },
     "execution_count": 25,
     "metadata": {},
     "output_type": "execute_result"
    }
   ],
   "source": []
  },
  {
   "cell_type": "code",
   "execution_count": null,
   "metadata": {
    "collapsed": true
   },
   "outputs": [],
   "source": []
  }
 ],
 "metadata": {
  "anaconda-cloud": {},
  "kernelspec": {
   "display_name": "Python [default]",
   "language": "python",
   "name": "python3"
  },
  "language_info": {
   "codemirror_mode": {
    "name": "ipython",
    "version": 3
   },
   "file_extension": ".py",
   "mimetype": "text/x-python",
   "name": "python",
   "nbconvert_exporter": "python",
   "pygments_lexer": "ipython3",
   "version": "3.5.2"
  }
 },
 "nbformat": 4,
 "nbformat_minor": 1
}
