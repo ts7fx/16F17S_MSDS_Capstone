{
 "cells": [
  {
   "cell_type": "code",
   "execution_count": 1,
   "metadata": {
    "collapsed": true
   },
   "outputs": [],
   "source": [
    "import numpy as np\n",
    "import pandas as pd\n",
    "import matplotlib.pyplot as plt\n",
    "from sklearn.ensemble import IsolationForest\n",
    "from sklearn.neighbors import LocalOutlierFactor\n",
    "from sklearn.cluster import KMeans\n",
    "from scipy import stats\n",
    "from scipy.spatial import distance\n",
    "import random\n",
    "random.seed(8888)"
   ]
  },
  {
   "cell_type": "code",
   "execution_count": 2,
   "metadata": {
    "collapsed": true
   },
   "outputs": [],
   "source": [
    "data0 = pd.read_csv('~/Desktop/data/data02_13_morning_Pages', sep = ',')[[\"bytes\",\"pkts\",\"dur\",\"rate\"]]\n",
    "clf = IsolationForest(max_samples=1000, contamination=0.05,random_state= 5, bootstrap=False)\n",
    "clf.fit(data0)\n",
    "y_pred = clf.predict(data0)\n",
    "data0['ISO'] = y_pred\n",
    "anomalies = data0[data0.ISO == -1]"
   ]
  },
  {
   "cell_type": "code",
   "execution_count": 8,
   "metadata": {
    "collapsed": false
   },
   "outputs": [],
   "source": [
    "anomalies = anomalies[[\"bytes\",\"pkts\",\"dur\",\"rate\"]]"
   ]
  },
  {
   "cell_type": "code",
   "execution_count": 6,
   "metadata": {
    "collapsed": true
   },
   "outputs": [],
   "source": [
    "# 3. run KSE \n",
    "def euc_dis(p1,p2):\n",
    "    a = p1.values\n",
    "    b = p2.values\n",
    "    c = np.vstack((a,b))\n",
    "    dist = distance.pdist(c)\n",
    "    return float(dist)\n",
    "def KSE_Test(df, sample_size):\n",
    "    # initiate two sample dfs, one distance matrix, and one kse score.\n",
    "    # generate 2 random samples.\n",
    "    sample1 = df.sample(n = sample_size, replace = False)\n",
    "    sample2 = df.sample(n = sample_size, replace = False)\n",
    "    kse_score = [] # empty list to store KSE scores\n",
    "#   distance_matrix = np.matrix([[None] * int(len(df) * fraction) , \n",
    "#                               [None] * int(len(df) * fraction)])\n",
    "#     distance_matrix = [[0 for x in range(len(sample1))] \n",
    "#                        for y in range(len(sample2))] \n",
    "    distance_matrix = np.zeros((sample_size, sample_size))\n",
    "    # calculate distance from all points in sample1 to all points in sample2\n",
    "    for i in range(0,sample_size):\n",
    "        for j in range(0,sample_size):\n",
    "            distance_matrix[i][j] = euc_dis(sample1.iloc[i,],sample2.iloc[j,])\n",
    "    print(\"half way there\")\n",
    "    \n",
    "    # calculate average KS-score for each instance in df.\n",
    "    for i in range(0, len(df)):\n",
    "        observed_instance = df.iloc[i,]\n",
    "        distance_array = [0] * sample_size\n",
    "        for j in range(0,sample_size):\n",
    "            distance_array[j] = euc_dis(observed_instance,sample2.iloc[j,])\n",
    "        sum = 0\n",
    "        for k in range(0, sample_size):\n",
    "            ks_score = stats.ks_2samp(distance_array, distance_matrix[k])[0]\n",
    "            sum += ks_score\n",
    "        average = sum/sample_size\n",
    "        #kse_score[i] = average\n",
    "        kse_score.append((i, average))\n",
    "        if (i%1000 == 0):\n",
    "            print('loop %s' % i)\n",
    "    return kse_score "
   ]
  },
  {
   "cell_type": "code",
   "execution_count": 9,
   "metadata": {
    "collapsed": false
   },
   "outputs": [
    {
     "name": "stdout",
     "output_type": "stream",
     "text": [
      "half way there\n",
      "loop 0\n"
     ]
    }
   ],
   "source": [
    "kse_result = KSE_Test(anomalies, int(0.5 * len(anomalies)))"
   ]
  },
  {
   "cell_type": "code",
   "execution_count": 11,
   "metadata": {
    "collapsed": false
   },
   "outputs": [],
   "source": [
    "# 4. get result\n",
    "index_normal = [] \n",
    "for i in kse_result:\n",
    "    if i[1] < 0.5:\n",
    "        index_normal.append(i[0])\n",
    "# final result is a data set of the anomalies of the anomalies\n",
    "monday = anomalies.iloc[index_normal]"
   ]
  },
  {
   "cell_type": "code",
   "execution_count": 12,
   "metadata": {
    "collapsed": false
   },
   "outputs": [
    {
     "name": "stdout",
     "output_type": "stream",
     "text": [
      "half way there\n",
      "loop 0\n"
     ]
    }
   ],
   "source": [
    "data0 = pd.read_csv('~/Desktop/data/data02_14_morning_Pages', sep = ',')[[\"bytes\",\"pkts\",\"dur\",\"rate\"]]\n",
    "clf = IsolationForest(max_samples=1000, contamination=0.05,random_state= 5, bootstrap=False)\n",
    "clf.fit(data0)\n",
    "y_pred = clf.predict(data0)\n",
    "data0['ISO'] = y_pred\n",
    "anomalies = data0[data0.ISO == -1]\n",
    "anomalies = anomalies[[\"bytes\",\"pkts\",\"dur\",\"rate\"]]\n",
    "kse_result = KSE_Test(anomalies, int(0.5 * len(anomalies)))\n",
    "# 4. get result\n",
    "index_normal = [] \n",
    "for i in kse_result:\n",
    "    if i[1] < 0.5:\n",
    "        index_normal.append(i[0])\n",
    "# final result is a data set of the anomalies of the anomalies\n",
    "tuesday = anomalies.iloc[index_normal]"
   ]
  },
  {
   "cell_type": "code",
   "execution_count": 14,
   "metadata": {
    "collapsed": false
   },
   "outputs": [
    {
     "data": {
      "text/plain": [
       "339"
      ]
     },
     "execution_count": 14,
     "metadata": {},
     "output_type": "execute_result"
    }
   ],
   "source": [
    "len(tuesday)"
   ]
  },
  {
   "cell_type": "code",
   "execution_count": 17,
   "metadata": {
    "collapsed": false
   },
   "outputs": [
    {
     "data": {
      "text/plain": [
       "Ks_2sampResult(statistic=0.38074787437098734, pvalue=7.8216954390668168e-17)"
      ]
     },
     "execution_count": 17,
     "metadata": {},
     "output_type": "execute_result"
    }
   ],
   "source": [
    "stats.ks_2samp(monday.rate,tuesday.rate)"
   ]
  },
  {
   "cell_type": "code",
   "execution_count": 19,
   "metadata": {
    "collapsed": false
   },
   "outputs": [
    {
     "name": "stdout",
     "output_type": "stream",
     "text": [
      "half way there\n",
      "loop 0\n"
     ]
    }
   ],
   "source": [
    "data0 = pd.read_csv('~/Desktop/data/data02_13_morning_Pages', sep = ',')[[\"bytes\",\"pkts\",\"dur\",\"rate\"]]\n",
    "clf = IsolationForest(max_samples=1000, contamination=0.05,random_state= 5, bootstrap=False)\n",
    "clf.fit(data0)\n",
    "y_pred = clf.predict(data0)\n",
    "data0['ISO'] = y_pred\n",
    "anomalies = data0[data0.ISO == -1]\n",
    "anomalies = anomalies[[\"bytes\",\"pkts\",\"dur\",\"rate\"]]\n",
    "kse_result = KSE_Test(anomalies, int(0.5 * len(anomalies)))\n",
    "# 4. get result\n",
    "index_normal = [] \n",
    "for i in kse_result:\n",
    "    if i[1] > 0.5:\n",
    "        index_normal.append(i[0])\n",
    "# final result is a data set of the anomalies of the anomalies\n",
    "monday_anom = anomalies.iloc[index_normal]"
   ]
  },
  {
   "cell_type": "code",
   "execution_count": 20,
   "metadata": {
    "collapsed": false
   },
   "outputs": [
    {
     "name": "stdout",
     "output_type": "stream",
     "text": [
      "half way there\n",
      "loop 0\n"
     ]
    }
   ],
   "source": [
    "data0 = pd.read_csv('~/Desktop/data/data02_14_morning_Pages', sep = ',')[[\"bytes\",\"pkts\",\"dur\",\"rate\"]]\n",
    "clf = IsolationForest(max_samples=1000, contamination=0.05,random_state= 5, bootstrap=False)\n",
    "clf.fit(data0)\n",
    "y_pred = clf.predict(data0)\n",
    "data0['ISO'] = y_pred\n",
    "anomalies = data0[data0.ISO == -1]\n",
    "anomalies = anomalies[[\"bytes\",\"pkts\",\"dur\",\"rate\"]]\n",
    "kse_result = KSE_Test(anomalies, int(0.5 * len(anomalies)))\n",
    "# 4. get result\n",
    "index_normal = [] \n",
    "for i in kse_result:\n",
    "    if i[1] > 0.5:\n",
    "        index_normal.append(i[0])\n",
    "# final result is a data set of the anomalies of the anomalies\n",
    "tuesday_anom = anomalies.iloc[index_normal]"
   ]
  },
  {
   "cell_type": "code",
   "execution_count": 26,
   "metadata": {
    "collapsed": false
   },
   "outputs": [
    {
     "data": {
      "text/plain": [
       "Ks_2sampResult(statistic=0.88235294117647056, pvalue=0.0015833340948373303)"
      ]
     },
     "execution_count": 26,
     "metadata": {},
     "output_type": "execute_result"
    }
   ],
   "source": [
    "stats.ks_2samp(monday_anom.rate,tuesday_anom.rate)"
   ]
  },
  {
   "cell_type": "code",
   "execution_count": 106,
   "metadata": {
    "collapsed": true
   },
   "outputs": [],
   "source": [
    "\n",
    "def ks_stat_anom(data0):\n",
    "    #data0 = pd.read_csv('~/Desktop/data/data02_14_morning_Pages', sep = ',')[[\"bytes\",\"pkts\",\"dur\",\"rate\"]]\n",
    "    clf = IsolationForest(max_samples=1000, contamination=0.05,random_state= 5, bootstrap=False)\n",
    "    clf.fit(data0)\n",
    "    y_pred = clf.predict(data0)\n",
    "    data0['ISO'] = y_pred\n",
    "    anomalies = data0[data0.ISO == -1]\n",
    "    anomalies = anomalies[[\"bytes\",\"pkts\",\"dur\",\"rate\"]]\n",
    "    kse_result = KSE_Test(anomalies, int(0.5 * len(anomalies)))\n",
    "    data0 = data0[[\"bytes\",\"pkts\",\"dur\",\"rate\"]]\n",
    "\n",
    "    # 4. get result\n",
    "    index_normal = [] \n",
    "    for i in kse_result:\n",
    "        if i[1] < 0.5:\n",
    "            index_normal.append(i[0])\n",
    "    # final result is a data set of the anomalies less the anomalies of the anomalies\n",
    "    anom = anomalies.iloc[index_normal]\n",
    "    return anom\n",
    "\n",
    "def ks_stat_anomanom(data0):\n",
    "    #data0 = pd.read_csv('~/Desktop/data/data02_14_morning_Pages', sep = ',')[[\"bytes\",\"pkts\",\"dur\",\"rate\"]]\n",
    "    clf = IsolationForest(max_samples=1000, contamination=0.05,random_state= 5, bootstrap=False)\n",
    "    clf.fit(data0)\n",
    "    y_pred = clf.predict(data0)\n",
    "    data0['ISO'] = y_pred\n",
    "    anomalies = data0[data0.ISO == -1]\n",
    "    anomalies = anomalies[[\"bytes\",\"pkts\",\"dur\",\"rate\"]]\n",
    "    kse_result = KSE_Test(anomalies, int(0.5 * len(anomalies)))\n",
    "    data0 = data0[[\"bytes\",\"pkts\",\"dur\",\"rate\"]]\n",
    "    index_normal = [] \n",
    "    for i in kse_result:\n",
    "        if i[1] > 0.5:\n",
    "            index_normal.append(i[0])\n",
    "    # final result is a data set of the anomalies of the anomalies\n",
    "    anom = anomalies.iloc[index_normal]\n",
    "    return anom\n",
    "    "
   ]
  },
  {
   "cell_type": "code",
   "execution_count": 150,
   "metadata": {
    "collapsed": true
   },
   "outputs": [],
   "source": [
    "##### LOF\n",
    "def ks_stat_anom(data0):\n",
    "    #data0 = pd.read_csv('~/Desktop/data/data02_14_morning_Pages', sep = ',')[[\"bytes\",\"pkts\",\"dur\",\"rate\"]]\n",
    "    clf = LocalOutlierFactor(n_neighbors=20, contamination=0.05)\n",
    "    y_pred = clf.fit_predict(data0)\n",
    "    data0['LOF'] = y_pred\n",
    "    anomalies = data0[data0.LOF == -1]\n",
    "    \n",
    "    anomalies = anomalies[[\"bytes\",\"pkts\",\"dur\",\"rate\"]]\n",
    "    kse_result = KSE_Test(anomalies, int(0.5 * len(anomalies)))\n",
    "    data0 = data0[[\"bytes\",\"pkts\",\"dur\",\"rate\"]]\n",
    "\n",
    "    # 4. get result\n",
    "    index_normal = [] \n",
    "    for i in kse_result:\n",
    "        if i[1] < 0.5:\n",
    "            index_normal.append(i[0])\n",
    "    # final result is a data set of the anomalies less the anomalies of the anomalies\n",
    "    anom = anomalies.iloc[index_normal]\n",
    "    return anom\n",
    "\n",
    "def ks_stat_anomanom(data0):\n",
    "    #data0 = pd.read_csv('~/Desktop/data/data02_14_morning_Pages', sep = ',')[[\"bytes\",\"pkts\",\"dur\",\"rate\"]]\n",
    "    clf = LocalOutlierFactor(n_neighbors=20, contamination=0.05)\n",
    "    y_pred = clf.fit_predict(data0)\n",
    "    data0['LOF'] = y_pred\n",
    "    anomalies = data0[data0.LOF == -1]\n",
    "    anomalies = anomalies[[\"bytes\",\"pkts\",\"dur\",\"rate\"]]\n",
    "    kse_result = KSE_Test(anomalies, int(0.5 * len(anomalies)))\n",
    "    data0 = data0[[\"bytes\",\"pkts\",\"dur\",\"rate\"]]\n",
    "    index_normal = [] \n",
    "    for i in kse_result:\n",
    "        if i[1] > 0.5:\n",
    "            index_normal.append(i[0])\n",
    "    # final result is a data set of the anomalies of the anomalies\n",
    "    anom = anomalies.iloc[index_normal]\n",
    "    return anom\n",
    "    "
   ]
  },
  {
   "cell_type": "code",
   "execution_count": 204,
   "metadata": {
    "collapsed": false,
    "scrolled": true
   },
   "outputs": [
    {
     "name": "stderr",
     "output_type": "stream",
     "text": [
      "/Users/ChineseSamurai/anaconda/lib/python3.5/site-packages/sklearn/ensemble/iforest.py:183: UserWarning: max_samples (1000) is greater than the total number of samples (368). max_samples will be set to n_samples for estimation.\n",
      "  % (self.max_samples, n_samples))\n",
      "/Users/ChineseSamurai/anaconda/lib/python3.5/site-packages/sklearn/ensemble/iforest.py:183: UserWarning: max_samples (1000) is greater than the total number of samples (368). max_samples will be set to n_samples for estimation.\n",
      "  % (self.max_samples, n_samples))\n"
     ]
    },
    {
     "name": "stdout",
     "output_type": "stream",
     "text": [
      "half way there\n",
      "loop 0\n"
     ]
    },
    {
     "name": "stderr",
     "output_type": "stream",
     "text": [
      "/Users/ChineseSamurai/anaconda/lib/python3.5/site-packages/sklearn/ensemble/iforest.py:183: UserWarning: max_samples (1000) is greater than the total number of samples (895). max_samples will be set to n_samples for estimation.\n",
      "  % (self.max_samples, n_samples))\n",
      "/Users/ChineseSamurai/anaconda/lib/python3.5/site-packages/sklearn/ensemble/iforest.py:183: UserWarning: max_samples (1000) is greater than the total number of samples (895). max_samples will be set to n_samples for estimation.\n",
      "  % (self.max_samples, n_samples))\n"
     ]
    },
    {
     "name": "stdout",
     "output_type": "stream",
     "text": [
      "half way there\n",
      "loop 0\n"
     ]
    },
    {
     "name": "stderr",
     "output_type": "stream",
     "text": [
      "/Users/ChineseSamurai/anaconda/lib/python3.5/site-packages/sklearn/ensemble/iforest.py:183: UserWarning: max_samples (1000) is greater than the total number of samples (597). max_samples will be set to n_samples for estimation.\n",
      "  % (self.max_samples, n_samples))\n",
      "/Users/ChineseSamurai/anaconda/lib/python3.5/site-packages/sklearn/ensemble/iforest.py:183: UserWarning: max_samples (1000) is greater than the total number of samples (597). max_samples will be set to n_samples for estimation.\n",
      "  % (self.max_samples, n_samples))\n"
     ]
    },
    {
     "name": "stdout",
     "output_type": "stream",
     "text": [
      "half way there\n",
      "loop 0\n"
     ]
    },
    {
     "name": "stderr",
     "output_type": "stream",
     "text": [
      "/Users/ChineseSamurai/anaconda/lib/python3.5/site-packages/sklearn/ensemble/iforest.py:183: UserWarning: max_samples (1000) is greater than the total number of samples (810). max_samples will be set to n_samples for estimation.\n",
      "  % (self.max_samples, n_samples))\n",
      "/Users/ChineseSamurai/anaconda/lib/python3.5/site-packages/sklearn/ensemble/iforest.py:183: UserWarning: max_samples (1000) is greater than the total number of samples (810). max_samples will be set to n_samples for estimation.\n",
      "  % (self.max_samples, n_samples))\n"
     ]
    },
    {
     "name": "stdout",
     "output_type": "stream",
     "text": [
      "half way there\n",
      "loop 0\n"
     ]
    },
    {
     "name": "stderr",
     "output_type": "stream",
     "text": [
      "/Users/ChineseSamurai/anaconda/lib/python3.5/site-packages/sklearn/ensemble/iforest.py:183: UserWarning: max_samples (1000) is greater than the total number of samples (809). max_samples will be set to n_samples for estimation.\n",
      "  % (self.max_samples, n_samples))\n",
      "/Users/ChineseSamurai/anaconda/lib/python3.5/site-packages/sklearn/ensemble/iforest.py:183: UserWarning: max_samples (1000) is greater than the total number of samples (809). max_samples will be set to n_samples for estimation.\n",
      "  % (self.max_samples, n_samples))\n"
     ]
    },
    {
     "name": "stdout",
     "output_type": "stream",
     "text": [
      "half way there\n",
      "loop 0\n"
     ]
    }
   ],
   "source": [
    "# ece\n",
    "data0 = pd.read_csv('~/Desktop/data/data02_13_morning_Ece', sep = ',')[[\"bytes\",\"pkts\",\"dur\",\"rate\"]]\n",
    "a = ks_stat_anom(data0)\n",
    "aa = ks_stat_anomanom(data0)\n",
    "data1 = pd.read_csv('~/Desktop/data/data02_14_morning_Ece', sep = ',')[[\"bytes\",\"pkts\",\"dur\",\"rate\"]]\n",
    "b = ks_stat_anom(data1)\n",
    "bb = ks_stat_anomanom(data1)\n",
    "data2 = pd.read_csv('~/Desktop/data/data02_15_morning_Ece', sep = ',')[[\"bytes\",\"pkts\",\"dur\",\"rate\"]]\n",
    "c = ks_stat_anom(data2)\n",
    "cc = ks_stat_anomanom(data2)\n",
    "data3 = pd.read_csv('~/Desktop/data/data02_16_morning_Ece', sep = ',')[[\"bytes\",\"pkts\",\"dur\",\"rate\"]]\n",
    "d = ks_stat_anom(data3)\n",
    "dd = ks_stat_anomanom(data3)\n",
    "data4 = pd.read_csv('~/Desktop/data/data02_17_morning_Ece', sep = ',')[[\"bytes\",\"pkts\",\"dur\",\"rate\"]]\n",
    "e = ks_stat_anom(data4)\n",
    "ee = ks_stat_anomanom(data4)"
   ]
  },
  {
   "cell_type": "code",
   "execution_count": 172,
   "metadata": {
    "collapsed": false
   },
   "outputs": [
    {
     "name": "stdout",
     "output_type": "stream",
     "text": [
      "half way there\n",
      "loop 0\n",
      "half way there\n",
      "loop 0\n",
      "half way there\n",
      "loop 0\n",
      "half way there\n",
      "loop 0\n",
      "half way there\n",
      "loop 0\n",
      "half way there\n",
      "loop 0\n",
      "half way there\n",
      "loop 0\n",
      "half way there\n",
      "loop 0\n",
      "half way there\n",
      "loop 0\n",
      "half way there\n",
      "loop 0\n"
     ]
    }
   ],
   "source": [
    "# ece\n",
    "data0 = pd.read_csv('~/Desktop/data/data02_13_morning_Pages', sep = ',')[[\"bytes\",\"pkts\",\"dur\",\"rate\"]]\n",
    "a = ks_stat_anom(data0)\n",
    "aa = ks_stat_anomanom(data0)\n",
    "data1 = pd.read_csv('~/Desktop/data/data02_14_morning_Pages', sep = ',')[[\"bytes\",\"pkts\",\"dur\",\"rate\"]]\n",
    "b = ks_stat_anom(data1)\n",
    "bb = ks_stat_anomanom(data1)\n",
    "data2 = pd.read_csv('~/Desktop/data/data02_15_morning_Pages', sep = ',')[[\"bytes\",\"pkts\",\"dur\",\"rate\"]]\n",
    "c = ks_stat_anom(data2)\n",
    "cc = ks_stat_anomanom(data2)\n",
    "data3 = pd.read_csv('~/Desktop/data/data02_16_morning_Pages', sep = ',')[[\"bytes\",\"pkts\",\"dur\",\"rate\"]]\n",
    "d = ks_stat_anom(data3)\n",
    "dd = ks_stat_anomanom(data3)\n",
    "data4 = pd.read_csv('~/Desktop/data/data02_17_morning_Pages', sep = ',')[[\"bytes\",\"pkts\",\"dur\",\"rate\"]]\n",
    "e = ks_stat_anom(data4)\n",
    "ee = ks_stat_anomanom(data4)"
   ]
  },
  {
   "cell_type": "code",
   "execution_count": 173,
   "metadata": {
    "collapsed": false
   },
   "outputs": [
    {
     "data": {
      "text/plain": [
       "Ks_2sampResult(statistic=0.36500082467425365, pvalue=1.456614045939065e-10)"
      ]
     },
     "execution_count": 173,
     "metadata": {},
     "output_type": "execute_result"
    }
   ],
   "source": [
    "stats.ks_2samp(a.rate,b.rate)"
   ]
  },
  {
   "cell_type": "code",
   "execution_count": 174,
   "metadata": {
    "collapsed": false
   },
   "outputs": [
    {
     "data": {
      "text/plain": [
       "Ks_2sampResult(statistic=0.36619718309859151, pvalue=1.0649800525139802e-11)"
      ]
     },
     "execution_count": 174,
     "metadata": {},
     "output_type": "execute_result"
    }
   ],
   "source": [
    "stats.ks_2samp(a.rate,c.rate)"
   ]
  },
  {
   "cell_type": "code",
   "execution_count": 175,
   "metadata": {
    "collapsed": false
   },
   "outputs": [
    {
     "data": {
      "text/plain": [
       "Ks_2sampResult(statistic=0.5971428571428572, pvalue=2.2518990569389396e-32)"
      ]
     },
     "execution_count": 175,
     "metadata": {},
     "output_type": "execute_result"
    }
   ],
   "source": [
    "stats.ks_2samp(a.rate,d.rate)"
   ]
  },
  {
   "cell_type": "code",
   "execution_count": 176,
   "metadata": {
    "collapsed": false
   },
   "outputs": [
    {
     "data": {
      "text/plain": [
       "Ks_2sampResult(statistic=0.57476635514018692, pvalue=1.6165079036311666e-25)"
      ]
     },
     "execution_count": 176,
     "metadata": {},
     "output_type": "execute_result"
    }
   ],
   "source": [
    "stats.ks_2samp(a.rate,e.rate)"
   ]
  },
  {
   "cell_type": "code",
   "execution_count": 177,
   "metadata": {
    "collapsed": false
   },
   "outputs": [
    {
     "data": {
      "text/plain": [
       "Ks_2sampResult(statistic=0.1138388470357026, pvalue=0.077818225417967235)"
      ]
     },
     "execution_count": 177,
     "metadata": {},
     "output_type": "execute_result"
    }
   ],
   "source": [
    "stats.ks_2samp(b.rate,c.rate)"
   ]
  },
  {
   "cell_type": "code",
   "execution_count": 178,
   "metadata": {
    "collapsed": false
   },
   "outputs": [
    {
     "data": {
      "text/plain": [
       "Ks_2sampResult(statistic=0.35142857142857142, pvalue=4.9128439361507686e-15)"
      ]
     },
     "execution_count": 178,
     "metadata": {},
     "output_type": "execute_result"
    }
   ],
   "source": [
    "stats.ks_2samp(b.rate,d.rate)"
   ]
  },
  {
   "cell_type": "code",
   "execution_count": 179,
   "metadata": {
    "collapsed": false
   },
   "outputs": [
    {
     "data": {
      "text/plain": [
       "Ks_2sampResult(statistic=0.33214518582916763, pvalue=5.7966416144668597e-11)"
      ]
     },
     "execution_count": 179,
     "metadata": {},
     "output_type": "execute_result"
    }
   ],
   "source": [
    "stats.ks_2samp(b.rate,e.rate)"
   ]
  },
  {
   "cell_type": "code",
   "execution_count": 180,
   "metadata": {
    "collapsed": false
   },
   "outputs": [
    {
     "data": {
      "text/plain": [
       "Ks_2sampResult(statistic=0.29716297786720325, pvalue=1.0640237211453144e-12)"
      ]
     },
     "execution_count": 180,
     "metadata": {},
     "output_type": "execute_result"
    }
   ],
   "source": [
    "stats.ks_2samp(c.rate,d.rate)"
   ]
  },
  {
   "cell_type": "code",
   "execution_count": 181,
   "metadata": {
    "collapsed": false
   },
   "outputs": [
    {
     "data": {
      "text/plain": [
       "Ks_2sampResult(statistic=0.28458602079768336, pvalue=3.2566997077238797e-09)"
      ]
     },
     "execution_count": 181,
     "metadata": {},
     "output_type": "execute_result"
    }
   ],
   "source": [
    "stats.ks_2samp(c.rate,e.rate)"
   ]
  },
  {
   "cell_type": "code",
   "execution_count": 182,
   "metadata": {
    "collapsed": false
   },
   "outputs": [
    {
     "data": {
      "text/plain": [
       "Ks_2sampResult(statistic=0.16739652870493987, pvalue=0.0009900648934823978)"
      ]
     },
     "execution_count": 182,
     "metadata": {},
     "output_type": "execute_result"
    }
   ],
   "source": [
    "stats.ks_2samp(d.rate,e.rate)"
   ]
  },
  {
   "cell_type": "code",
   "execution_count": 183,
   "metadata": {
    "collapsed": false
   },
   "outputs": [
    {
     "data": {
      "text/plain": [
       "Ks_2sampResult(statistic=0.4845261121856867, pvalue=1.3505580704778089e-07)"
      ]
     },
     "execution_count": 183,
     "metadata": {},
     "output_type": "execute_result"
    }
   ],
   "source": [
    "stats.ks_2samp(aa.rate,bb.rate)"
   ]
  },
  {
   "cell_type": "code",
   "execution_count": 184,
   "metadata": {
    "collapsed": false
   },
   "outputs": [
    {
     "data": {
      "text/plain": [
       "Ks_2sampResult(statistic=0.24134199134199136, pvalue=0.037126924908056962)"
      ]
     },
     "execution_count": 184,
     "metadata": {},
     "output_type": "execute_result"
    }
   ],
   "source": [
    "stats.ks_2samp(aa.rate,cc.rate)"
   ]
  },
  {
   "cell_type": "code",
   "execution_count": 185,
   "metadata": {
    "collapsed": false
   },
   "outputs": [
    {
     "data": {
      "text/plain": [
       "Ks_2sampResult(statistic=0.49161831076724694, pvalue=8.299685369768486e-08)"
      ]
     },
     "execution_count": 185,
     "metadata": {},
     "output_type": "execute_result"
    }
   ],
   "source": [
    "stats.ks_2samp(aa.rate,dd.rate)"
   ]
  },
  {
   "cell_type": "code",
   "execution_count": 186,
   "metadata": {
    "collapsed": false
   },
   "outputs": [
    {
     "data": {
      "text/plain": [
       "Ks_2sampResult(statistic=0.46590909090909094, pvalue=4.5968420637289112e-06)"
      ]
     },
     "execution_count": 186,
     "metadata": {},
     "output_type": "execute_result"
    }
   ],
   "source": [
    "stats.ks_2samp(aa.rate,ee.rate)"
   ]
  },
  {
   "cell_type": "code",
   "execution_count": 187,
   "metadata": {
    "collapsed": false
   },
   "outputs": [
    {
     "data": {
      "text/plain": [
       "Ks_2sampResult(statistic=0.46504559270516715, pvalue=2.451089218212643e-13)"
      ]
     },
     "execution_count": 187,
     "metadata": {},
     "output_type": "execute_result"
    }
   ],
   "source": [
    "stats.ks_2samp(bb.rate,cc.rate)"
   ]
  },
  {
   "cell_type": "code",
   "execution_count": 188,
   "metadata": {
    "collapsed": false
   },
   "outputs": [
    {
     "data": {
      "text/plain": [
       "Ks_2sampResult(statistic=0.17730496453900713, pvalue=0.020627616737057861)"
      ]
     },
     "execution_count": 188,
     "metadata": {},
     "output_type": "execute_result"
    }
   ],
   "source": [
    "stats.ks_2samp(bb.rate,dd.rate)"
   ]
  },
  {
   "cell_type": "code",
   "execution_count": 193,
   "metadata": {
    "collapsed": false
   },
   "outputs": [
    {
     "data": {
      "text/plain": [
       "Ks_2sampResult(statistic=0.0, pvalue=1.0)"
      ]
     },
     "execution_count": 193,
     "metadata": {},
     "output_type": "execute_result"
    }
   ],
   "source": [
    "stats.ks_2samp(dd.rate,dd.rate)"
   ]
  },
  {
   "cell_type": "code",
   "execution_count": 189,
   "metadata": {
    "collapsed": false
   },
   "outputs": [
    {
     "data": {
      "text/plain": [
       "Ks_2sampResult(statistic=0.21267730496453907, pvalue=0.016558836727314449)"
      ]
     },
     "execution_count": 189,
     "metadata": {},
     "output_type": "execute_result"
    }
   ],
   "source": [
    "stats.ks_2samp(bb.rate,ee.rate)"
   ]
  },
  {
   "cell_type": "code",
   "execution_count": 190,
   "metadata": {
    "collapsed": false
   },
   "outputs": [
    {
     "data": {
      "text/plain": [
       "Ks_2sampResult(statistic=0.47298210064167517, pvalue=8.8083632376509241e-14)"
      ]
     },
     "execution_count": 190,
     "metadata": {},
     "output_type": "execute_result"
    }
   ],
   "source": [
    "stats.ks_2samp(cc.rate,dd.rate)"
   ]
  },
  {
   "cell_type": "code",
   "execution_count": 191,
   "metadata": {
    "collapsed": false
   },
   "outputs": [
    {
     "data": {
      "text/plain": [
       "Ks_2sampResult(statistic=0.4464285714285714, pvalue=3.1520083054245033e-09)"
      ]
     },
     "execution_count": 191,
     "metadata": {},
     "output_type": "execute_result"
    }
   ],
   "source": [
    "stats.ks_2samp(cc.rate,ee.rate)"
   ]
  },
  {
   "cell_type": "code",
   "execution_count": 192,
   "metadata": {
    "collapsed": false,
    "scrolled": true
   },
   "outputs": [
    {
     "data": {
      "text/plain": [
       "Ks_2sampResult(statistic=0.25221631205673756, pvalue=0.002360139889140027)"
      ]
     },
     "execution_count": 192,
     "metadata": {},
     "output_type": "execute_result"
    }
   ],
   "source": [
    "stats.ks_2samp(dd.rate,ee.rate)"
   ]
  },
  {
   "cell_type": "code",
   "execution_count": 197,
   "metadata": {
    "collapsed": false
   },
   "outputs": [],
   "source": [
    "data0 = pd.read_csv('~/Desktop/data/data02_13_morning_Pages', sep = ',')[[\"bytes\",\"pkts\",\"dur\",\"rate\"]]"
   ]
  },
  {
   "cell_type": "code",
   "execution_count": 199,
   "metadata": {
    "collapsed": true
   },
   "outputs": [],
   "source": [
    "clf = IsolationForest(max_samples=1000, contamination=0.05,random_state= 5, bootstrap=False)\n",
    "clf.fit(data0)\n",
    "y_pred = clf.predict(data0)\n",
    "data0['ISO'] = y_pred"
   ]
  },
  {
   "cell_type": "code",
   "execution_count": 200,
   "metadata": {
    "collapsed": false
   },
   "outputs": [
    {
     "data": {
      "text/html": [
       "<div>\n",
       "<table border=\"1\" class=\"dataframe\">\n",
       "  <thead>\n",
       "    <tr style=\"text-align: right;\">\n",
       "      <th></th>\n",
       "      <th>bytes</th>\n",
       "      <th>pkts</th>\n",
       "      <th>dur</th>\n",
       "      <th>rate</th>\n",
       "      <th>ISO</th>\n",
       "    </tr>\n",
       "  </thead>\n",
       "  <tbody>\n",
       "    <tr>\n",
       "      <th>0</th>\n",
       "      <td>14048</td>\n",
       "      <td>232</td>\n",
       "      <td>0.544</td>\n",
       "      <td>206588.24</td>\n",
       "      <td>1</td>\n",
       "    </tr>\n",
       "    <tr>\n",
       "      <th>1</th>\n",
       "      <td>7548</td>\n",
       "      <td>104</td>\n",
       "      <td>0.337</td>\n",
       "      <td>179181.01</td>\n",
       "      <td>1</td>\n",
       "    </tr>\n",
       "    <tr>\n",
       "      <th>2</th>\n",
       "      <td>17140</td>\n",
       "      <td>312</td>\n",
       "      <td>1.364</td>\n",
       "      <td>100527.86</td>\n",
       "      <td>1</td>\n",
       "    </tr>\n",
       "    <tr>\n",
       "      <th>3</th>\n",
       "      <td>3004</td>\n",
       "      <td>20</td>\n",
       "      <td>2.306</td>\n",
       "      <td>10421.51</td>\n",
       "      <td>1</td>\n",
       "    </tr>\n",
       "    <tr>\n",
       "      <th>4</th>\n",
       "      <td>3992</td>\n",
       "      <td>20</td>\n",
       "      <td>0.279</td>\n",
       "      <td>114465.95</td>\n",
       "      <td>1</td>\n",
       "    </tr>\n",
       "  </tbody>\n",
       "</table>\n",
       "</div>"
      ],
      "text/plain": [
       "   bytes  pkts    dur       rate  ISO\n",
       "0  14048   232  0.544  206588.24    1\n",
       "1   7548   104  0.337  179181.01    1\n",
       "2  17140   312  1.364  100527.86    1\n",
       "3   3004    20  2.306   10421.51    1\n",
       "4   3992    20  0.279  114465.95    1"
      ]
     },
     "execution_count": 200,
     "metadata": {},
     "output_type": "execute_result"
    }
   ],
   "source": [
    "data0.head()"
   ]
  },
  {
   "cell_type": "code",
   "execution_count": 203,
   "metadata": {
    "collapsed": true
   },
   "outputs": [],
   "source": [
    "def ks_stat_anom(data0):\n",
    "    #data0 = pd.read_csv('~/Desktop/data/data02_14_morning_Pages', sep = ',')[[\"bytes\",\"pkts\",\"dur\",\"rate\"]]\n",
    "    clf = IsolationForest(max_samples=1000, contamination=0.05,random_state= 5, bootstrap=False)\n",
    "    clf.fit(data0)\n",
    "    y_pred = clf.predict(data0)\n",
    "    data0['ISO'] = y_pred\n",
    "    normal = data0[data0.ISO == 1][[\"bytes\",\"pkts\",\"dur\",\"rate\"]]\n",
    "    return normal\n",
    "\n",
    "def ks_stat_anomanom(data0):\n",
    "    #data0 = pd.read_csv('~/Desktop/data/data02_14_morning_Pages', sep = ',')[[\"bytes\",\"pkts\",\"dur\",\"rate\"]]\n",
    "    clf = IsolationForest(max_samples=1000, contamination=0.05,random_state= 5, bootstrap=False)\n",
    "    clf.fit(data0)\n",
    "    y_pred = clf.predict(data0)\n",
    "    data0['ISO'] = y_pred\n",
    "    anomalies = data0[data0.ISO == -1]\n",
    "    anomalies = anomalies[[\"bytes\",\"pkts\",\"dur\",\"rate\"]]\n",
    "    kse_result = KSE_Test(anomalies, int(0.5 * len(anomalies)))\n",
    "    data0 = data0[[\"bytes\",\"pkts\",\"dur\",\"rate\"]]\n",
    "    index_normal = [] \n",
    "    for i in kse_result:\n",
    "        if i[1] > 0.5:\n",
    "            index_normal.append(i[0])\n",
    "    # final result is a data set of the anomalies of the anomalies\n",
    "    anom = anomalies.iloc[index_normal]\n",
    "    return anom\n",
    "    "
   ]
  },
  {
   "cell_type": "code",
   "execution_count": 217,
   "metadata": {
    "collapsed": false
   },
   "outputs": [
    {
     "name": "stdout",
     "output_type": "stream",
     "text": [
      "half way there\n",
      "loop 0\n",
      "half way there\n",
      "loop 0\n",
      "half way there\n",
      "loop 0\n",
      "half way there\n",
      "loop 0\n",
      "half way there\n",
      "loop 0\n"
     ]
    }
   ],
   "source": [
    "# ece\n",
    "data0 = pd.read_csv('~/Desktop/data/data02_13_morning_Ece', sep = ',')[[\"bytes\",\"pkts\",\"dur\",\"rate\"]]\n",
    "a = ks_stat_anom(data0)\n",
    "aa = ks_stat_anomanom(data0)\n",
    "data1 = pd.read_csv('~/Desktop/data/data02_14_morning_Ece', sep = ',')[[\"bytes\",\"pkts\",\"dur\",\"rate\"]]\n",
    "b = ks_stat_anom(data1)\n",
    "bb = ks_stat_anomanom(data1)\n",
    "data2 = pd.read_csv('~/Desktop/data/data02_15_morning_Ece', sep = ',')[[\"bytes\",\"pkts\",\"dur\",\"rate\"]]\n",
    "c = ks_stat_anom(data2)\n",
    "cc = ks_stat_anomanom(data2)\n",
    "data3 = pd.read_csv('~/Desktop/data/data02_16_morning_Ece', sep = ',')[[\"bytes\",\"pkts\",\"dur\",\"rate\"]]\n",
    "d = ks_stat_anom(data3)\n",
    "dd = ks_stat_anomanom(data3)\n",
    "data4 = pd.read_csv('~/Desktop/data/data02_17_morning_Ece', sep = ',')[[\"bytes\",\"pkts\",\"dur\",\"rate\"]]\n",
    "e = ks_stat_anom(data4)\n",
    "ee = ks_stat_anomanom(data4)"
   ]
  },
  {
   "cell_type": "code",
   "execution_count": 230,
   "metadata": {
    "collapsed": false
   },
   "outputs": [
    {
     "data": {
      "text/plain": [
       "45"
      ]
     },
     "execution_count": 230,
     "metadata": {},
     "output_type": "execute_result"
    }
   ],
   "source": [
    "len(aa)"
   ]
  },
  {
   "cell_type": "code",
   "execution_count": 224,
   "metadata": {
    "collapsed": false
   },
   "outputs": [
    {
     "data": {
      "text/plain": [
       "Ks_2sampResult(statistic=0.4699713370426572, pvalue=2.5829424516789237e-09)"
      ]
     },
     "execution_count": 224,
     "metadata": {},
     "output_type": "execute_result"
    }
   ],
   "source": [
    "stats.ks_2samp(a.rate,aa.rate)"
   ]
  },
  {
   "cell_type": "code",
   "execution_count": 225,
   "metadata": {
    "collapsed": false
   },
   "outputs": [
    {
     "data": {
      "text/plain": [
       "Ks_2sampResult(statistic=0.59172571476189362, pvalue=2.3043890144166017e-35)"
      ]
     },
     "execution_count": 225,
     "metadata": {},
     "output_type": "execute_result"
    }
   ],
   "source": [
    "stats.ks_2samp(b.rate,bb.rate)"
   ]
  },
  {
   "cell_type": "code",
   "execution_count": 226,
   "metadata": {
    "collapsed": false
   },
   "outputs": [
    {
     "data": {
      "text/plain": [
       "Ks_2sampResult(statistic=0.68888881393434886, pvalue=3.0691337090069178e-35)"
      ]
     },
     "execution_count": 226,
     "metadata": {},
     "output_type": "execute_result"
    }
   ],
   "source": [
    "stats.ks_2samp(c.rate,cc.rate)"
   ]
  },
  {
   "cell_type": "code",
   "execution_count": 227,
   "metadata": {
    "collapsed": false,
    "scrolled": true
   },
   "outputs": [
    {
     "data": {
      "text/plain": [
       "Ks_2sampResult(statistic=0.56958393961978449, pvalue=6.2911590193170855e-33)"
      ]
     },
     "execution_count": 227,
     "metadata": {},
     "output_type": "execute_result"
    }
   ],
   "source": [
    "stats.ks_2samp(d.rate,dd.rate)"
   ]
  },
  {
   "cell_type": "code",
   "execution_count": 228,
   "metadata": {
    "collapsed": false
   },
   "outputs": [
    {
     "data": {
      "text/plain": [
       "Ks_2sampResult(statistic=0.61984489444205082, pvalue=6.6337648142327447e-23)"
      ]
     },
     "execution_count": 228,
     "metadata": {},
     "output_type": "execute_result"
    }
   ],
   "source": [
    "stats.ks_2samp(e.rate,ee.rate)"
   ]
  },
  {
   "cell_type": "code",
   "execution_count": 223,
   "metadata": {
    "collapsed": false
   },
   "outputs": [
    {
     "name": "stdout",
     "output_type": "stream",
     "text": [
      "half way there\n",
      "loop 0\n",
      "half way there\n",
      "loop 0\n",
      "half way there\n",
      "loop 0\n",
      "half way there\n",
      "loop 0\n",
      "half way there\n",
      "loop 0\n"
     ]
    }
   ],
   "source": [
    "# pages\n",
    "data0 = pd.read_csv('~/Desktop/data/data02_13_morning_Pages', sep = ',')[[\"bytes\",\"pkts\",\"dur\",\"rate\"]]\n",
    "a = ks_stat_anom(data0)\n",
    "aa = ks_stat_anomanom(data0)\n",
    "data1 = pd.read_csv('~/Desktop/data/data02_14_morning_Pages', sep = ',')[[\"bytes\",\"pkts\",\"dur\",\"rate\"]]\n",
    "b = ks_stat_anom(data1)\n",
    "bb = ks_stat_anomanom(data1)\n",
    "data2 = pd.read_csv('~/Desktop/data/data02_15_morning_Pages', sep = ',')[[\"bytes\",\"pkts\",\"dur\",\"rate\"]]\n",
    "c = ks_stat_anom(data2)\n",
    "cc = ks_stat_anomanom(data2)\n",
    "data3 = pd.read_csv('~/Desktop/data/data02_16_morning_Pages', sep = ',')[[\"bytes\",\"pkts\",\"dur\",\"rate\"]]\n",
    "d = ks_stat_anom(data3)\n",
    "dd = ks_stat_anomanom(data3)\n",
    "data4 = pd.read_csv('~/Desktop/data/data02_17_morning_Pages', sep = ',')[[\"bytes\",\"pkts\",\"dur\",\"rate\"]]\n",
    "e = ks_stat_anom(data4)\n",
    "ee = ks_stat_anomanom(data4)"
   ]
  },
  {
   "cell_type": "code",
   "execution_count": 216,
   "metadata": {
    "collapsed": true
   },
   "outputs": [],
   "source": [
    "def ks_stat_anom(data0):\n",
    "    clf = LocalOutlierFactor(n_neighbors=20, contamination=0.05)\n",
    "    y_pred = clf.fit_predict(data0)\n",
    "    data0['LOF'] = y_pred\n",
    "    normal = data0[data0.LOF == 1][[\"bytes\",\"pkts\",\"dur\",\"rate\"]]\n",
    "    return normal\n",
    "\n",
    "def ks_stat_anomanom(data0):\n",
    "    #data0 = pd.read_csv('~/Desktop/data/data02_14_morning_Pages', sep = ',')[[\"bytes\",\"pkts\",\"dur\",\"rate\"]]\n",
    "    clf = LocalOutlierFactor(n_neighbors=20, contamination=0.05)\n",
    "    y_pred = clf.fit_predict(data0)\n",
    "    data0['LOF'] = y_pred\n",
    "    anomalies = data0[data0.LOF == -1]\n",
    "    anomalies = anomalies[[\"bytes\",\"pkts\",\"dur\",\"rate\"]]\n",
    "    kse_result = KSE_Test(anomalies, int(0.5 * len(anomalies)))\n",
    "    data0 = data0[[\"bytes\",\"pkts\",\"dur\",\"rate\"]]\n",
    "    index_normal = [] \n",
    "    for i in kse_result:\n",
    "        if i[1] > 0.5:\n",
    "            index_normal.append(i[0])\n",
    "    # final result is a data set of the anomalies of the anomalies\n",
    "    anom = anomalies.iloc[index_normal]\n",
    "    return anom\n",
    "    "
   ]
  },
  {
   "cell_type": "code",
   "execution_count": null,
   "metadata": {
    "collapsed": true
   },
   "outputs": [],
   "source": []
  }
 ],
 "metadata": {
  "kernelspec": {
   "display_name": "Python [default]",
   "language": "python",
   "name": "python3"
  },
  "language_info": {
   "codemirror_mode": {
    "name": "ipython",
    "version": 3
   },
   "file_extension": ".py",
   "mimetype": "text/x-python",
   "name": "python",
   "nbconvert_exporter": "python",
   "pygments_lexer": "ipython3",
   "version": "3.5.2"
  }
 },
 "nbformat": 4,
 "nbformat_minor": 1
}
